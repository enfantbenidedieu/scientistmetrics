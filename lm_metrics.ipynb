{
 "cells": [
  {
   "cell_type": "markdown",
   "metadata": {},
   "source": [
    "# Linear Regression"
   ]
  },
  {
   "cell_type": "code",
   "execution_count": 1,
   "metadata": {},
   "outputs": [
    {
     "data": {
      "text/html": [
       "<div>\n",
       "<style scoped>\n",
       "    .dataframe tbody tr th:only-of-type {\n",
       "        vertical-align: middle;\n",
       "    }\n",
       "\n",
       "    .dataframe tbody tr th {\n",
       "        vertical-align: top;\n",
       "    }\n",
       "\n",
       "    .dataframe thead th {\n",
       "        text-align: right;\n",
       "    }\n",
       "</style>\n",
       "<table border=\"1\" class=\"dataframe\">\n",
       "  <thead>\n",
       "    <tr style=\"text-align: right;\">\n",
       "      <th></th>\n",
       "      <th>sid</th>\n",
       "      <th>state</th>\n",
       "      <th>crime</th>\n",
       "      <th>murder</th>\n",
       "      <th>pctmetro</th>\n",
       "      <th>pctwhite</th>\n",
       "      <th>pcths</th>\n",
       "      <th>poverty</th>\n",
       "      <th>single</th>\n",
       "    </tr>\n",
       "  </thead>\n",
       "  <tbody>\n",
       "    <tr>\n",
       "      <th>0</th>\n",
       "      <td>1.0</td>\n",
       "      <td>ak</td>\n",
       "      <td>761</td>\n",
       "      <td>9.0</td>\n",
       "      <td>41.799999</td>\n",
       "      <td>75.199997</td>\n",
       "      <td>86.599998</td>\n",
       "      <td>9.100000</td>\n",
       "      <td>14.3</td>\n",
       "    </tr>\n",
       "    <tr>\n",
       "      <th>1</th>\n",
       "      <td>2.0</td>\n",
       "      <td>al</td>\n",
       "      <td>780</td>\n",
       "      <td>11.6</td>\n",
       "      <td>67.400002</td>\n",
       "      <td>73.500000</td>\n",
       "      <td>66.900002</td>\n",
       "      <td>17.400000</td>\n",
       "      <td>11.5</td>\n",
       "    </tr>\n",
       "    <tr>\n",
       "      <th>2</th>\n",
       "      <td>3.0</td>\n",
       "      <td>ar</td>\n",
       "      <td>593</td>\n",
       "      <td>10.2</td>\n",
       "      <td>44.700001</td>\n",
       "      <td>82.900002</td>\n",
       "      <td>66.300003</td>\n",
       "      <td>20.000000</td>\n",
       "      <td>10.7</td>\n",
       "    </tr>\n",
       "    <tr>\n",
       "      <th>3</th>\n",
       "      <td>4.0</td>\n",
       "      <td>az</td>\n",
       "      <td>715</td>\n",
       "      <td>8.6</td>\n",
       "      <td>84.699997</td>\n",
       "      <td>88.599998</td>\n",
       "      <td>78.699997</td>\n",
       "      <td>15.400000</td>\n",
       "      <td>12.1</td>\n",
       "    </tr>\n",
       "    <tr>\n",
       "      <th>4</th>\n",
       "      <td>5.0</td>\n",
       "      <td>ca</td>\n",
       "      <td>1078</td>\n",
       "      <td>13.1</td>\n",
       "      <td>96.699997</td>\n",
       "      <td>79.300003</td>\n",
       "      <td>76.199997</td>\n",
       "      <td>18.200001</td>\n",
       "      <td>12.5</td>\n",
       "    </tr>\n",
       "  </tbody>\n",
       "</table>\n",
       "</div>"
      ],
      "text/plain": [
       "   sid state  crime  murder   pctmetro   pctwhite      pcths    poverty  \\\n",
       "0  1.0    ak    761     9.0  41.799999  75.199997  86.599998   9.100000   \n",
       "1  2.0    al    780    11.6  67.400002  73.500000  66.900002  17.400000   \n",
       "2  3.0    ar    593    10.2  44.700001  82.900002  66.300003  20.000000   \n",
       "3  4.0    az    715     8.6  84.699997  88.599998  78.699997  15.400000   \n",
       "4  5.0    ca   1078    13.1  96.699997  79.300003  76.199997  18.200001   \n",
       "\n",
       "   single  \n",
       "0    14.3  \n",
       "1    11.5  \n",
       "2    10.7  \n",
       "3    12.1  \n",
       "4    12.5  "
      ]
     },
     "execution_count": 1,
     "metadata": {},
     "output_type": "execute_result"
    }
   ],
   "source": [
    "# Load dataset\n",
    "import pandas as pd\n",
    "cdata = pd.read_stata(\"https://stats.idre.ucla.edu/stat/data/crime.dta\")\n",
    "cdata.head()"
   ]
  },
  {
   "cell_type": "code",
   "execution_count": 2,
   "metadata": {},
   "outputs": [],
   "source": [
    "# Model fit\n",
    "import statsmodels.formula.api as smf\n",
    "formula = \"crime~poverty+single+murder+pctmetro+pctwhite+pcths\"\n",
    "ols = smf.ols(formula,data=cdata).fit()"
   ]
  },
  {
   "cell_type": "markdown",
   "metadata": {},
   "source": [
    "## Coefficients"
   ]
  },
  {
   "cell_type": "code",
   "execution_count": 3,
   "metadata": {},
   "outputs": [
    {
     "data": {
      "text/html": [
       "<table class=\"simpletable\">\n",
       "<tr>\n",
       "      <td></td>         <th>coef</th>     <th>std err</th>      <th>t</th>      <th>P>|t|</th>  <th>[0.025</th>    <th>0.975]</th>  \n",
       "</tr>\n",
       "<tr>\n",
       "  <th>Intercept</th> <td>-1143.7912</td> <td>  584.999</td> <td>   -1.955</td> <td> 0.057</td> <td>-2322.780</td> <td>   35.197</td>\n",
       "</tr>\n",
       "<tr>\n",
       "  <th>poverty</th>   <td>   15.0068</td> <td>    9.722</td> <td>    1.544</td> <td> 0.130</td> <td>   -4.587</td> <td>   34.601</td>\n",
       "</tr>\n",
       "<tr>\n",
       "  <th>single</th>    <td>   54.8519</td> <td>   21.304</td> <td>    2.575</td> <td> 0.013</td> <td>   11.917</td> <td>   97.787</td>\n",
       "</tr>\n",
       "<tr>\n",
       "  <th>murder</th>    <td>   19.3315</td> <td>    4.444</td> <td>    4.350</td> <td> 0.000</td> <td>   10.375</td> <td>   28.288</td>\n",
       "</tr>\n",
       "<tr>\n",
       "  <th>pctmetro</th>  <td>    6.6218</td> <td>    1.119</td> <td>    5.920</td> <td> 0.000</td> <td>    4.368</td> <td>    8.876</td>\n",
       "</tr>\n",
       "<tr>\n",
       "  <th>pctwhite</th>  <td>   -0.6983</td> <td>    2.505</td> <td>   -0.279</td> <td> 0.782</td> <td>   -5.747</td> <td>    4.350</td>\n",
       "</tr>\n",
       "<tr>\n",
       "  <th>pcths</th>     <td>    4.7913</td> <td>    6.678</td> <td>    0.717</td> <td> 0.477</td> <td>   -8.668</td> <td>   18.250</td>\n",
       "</tr>\n",
       "</table>"
      ],
      "text/latex": [
       "\\begin{center}\n",
       "\\begin{tabular}{lcccccc}\n",
       "\\toprule\n",
       "                   & \\textbf{coef} & \\textbf{std err} & \\textbf{t} & \\textbf{P$> |$t$|$} & \\textbf{[0.025} & \\textbf{0.975]}  \\\\\n",
       "\\midrule\n",
       "\\textbf{Intercept} &   -1143.7912  &      584.999     &    -1.955  &         0.057        &    -2322.780    &       35.197     \\\\\n",
       "\\textbf{poverty}   &      15.0068  &        9.722     &     1.544  &         0.130        &       -4.587    &       34.601     \\\\\n",
       "\\textbf{single}    &      54.8519  &       21.304     &     2.575  &         0.013        &       11.917    &       97.787     \\\\\n",
       "\\textbf{murder}    &      19.3315  &        4.444     &     4.350  &         0.000        &       10.375    &       28.288     \\\\\n",
       "\\textbf{pctmetro}  &       6.6218  &        1.119     &     5.920  &         0.000        &        4.368    &        8.876     \\\\\n",
       "\\textbf{pctwhite}  &      -0.6983  &        2.505     &    -0.279  &         0.782        &       -5.747    &        4.350     \\\\\n",
       "\\textbf{pcths}     &       4.7913  &        6.678     &     0.717  &         0.477        &       -8.668    &       18.250     \\\\\n",
       "\\bottomrule\n",
       "\\end{tabular}\n",
       "\\end{center}"
      ],
      "text/plain": [
       "<class 'statsmodels.iolib.table.SimpleTable'>"
      ]
     },
     "execution_count": 3,
     "metadata": {},
     "output_type": "execute_result"
    }
   ],
   "source": [
    "from scientistmetrics import coefficients\n",
    "coefficients(ols)"
   ]
  },
  {
   "cell_type": "markdown",
   "metadata": {},
   "source": [
    "## Metrics with ols model\n",
    "### R2"
   ]
  },
  {
   "cell_type": "code",
   "execution_count": 4,
   "metadata": {},
   "outputs": [
    {
     "data": {
      "text/plain": [
       "0.8950092460587786"
      ]
     },
     "execution_count": 4,
     "metadata": {},
     "output_type": "execute_result"
    }
   ],
   "source": [
    "# R - squared\n",
    "from scientistmetrics import r2_score\n",
    "r2_score(ols,adjust=False)"
   ]
  },
  {
   "cell_type": "markdown",
   "metadata": {},
   "source": [
    "### Adjusted R2"
   ]
  },
  {
   "cell_type": "code",
   "execution_count": 5,
   "metadata": {},
   "outputs": [
    {
     "data": {
      "text/plain": [
       "0.8806923250667938"
      ]
     },
     "execution_count": 5,
     "metadata": {},
     "output_type": "execute_result"
    }
   ],
   "source": [
    "# Adjusted r-squared\n",
    "r2_score(ols,adjust=True)"
   ]
  },
  {
   "cell_type": "markdown",
   "metadata": {},
   "source": [
    "### Mean Squared Error (MSE)"
   ]
  },
  {
   "cell_type": "code",
   "execution_count": 6,
   "metadata": {},
   "outputs": [
    {
     "data": {
      "text/plain": [
       "20027.448984038703"
      ]
     },
     "execution_count": 6,
     "metadata": {},
     "output_type": "execute_result"
    }
   ],
   "source": [
    "from scientistmetrics import mean_squared_error\n",
    "mean_squared_error(ols,squared=True)"
   ]
  },
  {
   "cell_type": "markdown",
   "metadata": {},
   "source": [
    "### Root Mean Squared Error (RMSE)"
   ]
  },
  {
   "cell_type": "code",
   "execution_count": 7,
   "metadata": {},
   "outputs": [
    {
     "data": {
      "text/plain": [
       "141.51836977593652"
      ]
     },
     "execution_count": 7,
     "metadata": {},
     "output_type": "execute_result"
    }
   ],
   "source": [
    "# Root mean squared error\n",
    "mean_squared_error(ols,squared=False)"
   ]
  },
  {
   "cell_type": "markdown",
   "metadata": {},
   "source": [
    "### Median Absolute Error"
   ]
  },
  {
   "cell_type": "code",
   "execution_count": 8,
   "metadata": {},
   "outputs": [
    {
     "data": {
      "text/plain": [
       "96.79076994319689"
      ]
     },
     "execution_count": 8,
     "metadata": {},
     "output_type": "execute_result"
    }
   ],
   "source": [
    "# Median Absolute Error\n",
    "from scientistmetrics import median_absolute_error\n",
    "median_absolute_error(ols)"
   ]
  },
  {
   "cell_type": "markdown",
   "metadata": {},
   "source": [
    "### Max Error"
   ]
  },
  {
   "cell_type": "code",
   "execution_count": 9,
   "metadata": {},
   "outputs": [
    {
     "data": {
      "text/plain": [
       "415.1971734188437"
      ]
     },
     "execution_count": 9,
     "metadata": {},
     "output_type": "execute_result"
    }
   ],
   "source": [
    "# Max Error\n",
    "from scientistmetrics import max_error\n",
    "max_error(ols)"
   ]
  },
  {
   "cell_type": "markdown",
   "metadata": {},
   "source": [
    "### Explained Variance Score"
   ]
  },
  {
   "cell_type": "code",
   "execution_count": 10,
   "metadata": {},
   "outputs": [
    {
     "data": {
      "text/plain": [
       "0.8950092460587787"
      ]
     },
     "execution_count": 10,
     "metadata": {},
     "output_type": "execute_result"
    }
   ],
   "source": [
    "# Explained Variance Score\n",
    "from scientistmetrics import explained_variance_score\n",
    "explained_variance_score(ols)"
   ]
  },
  {
   "cell_type": "markdown",
   "metadata": {},
   "source": [
    "### Mean absolute error"
   ]
  },
  {
   "cell_type": "code",
   "execution_count": 11,
   "metadata": {},
   "outputs": [
    {
     "data": {
      "text/plain": [
       "116.40764521951125"
      ]
     },
     "execution_count": 11,
     "metadata": {},
     "output_type": "execute_result"
    }
   ],
   "source": [
    "from scientistmetrics import mean_absolute_error\n",
    "mean_absolute_error(ols)"
   ]
  },
  {
   "cell_type": "markdown",
   "metadata": {},
   "source": [
    "### Mean Absolute Percentage error"
   ]
  },
  {
   "cell_type": "code",
   "execution_count": 12,
   "metadata": {},
   "outputs": [
    {
     "data": {
      "text/plain": [
       "0.26251524299598006"
      ]
     },
     "execution_count": 12,
     "metadata": {},
     "output_type": "execute_result"
    }
   ],
   "source": [
    "mean_absolute_error(ols,percentage=True)"
   ]
  },
  {
   "cell_type": "markdown",
   "metadata": {},
   "source": [
    "### Others metrics\n",
    "\n",
    "#### AIC"
   ]
  },
  {
   "cell_type": "code",
   "execution_count": 13,
   "metadata": {},
   "outputs": [
    {
     "data": {
      "text/plain": [
       "663.8795424871918"
      ]
     },
     "execution_count": 13,
     "metadata": {},
     "output_type": "execute_result"
    }
   ],
   "source": [
    "from scientistmetrics import extractAIC\n",
    "extractAIC(ols)"
   ]
  },
  {
   "cell_type": "markdown",
   "metadata": {},
   "source": [
    "#### AICC"
   ]
  },
  {
   "cell_type": "code",
   "execution_count": 14,
   "metadata": {},
   "outputs": [
    {
     "data": {
      "text/plain": [
       "666.4841936499824"
      ]
     },
     "execution_count": 14,
     "metadata": {},
     "output_type": "execute_result"
    }
   ],
   "source": [
    "from scientistmetrics import extractAICC\n",
    "extractAICC(ols)"
   ]
  },
  {
   "cell_type": "markdown",
   "metadata": {},
   "source": [
    "#### BIC"
   ]
  },
  {
   "cell_type": "code",
   "execution_count": 15,
   "metadata": {},
   "outputs": [
    {
     "data": {
      "text/plain": [
       "677.402321916262"
      ]
     },
     "execution_count": 15,
     "metadata": {},
     "output_type": "execute_result"
    }
   ],
   "source": [
    "from scientistmetrics import extractBIC\n",
    "extractBIC(ols)"
   ]
  },
  {
   "cell_type": "markdown",
   "metadata": {},
   "source": [
    "### Likelihood Ratio test\n",
    "\n",
    "#### Full model versus null model"
   ]
  },
  {
   "cell_type": "code",
   "execution_count": 16,
   "metadata": {},
   "outputs": [
    {
     "data": {
      "text/plain": [
       "LikelihoodRatioTestResult(statistic=114.94803251063342, df_denom=6.0, pvalue=1.8722969832734026e-22)"
      ]
     },
     "execution_count": 16,
     "metadata": {},
     "output_type": "execute_result"
    }
   ],
   "source": [
    "from scientistmetrics import LikelihoodRatioTest\n",
    "LikelihoodRatioTest(ols)"
   ]
  },
  {
   "cell_type": "markdown",
   "metadata": {},
   "source": [
    "#### Full model versus nested model"
   ]
  },
  {
   "cell_type": "code",
   "execution_count": 17,
   "metadata": {},
   "outputs": [
    {
     "data": {
      "text/plain": [
       "LikelihoodRatioTestResult(statistic=52.30837024703442, df_denom=4.0, pvalue=1.189100321839507e-10)"
      ]
     },
     "execution_count": 17,
     "metadata": {},
     "output_type": "execute_result"
    }
   ],
   "source": [
    "ols2 = smf.ols(\"crime ~ poverty + single\", data = cdata).fit()\n",
    "LikelihoodRatioTest(ols,ols2)"
   ]
  },
  {
   "cell_type": "markdown",
   "metadata": {},
   "source": [
    "### Autocorrelation test"
   ]
  },
  {
   "cell_type": "code",
   "execution_count": 18,
   "metadata": {},
   "outputs": [],
   "source": [
    "from scientistmetrics import check_autocorrelation"
   ]
  },
  {
   "cell_type": "markdown",
   "metadata": {},
   "source": [
    "#### Durbin - Watson"
   ]
  },
  {
   "cell_type": "code",
   "execution_count": 19,
   "metadata": {},
   "outputs": [
    {
     "data": {
      "text/plain": [
       "1.701742281001304"
      ]
     },
     "execution_count": 19,
     "metadata": {},
     "output_type": "execute_result"
    }
   ],
   "source": [
    "\n",
    "check_autocorrelation(ols,test =\"dw\")"
   ]
  },
  {
   "cell_type": "markdown",
   "metadata": {},
   "source": [
    "#### Breusch - Godfrey"
   ]
  },
  {
   "cell_type": "code",
   "execution_count": 20,
   "metadata": {},
   "outputs": [
    {
     "data": {
      "text/plain": [
       "{'lm': 7.4384358473101155,\n",
       " 'lm-pvalue': 0.6835062097907081,\n",
       " 'fvalue': 0.5805733189976061,\n",
       " 'f-pvalue': 0.8181297581135918}"
      ]
     },
     "execution_count": 20,
     "metadata": {},
     "output_type": "execute_result"
    }
   ],
   "source": [
    "check_autocorrelation(ols,test=\"bg\")"
   ]
  },
  {
   "cell_type": "markdown",
   "metadata": {},
   "source": [
    "#### Newey - West HAC Covariance Matrix Covariance"
   ]
  },
  {
   "cell_type": "code",
   "execution_count": 21,
   "metadata": {},
   "outputs": [
    {
     "data": {
      "text/plain": [
       "{'cov':                Intercept      poverty       single      murder    pctmetro  \\\n",
       " Intercept  198774.310435 -3190.180937  1006.603611  206.754883 -265.088231   \n",
       " poverty     -3190.180937   111.311772   -52.177664  -18.068109    2.920557   \n",
       " single       1006.603611   -52.177664   596.211933  -96.955787  -15.758682   \n",
       " murder        206.754883   -18.068109   -96.955787   26.615979    2.504526   \n",
       " pctmetro     -265.088231     2.920557   -15.758682    2.504526    1.492383   \n",
       " pctwhite     -395.106568    -8.148921   -18.359849   10.273992    1.722107   \n",
       " pcths       -1547.985653    37.800854   -45.405230   -1.820693    1.787481   \n",
       " \n",
       "              pctwhite        pcths  \n",
       " Intercept -395.106568 -1547.985653  \n",
       " poverty     -8.148921    37.800854  \n",
       " single     -18.359849   -45.405230  \n",
       " murder      10.273992    -1.820693  \n",
       " pctmetro     1.722107     1.787481  \n",
       " pctwhite     8.951494    -3.022580  \n",
       " pcths       -3.022580    22.067493  ,\n",
       " 'coef_model_HAC':                  Coef.    Std.Err.         t         P>|t|       [0.025  \\\n",
       " Intercept -1143.791205  414.115397 -2.762011  8.350784e-03 -1978.385946   \n",
       " poverty      15.006842    9.799678  1.531361  1.328392e-01    -4.743111   \n",
       " single       54.851877   22.679923  2.418521  1.978910e-02     9.143495   \n",
       " murder       19.331538    4.791952  4.034168  2.149886e-04     9.673993   \n",
       " pctmetro      6.621830    1.134701  5.835749  5.880379e-07     4.334990   \n",
       " pctwhite     -0.698329    2.779003 -0.251287  8.027618e-01    -6.299041   \n",
       " pcths         4.791289    4.363327  1.098082  2.781417e-01    -4.002419   \n",
       " \n",
       "                0.975]  \n",
       " Intercept -309.196464  \n",
       " poverty     34.756795  \n",
       " single     100.560259  \n",
       " murder      28.989083  \n",
       " pctmetro     8.908670  \n",
       " pctwhite     4.902384  \n",
       " pcths       13.584996  }"
      ]
     },
     "execution_count": 21,
     "metadata": {},
     "output_type": "execute_result"
    }
   ],
   "source": [
    "check_autocorrelation(ols,test=\"nw\")"
   ]
  },
  {
   "cell_type": "markdown",
   "metadata": {},
   "source": [
    "#### Feasible GLS - Cochrane Orcutt Procedure"
   ]
  },
  {
   "cell_type": "code",
   "execution_count": 22,
   "metadata": {},
   "outputs": [
    {
     "data": {
      "text/plain": [
       "{'coef':              Coef.    Std.Err.         t         P>|t|       [0.025  \\\n",
       " const -1385.748015  566.071326 -2.448010  1.852125e-02 -2527.339640   \n",
       " x1       21.908777    9.289153  2.358533  2.296275e-02     3.175416   \n",
       " x2       38.291443   21.705456  1.764139  8.481201e-02    -5.481781   \n",
       " x3       21.325807    4.435029  4.808493  1.890524e-05    12.381719   \n",
       " x4        7.295659    1.177287  6.197011  1.889722e-07     4.921434   \n",
       " x5        0.702856    2.406261  0.292095  7.716188e-01    -4.149831   \n",
       " x6        6.674360    6.111002  1.092188  2.808324e-01    -5.649650   \n",
       " \n",
       "            0.975]  \n",
       " const -244.156391  \n",
       " x1      40.642139  \n",
       " x2      82.064666  \n",
       " x3      30.269896  \n",
       " x4       9.669884  \n",
       " x5       5.555543  \n",
       " x6      18.998370  ,\n",
       " 'rho': 0.20736213969244727}"
      ]
     },
     "execution_count": 22,
     "metadata": {},
     "output_type": "execute_result"
    }
   ],
   "source": [
    "check_autocorrelation(ols,test=\"corc\")"
   ]
  },
  {
   "cell_type": "markdown",
   "metadata": {},
   "source": [
    "#### Ljung - Box / Box - Pierce"
   ]
  },
  {
   "cell_type": "code",
   "execution_count": 23,
   "metadata": {},
   "outputs": [
    {
     "data": {
      "text/html": [
       "<div>\n",
       "<style scoped>\n",
       "    .dataframe tbody tr th:only-of-type {\n",
       "        vertical-align: middle;\n",
       "    }\n",
       "\n",
       "    .dataframe tbody tr th {\n",
       "        vertical-align: top;\n",
       "    }\n",
       "\n",
       "    .dataframe thead th {\n",
       "        text-align: right;\n",
       "    }\n",
       "</style>\n",
       "<table border=\"1\" class=\"dataframe\">\n",
       "  <thead>\n",
       "    <tr style=\"text-align: right;\">\n",
       "      <th></th>\n",
       "      <th>lb_stat</th>\n",
       "      <th>lb_pvalue</th>\n",
       "      <th>bp_stat</th>\n",
       "      <th>bp_pvalue</th>\n",
       "    </tr>\n",
       "  </thead>\n",
       "  <tbody>\n",
       "    <tr>\n",
       "      <th>1</th>\n",
       "      <td>0.965349</td>\n",
       "      <td>0.325843</td>\n",
       "      <td>0.910707</td>\n",
       "      <td>0.339927</td>\n",
       "    </tr>\n",
       "  </tbody>\n",
       "</table>\n",
       "</div>"
      ],
      "text/plain": [
       "    lb_stat  lb_pvalue   bp_stat  bp_pvalue\n",
       "1  0.965349   0.325843  0.910707   0.339927"
      ]
     },
     "execution_count": 23,
     "metadata": {},
     "output_type": "execute_result"
    }
   ],
   "source": [
    "check_autocorrelation(ols,test=\"lb-bp\",nlags=1)"
   ]
  },
  {
   "cell_type": "markdown",
   "metadata": {},
   "source": [
    "### Heteroscedasticite"
   ]
  },
  {
   "cell_type": "code",
   "execution_count": 24,
   "metadata": {},
   "outputs": [],
   "source": [
    "from scientistmetrics import check_heteroscedasticity"
   ]
  },
  {
   "cell_type": "markdown",
   "metadata": {},
   "source": [
    "#### Breusch - Pagan"
   ]
  },
  {
   "cell_type": "code",
   "execution_count": 25,
   "metadata": {},
   "outputs": [
    {
     "data": {
      "text/plain": [
       "{'lm': 8.12179308378289,\n",
       " 'lm-pvalue': 0.2293155764013604,\n",
       " 'fvalue': 1.3890463298551534,\n",
       " 'f-pvalue': 0.2403680345817599}"
      ]
     },
     "execution_count": 25,
     "metadata": {},
     "output_type": "execute_result"
    }
   ],
   "source": [
    "check_heteroscedasticity(ols,test=\"bp\")"
   ]
  },
  {
   "cell_type": "markdown",
   "metadata": {},
   "source": [
    "#### White test"
   ]
  },
  {
   "cell_type": "code",
   "execution_count": 26,
   "metadata": {},
   "outputs": [
    {
     "data": {
      "text/plain": [
       "{'lm': 34.00168131588642,\n",
       " 'lm-pvalue': 0.1659985203372701,\n",
       " 'fvalue': 1.7039564755356738,\n",
       " 'f-pvalue': 0.09895473322676572}"
      ]
     },
     "execution_count": 26,
     "metadata": {},
     "output_type": "execute_result"
    }
   ],
   "source": [
    "check_heteroscedasticity(ols,test=\"white\")"
   ]
  },
  {
   "cell_type": "markdown",
   "metadata": {},
   "source": [
    "#### Goldfeld - Quandt"
   ]
  },
  {
   "cell_type": "code",
   "execution_count": 27,
   "metadata": {},
   "outputs": [
    {
     "data": {
      "text/plain": [
       "{'fvalue': 0.42699115063628096,\n",
       " 'f-pvalue': 0.9615032668242602,\n",
       " 'alternative': 'increasing'}"
      ]
     },
     "execution_count": 27,
     "metadata": {},
     "output_type": "execute_result"
    }
   ],
   "source": [
    "check_heteroscedasticity(ols,test=\"gq\")"
   ]
  },
  {
   "cell_type": "markdown",
   "metadata": {},
   "source": [
    "### Normality"
   ]
  },
  {
   "cell_type": "code",
   "execution_count": 28,
   "metadata": {},
   "outputs": [],
   "source": [
    "from scientistmetrics import check_normality"
   ]
  },
  {
   "cell_type": "markdown",
   "metadata": {},
   "source": [
    "#### Shapiro test"
   ]
  },
  {
   "cell_type": "code",
   "execution_count": 29,
   "metadata": {},
   "outputs": [
    {
     "data": {
      "text/plain": [
       "NormalityTest(statistic=0.9858171939849854, pvalue=0.7970981597900391)"
      ]
     },
     "execution_count": 29,
     "metadata": {},
     "output_type": "execute_result"
    }
   ],
   "source": [
    "check_normality(ols,test=\"shapiro\")"
   ]
  },
  {
   "cell_type": "markdown",
   "metadata": {},
   "source": [
    "#### Jarque - Bera test"
   ]
  },
  {
   "cell_type": "code",
   "execution_count": 30,
   "metadata": {},
   "outputs": [
    {
     "data": {
      "text/plain": [
       "NormalityTest(statistic=0.31587592270123727, pvalue=0.8539027552989096)"
      ]
     },
     "execution_count": 30,
     "metadata": {},
     "output_type": "execute_result"
    }
   ],
   "source": [
    "check_normality(ols,test=\"jarque-bera\")"
   ]
  },
  {
   "cell_type": "markdown",
   "metadata": {},
   "source": [
    "#### Agostino - Pearson test"
   ]
  },
  {
   "cell_type": "code",
   "execution_count": 31,
   "metadata": {},
   "outputs": [
    {
     "data": {
      "text/plain": [
       "NormalityTest(statistic=0.7214697252181284, pvalue=0.6971638181602863)"
      ]
     },
     "execution_count": 31,
     "metadata": {},
     "output_type": "execute_result"
    }
   ],
   "source": [
    "check_normality(ols,test=\"agostino\")"
   ]
  },
  {
   "cell_type": "markdown",
   "metadata": {},
   "source": [
    "#### Kolmogorov-Smirnov Test"
   ]
  },
  {
   "cell_type": "code",
   "execution_count": 32,
   "metadata": {},
   "outputs": [
    {
     "data": {
      "text/plain": [
       "NormalityTest(statistic=0.08506644874021024, pvalue=0.8238027415824155)"
      ]
     },
     "execution_count": 32,
     "metadata": {},
     "output_type": "execute_result"
    }
   ],
   "source": [
    "check_normality(ols,test=\"kstest\")"
   ]
  },
  {
   "cell_type": "markdown",
   "metadata": {},
   "source": [
    "### Residuals"
   ]
  },
  {
   "cell_type": "code",
   "execution_count": 33,
   "metadata": {},
   "outputs": [],
   "source": [
    "from scientistmetrics import residuals"
   ]
  },
  {
   "cell_type": "markdown",
   "metadata": {},
   "source": [
    "#### Model residuals"
   ]
  },
  {
   "cell_type": "code",
   "execution_count": 34,
   "metadata": {},
   "outputs": [
    {
     "data": {
      "text/plain": [
       "0     170.659449\n",
       "1      92.108287\n",
       "2      96.790770\n",
       "3     -78.344617\n",
       "4      59.725367\n",
       "5     -95.062294\n",
       "6    -154.587557\n",
       "7      91.249431\n",
       "8     415.197173\n",
       "9      -7.813687\n",
       "10   -137.746751\n",
       "11    170.731457\n",
       "12    139.055036\n",
       "13    183.756730\n",
       "14    -60.754966\n",
       "15     88.840521\n",
       "16     25.064119\n",
       "17   -177.416359\n",
       "18    158.234154\n",
       "19    150.463725\n",
       "20    -48.309932\n",
       "21    -55.402855\n",
       "22   -100.101126\n",
       "23     84.675536\n",
       "24   -327.342033\n",
       "25    -34.558728\n",
       "26     57.487180\n",
       "27    -13.082196\n",
       "28     76.080459\n",
       "29   -128.821303\n",
       "30      4.931544\n",
       "31    231.240088\n",
       "32    111.973209\n",
       "33    106.251462\n",
       "34   -128.549951\n",
       "35     11.124275\n",
       "36    -27.695420\n",
       "37   -151.830337\n",
       "38   -190.189560\n",
       "39    270.826840\n",
       "40     35.068417\n",
       "41     92.162657\n",
       "42    -74.221005\n",
       "43   -178.957489\n",
       "44   -174.856876\n",
       "45    -62.451432\n",
       "46   -153.773873\n",
       "47   -200.039132\n",
       "48   -156.124451\n",
       "49     44.697066\n",
       "50    -50.361022\n",
       "dtype: float64"
      ]
     },
     "execution_count": 34,
     "metadata": {},
     "output_type": "execute_result"
    }
   ],
   "source": [
    "residuals(ols,choice=\"response\")"
   ]
  },
  {
   "cell_type": "markdown",
   "metadata": {},
   "source": [
    "#### Pearson residuals"
   ]
  },
  {
   "cell_type": "code",
   "execution_count": 35,
   "metadata": {},
   "outputs": [
    {
     "data": {
      "text/plain": [
       "array([ 1.12010509,  0.60454292,  0.6352759 , -0.51420654,  0.39200107,\n",
       "       -0.62393123, -1.01461895,  0.59890591,  2.72510237, -0.0512843 ,\n",
       "       -0.90408611,  1.12057771,  0.9126729 ,  1.2060677 , -0.39875874,\n",
       "        0.58309528,  0.16450567, -1.16445336,  1.03855299,  0.98755262,\n",
       "       -0.31707709, -0.36363073, -0.65700307,  0.55575885, -2.14847452,\n",
       "       -0.22682253,  0.37731097, -0.0858636 ,  0.49934598, -0.84550489,\n",
       "        0.03236767,  1.51771966,  0.73492422,  0.69737014, -0.8437239 ,\n",
       "        0.07301299, -0.18177593, -0.99652223, -1.24828889,  1.77754309,\n",
       "        0.23016782,  0.60489977, -0.48714165, -1.1745684 , -1.14765446,\n",
       "       -0.40989331, -1.00927842, -1.31293551, -1.02470618,  0.29336443,\n",
       "       -0.3305392 ])"
      ]
     },
     "execution_count": 35,
     "metadata": {},
     "output_type": "execute_result"
    }
   ],
   "source": [
    "residuals(ols,choice=\"pearson\")"
   ]
  },
  {
   "cell_type": "markdown",
   "metadata": {},
   "source": [
    "#### Standardized residuals"
   ]
  },
  {
   "cell_type": "code",
   "execution_count": 36,
   "metadata": {},
   "outputs": [
    {
     "data": {
      "text/plain": [
       "0     1.354346\n",
       "1     0.635342\n",
       "2     0.675436\n",
       "3    -0.535250\n",
       "4     0.418557\n",
       "5    -0.659503\n",
       "6    -1.068856\n",
       "7     0.621676\n",
       "8     2.919516\n",
       "9    -0.055726\n",
       "10   -1.642545\n",
       "11    1.172933\n",
       "12    0.963488\n",
       "13    1.226225\n",
       "14   -0.409174\n",
       "15    0.608015\n",
       "16    0.178270\n",
       "17   -1.332229\n",
       "18    1.084646\n",
       "19    1.042890\n",
       "20   -0.336371\n",
       "21   -0.377618\n",
       "22   -0.679544\n",
       "23    0.568139\n",
       "24   -2.625368\n",
       "25   -0.243959\n",
       "26    0.395558\n",
       "27   -0.091023\n",
       "28    0.519389\n",
       "29   -0.876505\n",
       "30    0.034195\n",
       "31    1.644099\n",
       "32    0.777585\n",
       "33    0.718504\n",
       "34   -0.863815\n",
       "35    0.077804\n",
       "36   -0.186785\n",
       "37   -1.035457\n",
       "38   -1.373735\n",
       "39    1.872424\n",
       "40    0.241817\n",
       "41    0.630608\n",
       "42   -0.501059\n",
       "43   -1.242952\n",
       "44   -1.212011\n",
       "45   -0.447490\n",
       "46   -1.066451\n",
       "47   -1.332830\n",
       "48   -1.149936\n",
       "49    0.313348\n",
       "50   -1.428568\n",
       "dtype: float64"
      ]
     },
     "execution_count": 36,
     "metadata": {},
     "output_type": "execute_result"
    }
   ],
   "source": [
    "from scientistmetrics import rstandard\n",
    "rstandard(ols,choice=\"sd_1\")"
   ]
  },
  {
   "cell_type": "markdown",
   "metadata": {},
   "source": [
    "#### Leave - one out CV residuals"
   ]
  },
  {
   "cell_type": "code",
   "execution_count": 37,
   "metadata": {},
   "outputs": [
    {
     "data": {
      "text/plain": [
       "0     249.500998\n",
       "1     101.732547\n",
       "2     109.415196\n",
       "3     -84.888333\n",
       "4      68.091733\n",
       "5    -106.210684\n",
       "6    -171.556427\n",
       "7      98.319799\n",
       "8     476.552175\n",
       "9      -9.225827\n",
       "10   -454.669876\n",
       "11    187.058002\n",
       "12    154.970490\n",
       "13    189.950311\n",
       "14    -63.970027\n",
       "15     96.596435\n",
       "16     29.433793\n",
       "17   -232.224174\n",
       "18    172.591420\n",
       "19    167.798500\n",
       "20    -54.368085\n",
       "21    -59.747047\n",
       "22   -107.087711\n",
       "23     88.489983\n",
       "24   -488.789246\n",
       "25    -39.977957\n",
       "26     63.181818\n",
       "27    -14.701575\n",
       "28     82.310439\n",
       "29   -138.440717\n",
       "30      5.503955\n",
       "31    271.353719\n",
       "32    125.350206\n",
       "33    112.789065\n",
       "34   -134.745077\n",
       "35     12.632037\n",
       "36    -29.242915\n",
       "37   -163.926465\n",
       "38   -230.336206\n",
       "39    300.510671\n",
       "40     38.707833\n",
       "41    100.162990\n",
       "42    -78.522378\n",
       "43   -200.401876\n",
       "44   -195.017623\n",
       "45    -74.433244\n",
       "46   -171.688951\n",
       "47   -206.147397\n",
       "48   -196.616447\n",
       "49     50.993784\n",
       "50   -940.698066\n",
       "dtype: float64"
      ]
     },
     "execution_count": 37,
     "metadata": {},
     "output_type": "execute_result"
    }
   ],
   "source": [
    "rstandard(ols,choice=\"predictive\")"
   ]
  },
  {
   "cell_type": "markdown",
   "metadata": {},
   "source": [
    "### Overall performance"
   ]
  },
  {
   "cell_type": "code",
   "execution_count": 38,
   "metadata": {},
   "outputs": [
    {
     "data": {
      "text/plain": [
       "AIC                             663.879542\n",
       "AICC                            666.484194\n",
       "BIC                             677.402322\n",
       "r2 score                          0.895009\n",
       "r2 score adj.                     0.880692\n",
       "expl. var. score                  0.895009\n",
       "mean abs. error                 116.407645\n",
       "median abs. error                96.790770\n",
       "mean sq. error                20027.448984\n",
       "root mean sq. error             141.518370\n",
       "mean abs. percentage error        0.262515\n",
       "Name: statistics, dtype: float64"
      ]
     },
     "execution_count": 38,
     "metadata": {},
     "output_type": "execute_result"
    }
   ],
   "source": [
    "from scientistmetrics import model_performance\n",
    "model_performance(ols,metrics=\"all\")"
   ]
  },
  {
   "cell_type": "markdown",
   "metadata": {},
   "source": [
    "### Model check"
   ]
  },
  {
   "cell_type": "code",
   "execution_count": 39,
   "metadata": {},
   "outputs": [
    {
     "data": {
      "image/png": "[encoded data removed]",
      "text/plain": [
       "<Figure size 864x720 with 6 Axes>"
      ]
     },
     "metadata": {
      "needs_background": "light"
     },
     "output_type": "display_data"
    }
   ],
   "source": [
    "from scientistmetrics import check_model\n",
    "check_model(ols)"
   ]
  },
  {
   "cell_type": "markdown",
   "metadata": {},
   "source": [
    "## Test"
   ]
  },
  {
   "cell_type": "code",
   "execution_count": 40,
   "metadata": {},
   "outputs": [
    {
     "data": {
      "text/plain": [
       "0     590.340551\n",
       "1     687.891713\n",
       "2     496.209230\n",
       "3     793.344617\n",
       "4    1018.274633\n",
       "5     662.062294\n",
       "dtype: float64"
      ]
     },
     "execution_count": 40,
     "metadata": {},
     "output_type": "execute_result"
    }
   ],
   "source": [
    "#test de normalité de Jarque-Bera\n",
    "pred = ols.predict(cdata)\n",
    "pred.head(6)"
   ]
  },
  {
   "cell_type": "markdown",
   "metadata": {},
   "source": [
    "### y-pred and y-true"
   ]
  },
  {
   "cell_type": "code",
   "execution_count": 41,
   "metadata": {},
   "outputs": [],
   "source": [
    "y_true = cdata[\"crime\"]\n",
    "y_pred = pred"
   ]
  },
  {
   "cell_type": "markdown",
   "metadata": {},
   "source": [
    "### Metrics\n",
    "\n",
    "#### R2"
   ]
  },
  {
   "cell_type": "code",
   "execution_count": 42,
   "metadata": {},
   "outputs": [
    {
     "data": {
      "text/plain": [
       "0.8950092460587787"
      ]
     },
     "execution_count": 42,
     "metadata": {},
     "output_type": "execute_result"
    }
   ],
   "source": [
    "r2_score(y_true=y_true,y_pred=y_pred)"
   ]
  },
  {
   "cell_type": "markdown",
   "metadata": {},
   "source": [
    "#### Mean Squared Error (MSE)"
   ]
  },
  {
   "cell_type": "code",
   "execution_count": 43,
   "metadata": {},
   "outputs": [
    {
     "data": {
      "text/plain": [
       "20027.448984038703"
      ]
     },
     "execution_count": 43,
     "metadata": {},
     "output_type": "execute_result"
    }
   ],
   "source": [
    "mean_squared_error(y_true=y_true,y_pred=y_pred)"
   ]
  },
  {
   "cell_type": "markdown",
   "metadata": {},
   "source": [
    "#### Root Mean Squared Error (RMSE)"
   ]
  },
  {
   "cell_type": "code",
   "execution_count": 44,
   "metadata": {},
   "outputs": [
    {
     "data": {
      "text/plain": [
       "141.51836977593652"
      ]
     },
     "execution_count": 44,
     "metadata": {},
     "output_type": "execute_result"
    }
   ],
   "source": [
    "mean_squared_error(y_true=y_true,y_pred=y_pred,squared=False)"
   ]
  },
  {
   "cell_type": "markdown",
   "metadata": {},
   "source": [
    "#### Median Absolute Error"
   ]
  },
  {
   "cell_type": "code",
   "execution_count": 45,
   "metadata": {},
   "outputs": [
    {
     "data": {
      "text/plain": [
       "96.79076994319689"
      ]
     },
     "execution_count": 45,
     "metadata": {},
     "output_type": "execute_result"
    }
   ],
   "source": [
    "median_absolute_error(y_true=y_true,y_pred=y_pred)"
   ]
  },
  {
   "cell_type": "markdown",
   "metadata": {},
   "source": [
    "#### Max Error"
   ]
  },
  {
   "cell_type": "code",
   "execution_count": 46,
   "metadata": {},
   "outputs": [
    {
     "data": {
      "text/plain": [
       "415.1971734188437"
      ]
     },
     "execution_count": 46,
     "metadata": {},
     "output_type": "execute_result"
    }
   ],
   "source": [
    "max_error(y_true=y_true,y_pred=y_pred)"
   ]
  },
  {
   "cell_type": "markdown",
   "metadata": {},
   "source": [
    "#### Explained variance score"
   ]
  },
  {
   "cell_type": "code",
   "execution_count": 47,
   "metadata": {},
   "outputs": [
    {
     "data": {
      "text/plain": [
       "0.8950092460587787"
      ]
     },
     "execution_count": 47,
     "metadata": {},
     "output_type": "execute_result"
    }
   ],
   "source": [
    "explained_variance_score(y_true=y_true,y_pred=y_pred)"
   ]
  },
  {
   "cell_type": "markdown",
   "metadata": {},
   "source": [
    "#### Mean Absolute Error"
   ]
  },
  {
   "cell_type": "code",
   "execution_count": 48,
   "metadata": {},
   "outputs": [
    {
     "data": {
      "text/plain": [
       "116.40764521951125"
      ]
     },
     "execution_count": 48,
     "metadata": {},
     "output_type": "execute_result"
    }
   ],
   "source": [
    "mean_absolute_error(y_true=y_true,y_pred=y_pred)"
   ]
  },
  {
   "cell_type": "markdown",
   "metadata": {},
   "source": [
    "#### Mean Absolute Percentage Error (MAPE)"
   ]
  },
  {
   "cell_type": "code",
   "execution_count": 49,
   "metadata": {},
   "outputs": [
    {
     "data": {
      "text/plain": [
       "0.26251524299598006"
      ]
     },
     "execution_count": 49,
     "metadata": {},
     "output_type": "execute_result"
    }
   ],
   "source": [
    "mean_absolute_error(y_true=y_true,y_pred=y_pred,percentage=True)"
   ]
  },
  {
   "cell_type": "markdown",
   "metadata": {},
   "source": [
    "## Power set"
   ]
  },
  {
   "cell_type": "code",
   "execution_count": 50,
   "metadata": {},
   "outputs": [
    {
     "data": {
      "text/html": [
       "<div>\n",
       "<style scoped>\n",
       "    .dataframe tbody tr th:only-of-type {\n",
       "        vertical-align: middle;\n",
       "    }\n",
       "\n",
       "    .dataframe tbody tr th {\n",
       "        vertical-align: top;\n",
       "    }\n",
       "\n",
       "    .dataframe thead th {\n",
       "        text-align: right;\n",
       "    }\n",
       "</style>\n",
       "<table border=\"1\" class=\"dataframe\">\n",
       "  <thead>\n",
       "    <tr style=\"text-align: right;\">\n",
       "      <th></th>\n",
       "      <th>crime</th>\n",
       "      <th>murder</th>\n",
       "      <th>pctmetro</th>\n",
       "      <th>pctwhite</th>\n",
       "      <th>pcths</th>\n",
       "      <th>poverty</th>\n",
       "      <th>single</th>\n",
       "    </tr>\n",
       "  </thead>\n",
       "  <tbody>\n",
       "    <tr>\n",
       "      <th>0</th>\n",
       "      <td>761</td>\n",
       "      <td>9.0</td>\n",
       "      <td>41.799999</td>\n",
       "      <td>75.199997</td>\n",
       "      <td>86.599998</td>\n",
       "      <td>9.100000</td>\n",
       "      <td>14.3</td>\n",
       "    </tr>\n",
       "    <tr>\n",
       "      <th>1</th>\n",
       "      <td>780</td>\n",
       "      <td>11.6</td>\n",
       "      <td>67.400002</td>\n",
       "      <td>73.500000</td>\n",
       "      <td>66.900002</td>\n",
       "      <td>17.400000</td>\n",
       "      <td>11.5</td>\n",
       "    </tr>\n",
       "    <tr>\n",
       "      <th>2</th>\n",
       "      <td>593</td>\n",
       "      <td>10.2</td>\n",
       "      <td>44.700001</td>\n",
       "      <td>82.900002</td>\n",
       "      <td>66.300003</td>\n",
       "      <td>20.000000</td>\n",
       "      <td>10.7</td>\n",
       "    </tr>\n",
       "    <tr>\n",
       "      <th>3</th>\n",
       "      <td>715</td>\n",
       "      <td>8.6</td>\n",
       "      <td>84.699997</td>\n",
       "      <td>88.599998</td>\n",
       "      <td>78.699997</td>\n",
       "      <td>15.400000</td>\n",
       "      <td>12.1</td>\n",
       "    </tr>\n",
       "    <tr>\n",
       "      <th>4</th>\n",
       "      <td>1078</td>\n",
       "      <td>13.1</td>\n",
       "      <td>96.699997</td>\n",
       "      <td>79.300003</td>\n",
       "      <td>76.199997</td>\n",
       "      <td>18.200001</td>\n",
       "      <td>12.5</td>\n",
       "    </tr>\n",
       "  </tbody>\n",
       "</table>\n",
       "</div>"
      ],
      "text/plain": [
       "   crime  murder   pctmetro   pctwhite      pcths    poverty  single\n",
       "0    761     9.0  41.799999  75.199997  86.599998   9.100000    14.3\n",
       "1    780    11.6  67.400002  73.500000  66.900002  17.400000    11.5\n",
       "2    593    10.2  44.700001  82.900002  66.300003  20.000000    10.7\n",
       "3    715     8.6  84.699997  88.599998  78.699997  15.400000    12.1\n",
       "4   1078    13.1  96.699997  79.300003  76.199997  18.200001    12.5"
      ]
     },
     "execution_count": 50,
     "metadata": {},
     "output_type": "execute_result"
    }
   ],
   "source": [
    "# Powerset model\n",
    "D = cdata.drop([\"sid\",\"state\"],axis=\"columns\")\n",
    "D.head()"
   ]
  },
  {
   "cell_type": "code",
   "execution_count": 51,
   "metadata": {},
   "outputs": [
    {
     "data": {
      "text/html": [
       "<div>\n",
       "<style scoped>\n",
       "    .dataframe tbody tr th:only-of-type {\n",
       "        vertical-align: middle;\n",
       "    }\n",
       "\n",
       "    .dataframe tbody tr th {\n",
       "        vertical-align: top;\n",
       "    }\n",
       "\n",
       "    .dataframe thead th {\n",
       "        text-align: right;\n",
       "    }\n",
       "</style>\n",
       "<table border=\"1\" class=\"dataframe\">\n",
       "  <thead>\n",
       "    <tr style=\"text-align: right;\">\n",
       "      <th></th>\n",
       "      <th>predictor</th>\n",
       "      <th>count</th>\n",
       "      <th>aic</th>\n",
       "      <th>bic</th>\n",
       "      <th>rsquared</th>\n",
       "      <th>adj. rsquared</th>\n",
       "      <th>expl. var. score</th>\n",
       "      <th>max error</th>\n",
       "      <th>mean abs. error</th>\n",
       "      <th>mean sq. error</th>\n",
       "      <th>median abs. error</th>\n",
       "      <th>r2 score</th>\n",
       "      <th>mean abs. percentage error</th>\n",
       "      <th>likelihood test ratio</th>\n",
       "    </tr>\n",
       "  </thead>\n",
       "  <tbody>\n",
       "    <tr>\n",
       "      <th>0</th>\n",
       "      <td>murder</td>\n",
       "      <td>1</td>\n",
       "      <td>690.352940</td>\n",
       "      <td>694.216591</td>\n",
       "      <td>0.785344</td>\n",
       "      <td>0.780963</td>\n",
       "      <td>0.785344</td>\n",
       "      <td>586.863507</td>\n",
       "      <td>161.371705</td>\n",
       "      <td>40946.586017</td>\n",
       "      <td>132.535344</td>\n",
       "      <td>0.785344</td>\n",
       "      <td>0.471231</td>\n",
       "      <td>36.473397</td>\n",
       "    </tr>\n",
       "    <tr>\n",
       "      <th>1</th>\n",
       "      <td>pctmetro</td>\n",
       "      <td>1</td>\n",
       "      <td>750.929328</td>\n",
       "      <td>754.792979</td>\n",
       "      <td>0.295978</td>\n",
       "      <td>0.281610</td>\n",
       "      <td>0.295978</td>\n",
       "      <td>1952.755114</td>\n",
       "      <td>236.831837</td>\n",
       "      <td>134295.252241</td>\n",
       "      <td>165.623628</td>\n",
       "      <td>0.295978</td>\n",
       "      <td>0.534550</td>\n",
       "      <td>97.049785</td>\n",
       "    </tr>\n",
       "    <tr>\n",
       "      <th>2</th>\n",
       "      <td>pctwhite</td>\n",
       "      <td>1</td>\n",
       "      <td>737.537251</td>\n",
       "      <td>741.400902</td>\n",
       "      <td>0.458567</td>\n",
       "      <td>0.447517</td>\n",
       "      <td>0.458567</td>\n",
       "      <td>1325.462675</td>\n",
       "      <td>199.074242</td>\n",
       "      <td>103280.749315</td>\n",
       "      <td>130.338886</td>\n",
       "      <td>0.458567</td>\n",
       "      <td>0.519812</td>\n",
       "      <td>83.657708</td>\n",
       "    </tr>\n",
       "    <tr>\n",
       "      <th>3</th>\n",
       "      <td>pcths</td>\n",
       "      <td>1</td>\n",
       "      <td>765.369230</td>\n",
       "      <td>769.232881</td>\n",
       "      <td>0.065563</td>\n",
       "      <td>0.046492</td>\n",
       "      <td>0.065563</td>\n",
       "      <td>2246.070207</td>\n",
       "      <td>276.167106</td>\n",
       "      <td>178248.044015</td>\n",
       "      <td>250.123618</td>\n",
       "      <td>0.065563</td>\n",
       "      <td>0.775603</td>\n",
       "      <td>111.489688</td>\n",
       "    </tr>\n",
       "    <tr>\n",
       "      <th>4</th>\n",
       "      <td>poverty</td>\n",
       "      <td>1</td>\n",
       "      <td>753.498887</td>\n",
       "      <td>757.362539</td>\n",
       "      <td>0.259598</td>\n",
       "      <td>0.244488</td>\n",
       "      <td>0.259598</td>\n",
       "      <td>1713.931234</td>\n",
       "      <td>256.737941</td>\n",
       "      <td>141234.873248</td>\n",
       "      <td>178.824440</td>\n",
       "      <td>0.259598</td>\n",
       "      <td>0.693566</td>\n",
       "      <td>99.619345</td>\n",
       "    </tr>\n",
       "    <tr>\n",
       "      <th>...</th>\n",
       "      <td>...</td>\n",
       "      <td>...</td>\n",
       "      <td>...</td>\n",
       "      <td>...</td>\n",
       "      <td>...</td>\n",
       "      <td>...</td>\n",
       "      <td>...</td>\n",
       "      <td>...</td>\n",
       "      <td>...</td>\n",
       "      <td>...</td>\n",
       "      <td>...</td>\n",
       "      <td>...</td>\n",
       "      <td>...</td>\n",
       "      <td>...</td>\n",
       "    </tr>\n",
       "    <tr>\n",
       "      <th>58</th>\n",
       "      <td>pctwhite+poverty+single+pctmetro+murder</td>\n",
       "      <td>5</td>\n",
       "      <td>662.472719</td>\n",
       "      <td>674.063673</td>\n",
       "      <td>0.893781</td>\n",
       "      <td>0.881979</td>\n",
       "      <td>0.893781</td>\n",
       "      <td>432.925169</td>\n",
       "      <td>116.020051</td>\n",
       "      <td>20261.746450</td>\n",
       "      <td>85.330373</td>\n",
       "      <td>0.893781</td>\n",
       "      <td>0.265207</td>\n",
       "      <td>0.593177</td>\n",
       "    </tr>\n",
       "    <tr>\n",
       "      <th>59</th>\n",
       "      <td>poverty+single+pcths+pctmetro+murder</td>\n",
       "      <td>5</td>\n",
       "      <td>661.969552</td>\n",
       "      <td>673.560506</td>\n",
       "      <td>0.894824</td>\n",
       "      <td>0.883138</td>\n",
       "      <td>0.894824</td>\n",
       "      <td>417.052534</td>\n",
       "      <td>116.823116</td>\n",
       "      <td>20062.826649</td>\n",
       "      <td>99.024292</td>\n",
       "      <td>0.894824</td>\n",
       "      <td>0.264064</td>\n",
       "      <td>0.090010</td>\n",
       "    </tr>\n",
       "    <tr>\n",
       "      <th>60</th>\n",
       "      <td>pctwhite+poverty+single+pcths+murder</td>\n",
       "      <td>5</td>\n",
       "      <td>691.759317</td>\n",
       "      <td>703.350270</td>\n",
       "      <td>0.811377</td>\n",
       "      <td>0.790419</td>\n",
       "      <td>0.811377</td>\n",
       "      <td>639.993966</td>\n",
       "      <td>139.532876</td>\n",
       "      <td>35980.664747</td>\n",
       "      <td>103.203991</td>\n",
       "      <td>0.811377</td>\n",
       "      <td>0.393967</td>\n",
       "      <td>29.879774</td>\n",
       "    </tr>\n",
       "    <tr>\n",
       "      <th>61</th>\n",
       "      <td>pctwhite+poverty+single+pcths+pctmetro</td>\n",
       "      <td>5</td>\n",
       "      <td>680.121517</td>\n",
       "      <td>691.712471</td>\n",
       "      <td>0.849862</td>\n",
       "      <td>0.833179</td>\n",
       "      <td>0.849862</td>\n",
       "      <td>533.262377</td>\n",
       "      <td>133.387053</td>\n",
       "      <td>28639.576804</td>\n",
       "      <td>108.470517</td>\n",
       "      <td>0.849862</td>\n",
       "      <td>0.300104</td>\n",
       "      <td>18.241975</td>\n",
       "    </tr>\n",
       "    <tr>\n",
       "      <th>62</th>\n",
       "      <td>pctwhite+poverty+single+pcths+pctmetro+murder</td>\n",
       "      <td>6</td>\n",
       "      <td>663.879542</td>\n",
       "      <td>677.402322</td>\n",
       "      <td>0.895009</td>\n",
       "      <td>0.880692</td>\n",
       "      <td>0.895009</td>\n",
       "      <td>415.197173</td>\n",
       "      <td>116.407645</td>\n",
       "      <td>20027.448984</td>\n",
       "      <td>96.790770</td>\n",
       "      <td>0.895009</td>\n",
       "      <td>0.262515</td>\n",
       "      <td>0.000000</td>\n",
       "    </tr>\n",
       "  </tbody>\n",
       "</table>\n",
       "<p>63 rows × 14 columns</p>\n",
       "</div>"
      ],
      "text/plain": [
       "                                        predictor  count         aic  \\\n",
       "0                                          murder      1  690.352940   \n",
       "1                                        pctmetro      1  750.929328   \n",
       "2                                        pctwhite      1  737.537251   \n",
       "3                                           pcths      1  765.369230   \n",
       "4                                         poverty      1  753.498887   \n",
       "..                                            ...    ...         ...   \n",
       "58        pctwhite+poverty+single+pctmetro+murder      5  662.472719   \n",
       "59           poverty+single+pcths+pctmetro+murder      5  661.969552   \n",
       "60           pctwhite+poverty+single+pcths+murder      5  691.759317   \n",
       "61         pctwhite+poverty+single+pcths+pctmetro      5  680.121517   \n",
       "62  pctwhite+poverty+single+pcths+pctmetro+murder      6  663.879542   \n",
       "\n",
       "           bic  rsquared  adj. rsquared  expl. var. score    max error  \\\n",
       "0   694.216591  0.785344       0.780963          0.785344   586.863507   \n",
       "1   754.792979  0.295978       0.281610          0.295978  1952.755114   \n",
       "2   741.400902  0.458567       0.447517          0.458567  1325.462675   \n",
       "3   769.232881  0.065563       0.046492          0.065563  2246.070207   \n",
       "4   757.362539  0.259598       0.244488          0.259598  1713.931234   \n",
       "..         ...       ...            ...               ...          ...   \n",
       "58  674.063673  0.893781       0.881979          0.893781   432.925169   \n",
       "59  673.560506  0.894824       0.883138          0.894824   417.052534   \n",
       "60  703.350270  0.811377       0.790419          0.811377   639.993966   \n",
       "61  691.712471  0.849862       0.833179          0.849862   533.262377   \n",
       "62  677.402322  0.895009       0.880692          0.895009   415.197173   \n",
       "\n",
       "    mean abs. error  mean sq. error  median abs. error  r2 score  \\\n",
       "0        161.371705    40946.586017         132.535344  0.785344   \n",
       "1        236.831837   134295.252241         165.623628  0.295978   \n",
       "2        199.074242   103280.749315         130.338886  0.458567   \n",
       "3        276.167106   178248.044015         250.123618  0.065563   \n",
       "4        256.737941   141234.873248         178.824440  0.259598   \n",
       "..              ...             ...                ...       ...   \n",
       "58       116.020051    20261.746450          85.330373  0.893781   \n",
       "59       116.823116    20062.826649          99.024292  0.894824   \n",
       "60       139.532876    35980.664747         103.203991  0.811377   \n",
       "61       133.387053    28639.576804         108.470517  0.849862   \n",
       "62       116.407645    20027.448984          96.790770  0.895009   \n",
       "\n",
       "    mean abs. percentage error  likelihood test ratio  \n",
       "0                     0.471231              36.473397  \n",
       "1                     0.534550              97.049785  \n",
       "2                     0.519812              83.657708  \n",
       "3                     0.775603             111.489688  \n",
       "4                     0.693566              99.619345  \n",
       "..                         ...                    ...  \n",
       "58                    0.265207               0.593177  \n",
       "59                    0.264064               0.090010  \n",
       "60                    0.393967              29.879774  \n",
       "61                    0.300104              18.241975  \n",
       "62                    0.262515               0.000000  \n",
       "\n",
       "[63 rows x 14 columns]"
      ]
     },
     "execution_count": 51,
     "metadata": {},
     "output_type": "execute_result"
    }
   ],
   "source": [
    "# Powerset model\n",
    "from scientistmetrics import powersetmodel\n",
    "ols_res = powersetmodel(DTrain=D,target=\"crime\",split_data=False,model_type=\"linear\")\n",
    "# All metrics\n",
    "ols_metrics = ols_res[1]\n",
    "ols_metrics"
   ]
  }
 ],
 "metadata": {
  "kernelspec": {
   "display_name": "Python 3",
   "language": "python",
   "name": "python3"
  },
  "language_info": {
   "codemirror_mode": {
    "name": "ipython",
    "version": 3
   },
   "file_extension": ".py",
   "mimetype": "text/x-python",
   "name": "python",
   "nbconvert_exporter": "python",
   "pygments_lexer": "ipython3",
   "version": "3.10.5"
  }
 },
 "nbformat": 4,
 "nbformat_minor": 2
}
