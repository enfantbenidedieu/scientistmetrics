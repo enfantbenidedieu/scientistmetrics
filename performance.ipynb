{
 "cells": [
  {
   "cell_type": "markdown",
   "metadata": {},
   "source": [
    "# Performance of statistical model\n",
    "\n",
    "[https://stats.oarc.ucla.edu/other/dae/](https://stats.oarc.ucla.edu/other/dae/)\n",
    "\n",
    "## Linear Model\n",
    "\n",
    "$$\n",
    "y_{i} = \\beta_{0} + \\beta_{1}x_{1,i}+\\beta_{2}x_{2,i}+\\cdots+\\beta_{p}x_{p,i}+\\varepsilon_{i},\\quad\\forall i = 1,\\dots,n\n",
    "$$\n",
    "\n",
    "## Logistic Model\n",
    "\n",
    "$$\n",
    "log\\left(\\dfrac{p_{\\beta}}{1-p_{\\beta}}\\right) = \\beta_{0} + \\beta_{1}x_{1,i}+\\beta_{2}x_{2,i}+\\cdots+\\beta_{p}x_{p,i}+\\varepsilon_{i},\\quad\\forall i = 1,\\dots,n\n",
    "$$\n",
    "\n",
    "with $p_{\\beta} = \\mathbb{P}_{\\beta}\\left(Y=1\\lvert X= x\\right)$\n",
    "\n",
    "## Multinomial Logistic Model\n",
    "\n",
    "$$\n",
    "\\log\\left(\\dfrac{\\mathbb{P}_{\\beta}\\left(Y= j\\lvert X= x\\right)}{\\mathbb{P}_{\\beta}\\left(Y=\\text{ref}\\lvert X= x\\right)}\\right) = \n",
    "$$\n",
    "\n",
    "## Ordinal Logistic Model\n",
    "\n",
    "$$\n",
    "\\log\\left(\\dfrac{\\mathbb{P}\\left(Y<j\\lvert X= x\\right)}{\\mathbb{P}\\left(Y\\geq j\\lvert X= x\\right)}\\right)\n",
    "$$\n",
    "\n",
    "## Poisson Model\n",
    "\n",
    "$$\n",
    "\\log \\left(\\lambda(x)\\right) = X\\beta\n",
    "$$\n",
    "\n",
    "## Application"
   ]
  },
  {
   "cell_type": "code",
   "execution_count": 1,
   "metadata": {},
   "outputs": [],
   "source": [
    "# Load packages\n",
    "import pandas as pd\n",
    "import numpy as np\n",
    "from skimpy import skim\n",
    "import scipy.stats as st\n",
    "import statsmodels.formula.api as smf\n",
    "from statsmodels.miscmodels.ordinal_model import OrderedModel # For ordinal logistic regression\n",
    "from scientistmetrics.performance import *"
   ]
  },
  {
   "cell_type": "markdown",
   "metadata": {},
   "source": [
    "### Linear regression"
   ]
  },
  {
   "cell_type": "code",
   "execution_count": 2,
   "metadata": {},
   "outputs": [
    {
     "data": {
      "text/html": [
       "<div>\n",
       "<style scoped>\n",
       "    .dataframe tbody tr th:only-of-type {\n",
       "        vertical-align: middle;\n",
       "    }\n",
       "\n",
       "    .dataframe tbody tr th {\n",
       "        vertical-align: top;\n",
       "    }\n",
       "\n",
       "    .dataframe thead th {\n",
       "        text-align: right;\n",
       "    }\n",
       "</style>\n",
       "<table border=\"1\" class=\"dataframe\">\n",
       "  <thead>\n",
       "    <tr style=\"text-align: right;\">\n",
       "      <th></th>\n",
       "      <th>sid</th>\n",
       "      <th>state</th>\n",
       "      <th>crime</th>\n",
       "      <th>murder</th>\n",
       "      <th>pctmetro</th>\n",
       "      <th>pctwhite</th>\n",
       "      <th>pcths</th>\n",
       "      <th>poverty</th>\n",
       "      <th>single</th>\n",
       "    </tr>\n",
       "  </thead>\n",
       "  <tbody>\n",
       "    <tr>\n",
       "      <th>0</th>\n",
       "      <td>1.0</td>\n",
       "      <td>ak</td>\n",
       "      <td>761</td>\n",
       "      <td>9.0</td>\n",
       "      <td>41.799999</td>\n",
       "      <td>75.199997</td>\n",
       "      <td>86.599998</td>\n",
       "      <td>9.100000</td>\n",
       "      <td>14.3</td>\n",
       "    </tr>\n",
       "    <tr>\n",
       "      <th>1</th>\n",
       "      <td>2.0</td>\n",
       "      <td>al</td>\n",
       "      <td>780</td>\n",
       "      <td>11.6</td>\n",
       "      <td>67.400002</td>\n",
       "      <td>73.500000</td>\n",
       "      <td>66.900002</td>\n",
       "      <td>17.400000</td>\n",
       "      <td>11.5</td>\n",
       "    </tr>\n",
       "    <tr>\n",
       "      <th>2</th>\n",
       "      <td>3.0</td>\n",
       "      <td>ar</td>\n",
       "      <td>593</td>\n",
       "      <td>10.2</td>\n",
       "      <td>44.700001</td>\n",
       "      <td>82.900002</td>\n",
       "      <td>66.300003</td>\n",
       "      <td>20.000000</td>\n",
       "      <td>10.7</td>\n",
       "    </tr>\n",
       "    <tr>\n",
       "      <th>3</th>\n",
       "      <td>4.0</td>\n",
       "      <td>az</td>\n",
       "      <td>715</td>\n",
       "      <td>8.6</td>\n",
       "      <td>84.699997</td>\n",
       "      <td>88.599998</td>\n",
       "      <td>78.699997</td>\n",
       "      <td>15.400000</td>\n",
       "      <td>12.1</td>\n",
       "    </tr>\n",
       "    <tr>\n",
       "      <th>4</th>\n",
       "      <td>5.0</td>\n",
       "      <td>ca</td>\n",
       "      <td>1078</td>\n",
       "      <td>13.1</td>\n",
       "      <td>96.699997</td>\n",
       "      <td>79.300003</td>\n",
       "      <td>76.199997</td>\n",
       "      <td>18.200001</td>\n",
       "      <td>12.5</td>\n",
       "    </tr>\n",
       "  </tbody>\n",
       "</table>\n",
       "</div>"
      ],
      "text/plain": [
       "   sid state  crime  murder   pctmetro   pctwhite      pcths    poverty  \\\n",
       "0  1.0    ak    761     9.0  41.799999  75.199997  86.599998   9.100000   \n",
       "1  2.0    al    780    11.6  67.400002  73.500000  66.900002  17.400000   \n",
       "2  3.0    ar    593    10.2  44.700001  82.900002  66.300003  20.000000   \n",
       "3  4.0    az    715     8.6  84.699997  88.599998  78.699997  15.400000   \n",
       "4  5.0    ca   1078    13.1  96.699997  79.300003  76.199997  18.200001   \n",
       "\n",
       "   single  \n",
       "0    14.3  \n",
       "1    11.5  \n",
       "2    10.7  \n",
       "3    12.1  \n",
       "4    12.5  "
      ]
     },
     "execution_count": 2,
     "metadata": {},
     "output_type": "execute_result"
    }
   ],
   "source": [
    "# Load dataset\n",
    "crime = pd.read_stata(\"https://stats.idre.ucla.edu/stat/data/crime.dta\")\n",
    "# Head\n",
    "crime.head()"
   ]
  },
  {
   "cell_type": "code",
   "execution_count": 3,
   "metadata": {},
   "outputs": [
    {
     "name": "stdout",
     "output_type": "stream",
     "text": [
      "<class 'pandas.core.frame.DataFrame'>\n",
      "RangeIndex: 51 entries, 0 to 50\n",
      "Data columns (total 9 columns):\n",
      " #   Column    Non-Null Count  Dtype  \n",
      "---  ------    --------------  -----  \n",
      " 0   sid       51 non-null     float32\n",
      " 1   state     51 non-null     object \n",
      " 2   crime     51 non-null     int16  \n",
      " 3   murder    51 non-null     float32\n",
      " 4   pctmetro  51 non-null     float32\n",
      " 5   pctwhite  51 non-null     float32\n",
      " 6   pcths     51 non-null     float32\n",
      " 7   poverty   51 non-null     float32\n",
      " 8   single    51 non-null     float32\n",
      "dtypes: float32(7), int16(1), object(1)\n",
      "memory usage: 2.0+ KB\n"
     ]
    }
   ],
   "source": [
    "# Informations\n",
    "crime.info()"
   ]
  },
  {
   "cell_type": "code",
   "execution_count": 4,
   "metadata": {},
   "outputs": [
    {
     "data": {
      "text/html": [
       "<pre style=\"white-space:pre;overflow-x:auto;line-height:normal;font-family:Menlo,'DejaVu Sans Mono',consolas,'Courier New',monospace\">╭──────────────────────────────────────────────── skimpy summary ─────────────────────────────────────────────────╮\n",
       "│ <span style=\"font-style: italic\">         Data Summary         </span> <span style=\"font-style: italic\">      Data Types       </span>                                                          │\n",
       "│ ┏━━━━━━━━━━━━━━━━━━━┳━━━━━━━━┓ ┏━━━━━━━━━━━━━┳━━━━━━━┓                                                          │\n",
       "│ ┃<span style=\"color: #800080; text-decoration-color: #800080; font-style: italic\"> dataframe         </span>┃<span style=\"color: #800080; text-decoration-color: #800080; font-style: italic\"> Values </span>┃ ┃<span style=\"color: #800080; text-decoration-color: #800080; font-style: italic\"> Column Type </span>┃<span style=\"color: #800080; text-decoration-color: #800080; font-style: italic\"> Count </span>┃                                                          │\n",
       "│ ┡━━━━━━━━━━━━━━━━━━━╇━━━━━━━━┩ ┡━━━━━━━━━━━━━╇━━━━━━━┩                                                          │\n",
       "│ │ Number of rows    │ 51     │ │ float64     │ 7     │                                                          │\n",
       "│ │ Number of columns │ 9      │ │ string      │ 1     │                                                          │\n",
       "│ └───────────────────┴────────┘ │ int32       │ 1     │                                                          │\n",
       "│                                └─────────────┴───────┘                                                          │\n",
       "│ <span style=\"font-style: italic\">                                                    number                                                    </span>  │\n",
       "│ ┏━━━━━━━━━━━━━━━━━━━┳━━━━━━┳━━━━━━━━━┳━━━━━━━━━┳━━━━━━━━┳━━━━━━━┳━━━━━━━┳━━━━━━━┳━━━━━━━┳━━━━━━━━━┳━━━━━━━━━━┓  │\n",
       "│ ┃<span style=\"font-weight: bold\"> column_name       </span>┃<span style=\"font-weight: bold\"> NA   </span>┃<span style=\"font-weight: bold\"> NA %    </span>┃<span style=\"font-weight: bold\"> mean    </span>┃<span style=\"font-weight: bold\"> sd     </span>┃<span style=\"font-weight: bold\"> p0    </span>┃<span style=\"font-weight: bold\"> p25   </span>┃<span style=\"font-weight: bold\"> p50   </span>┃<span style=\"font-weight: bold\"> p75   </span>┃<span style=\"font-weight: bold\"> p100    </span>┃<span style=\"font-weight: bold\"> hist     </span>┃  │\n",
       "│ ┡━━━━━━━━━━━━━━━━━━━╇━━━━━━╇━━━━━━━━━╇━━━━━━━━━╇━━━━━━━━╇━━━━━━━╇━━━━━━━╇━━━━━━━╇━━━━━━━╇━━━━━━━━━╇━━━━━━━━━━┩  │\n",
       "│ │ <span style=\"color: #af87ff; text-decoration-color: #af87ff\">sid              </span> │ <span style=\"color: #008080; text-decoration-color: #008080\">   0</span> │ <span style=\"color: #008080; text-decoration-color: #008080\">      0</span> │ <span style=\"color: #008080; text-decoration-color: #008080\">     26</span> │ <span style=\"color: #008080; text-decoration-color: #008080\">    15</span> │ <span style=\"color: #008080; text-decoration-color: #008080\">    1</span> │ <span style=\"color: #008080; text-decoration-color: #008080\">   14</span> │ <span style=\"color: #008080; text-decoration-color: #008080\">   26</span> │ <span style=\"color: #008080; text-decoration-color: #008080\">   38</span> │ <span style=\"color: #008080; text-decoration-color: #008080\">     51</span> │ <span style=\"color: #008000; text-decoration-color: #008000\"> ▇▇▇▇▇▇ </span> │  │\n",
       "│ │ <span style=\"color: #af87ff; text-decoration-color: #af87ff\">crime            </span> │ <span style=\"color: #008080; text-decoration-color: #008080\">   0</span> │ <span style=\"color: #008080; text-decoration-color: #008080\">      0</span> │ <span style=\"color: #008080; text-decoration-color: #008080\">    610</span> │ <span style=\"color: #008080; text-decoration-color: #008080\">   440</span> │ <span style=\"color: #008080; text-decoration-color: #008080\">   82</span> │ <span style=\"color: #008080; text-decoration-color: #008080\">  330</span> │ <span style=\"color: #008080; text-decoration-color: #008080\">  520</span> │ <span style=\"color: #008080; text-decoration-color: #008080\">  770</span> │ <span style=\"color: #008080; text-decoration-color: #008080\">   2900</span> │ <span style=\"color: #008000; text-decoration-color: #008000\">  ▇▆▁   </span> │  │\n",
       "│ │ <span style=\"color: #af87ff; text-decoration-color: #af87ff\">murder           </span> │ <span style=\"color: #008080; text-decoration-color: #008080\">   0</span> │ <span style=\"color: #008080; text-decoration-color: #008080\">      0</span> │ <span style=\"color: #008080; text-decoration-color: #008080\">    8.7</span> │ <span style=\"color: #008080; text-decoration-color: #008080\">    11</span> │ <span style=\"color: #008080; text-decoration-color: #008080\">  1.6</span> │ <span style=\"color: #008080; text-decoration-color: #008080\">  3.9</span> │ <span style=\"color: #008080; text-decoration-color: #008080\">  6.8</span> │ <span style=\"color: #008080; text-decoration-color: #008080\">   10</span> │ <span style=\"color: #008080; text-decoration-color: #008080\">     78</span> │ <span style=\"color: #008000; text-decoration-color: #008000\">   ▇    </span> │  │\n",
       "│ │ <span style=\"color: #af87ff; text-decoration-color: #af87ff\">pctmetro         </span> │ <span style=\"color: #008080; text-decoration-color: #008080\">   0</span> │ <span style=\"color: #008080; text-decoration-color: #008080\">      0</span> │ <span style=\"color: #008080; text-decoration-color: #008080\">     67</span> │ <span style=\"color: #008080; text-decoration-color: #008080\">    22</span> │ <span style=\"color: #008080; text-decoration-color: #008080\">   24</span> │ <span style=\"color: #008080; text-decoration-color: #008080\">   50</span> │ <span style=\"color: #008080; text-decoration-color: #008080\">   70</span> │ <span style=\"color: #008080; text-decoration-color: #008080\">   84</span> │ <span style=\"color: #008080; text-decoration-color: #008080\">    100</span> │ <span style=\"color: #008000; text-decoration-color: #008000\"> ▅▃▃▆▇▅ </span> │  │\n",
       "│ │ <span style=\"color: #af87ff; text-decoration-color: #af87ff\">pctwhite         </span> │ <span style=\"color: #008080; text-decoration-color: #008080\">   0</span> │ <span style=\"color: #008080; text-decoration-color: #008080\">      0</span> │ <span style=\"color: #008080; text-decoration-color: #008080\">     84</span> │ <span style=\"color: #008080; text-decoration-color: #008080\">    13</span> │ <span style=\"color: #008080; text-decoration-color: #008080\">   32</span> │ <span style=\"color: #008080; text-decoration-color: #008080\">   79</span> │ <span style=\"color: #008080; text-decoration-color: #008080\">   88</span> │ <span style=\"color: #008080; text-decoration-color: #008080\">   93</span> │ <span style=\"color: #008080; text-decoration-color: #008080\">     98</span> │ <span style=\"color: #008000; text-decoration-color: #008000\"> ▁  ▂▅▇ </span> │  │\n",
       "│ │ <span style=\"color: #af87ff; text-decoration-color: #af87ff\">pcths            </span> │ <span style=\"color: #008080; text-decoration-color: #008080\">   0</span> │ <span style=\"color: #008080; text-decoration-color: #008080\">      0</span> │ <span style=\"color: #008080; text-decoration-color: #008080\">     76</span> │ <span style=\"color: #008080; text-decoration-color: #008080\">   5.6</span> │ <span style=\"color: #008080; text-decoration-color: #008080\">   64</span> │ <span style=\"color: #008080; text-decoration-color: #008080\">   74</span> │ <span style=\"color: #008080; text-decoration-color: #008080\">   77</span> │ <span style=\"color: #008080; text-decoration-color: #008080\">   80</span> │ <span style=\"color: #008080; text-decoration-color: #008080\">     87</span> │ <span style=\"color: #008000; text-decoration-color: #008000\"> ▃▂▆▇▇▃ </span> │  │\n",
       "│ │ <span style=\"color: #af87ff; text-decoration-color: #af87ff\">poverty          </span> │ <span style=\"color: #008080; text-decoration-color: #008080\">   0</span> │ <span style=\"color: #008080; text-decoration-color: #008080\">      0</span> │ <span style=\"color: #008080; text-decoration-color: #008080\">     14</span> │ <span style=\"color: #008080; text-decoration-color: #008080\">   4.6</span> │ <span style=\"color: #008080; text-decoration-color: #008080\">    8</span> │ <span style=\"color: #008080; text-decoration-color: #008080\">   11</span> │ <span style=\"color: #008080; text-decoration-color: #008080\">   13</span> │ <span style=\"color: #008080; text-decoration-color: #008080\">   17</span> │ <span style=\"color: #008080; text-decoration-color: #008080\">     26</span> │ <span style=\"color: #008000; text-decoration-color: #008000\"> ▇▇▃▅▁▁ </span> │  │\n",
       "│ │ <span style=\"color: #af87ff; text-decoration-color: #af87ff\">single           </span> │ <span style=\"color: #008080; text-decoration-color: #008080\">   0</span> │ <span style=\"color: #008080; text-decoration-color: #008080\">      0</span> │ <span style=\"color: #008080; text-decoration-color: #008080\">     11</span> │ <span style=\"color: #008080; text-decoration-color: #008080\">   2.1</span> │ <span style=\"color: #008080; text-decoration-color: #008080\">  8.4</span> │ <span style=\"color: #008080; text-decoration-color: #008080\">   10</span> │ <span style=\"color: #008080; text-decoration-color: #008080\">   11</span> │ <span style=\"color: #008080; text-decoration-color: #008080\">   12</span> │ <span style=\"color: #008080; text-decoration-color: #008080\">     22</span> │ <span style=\"color: #008000; text-decoration-color: #008000\">  ▆▇▂   </span> │  │\n",
       "│ └───────────────────┴──────┴─────────┴─────────┴────────┴───────┴───────┴───────┴───────┴─────────┴──────────┘  │\n",
       "│ <span style=\"font-style: italic\">                                                    string                                                    </span>  │\n",
       "│ ┏━━━━━━━━━━━━━━━━━━━━━━━━━━━┳━━━━━━━━━┳━━━━━━━━━━━━┳━━━━━━━━━━━━━━━━━━━━━━━━━━━━━━┳━━━━━━━━━━━━━━━━━━━━━━━━━━┓  │\n",
       "│ ┃<span style=\"font-weight: bold\"> column_name               </span>┃<span style=\"font-weight: bold\"> NA      </span>┃<span style=\"font-weight: bold\"> NA %       </span>┃<span style=\"font-weight: bold\"> words per row                </span>┃<span style=\"font-weight: bold\"> total words              </span>┃  │\n",
       "│ ┡━━━━━━━━━━━━━━━━━━━━━━━━━━━╇━━━━━━━━━╇━━━━━━━━━━━━╇━━━━━━━━━━━━━━━━━━━━━━━━━━━━━━╇━━━━━━━━━━━━━━━━━━━━━━━━━━┩  │\n",
       "│ │ <span style=\"color: #af87ff; text-decoration-color: #af87ff\">state                    </span> │ <span style=\"color: #008080; text-decoration-color: #008080\">      0</span> │ <span style=\"color: #008080; text-decoration-color: #008080\">         0</span> │ <span style=\"color: #008080; text-decoration-color: #008080\">                           1</span> │ <span style=\"color: #008080; text-decoration-color: #008080\">                      51</span> │  │\n",
       "│ └───────────────────────────┴─────────┴────────────┴──────────────────────────────┴──────────────────────────┘  │\n",
       "╰────────────────────────────────────────────────────── End ──────────────────────────────────────────────────────╯\n",
       "</pre>\n"
      ],
      "text/plain": [
       "╭──────────────────────────────────────────────── skimpy summary ─────────────────────────────────────────────────╮\n",
       "│ \u001b[3m         Data Summary         \u001b[0m \u001b[3m      Data Types       \u001b[0m                                                          │\n",
       "│ ┏━━━━━━━━━━━━━━━━━━━┳━━━━━━━━┓ ┏━━━━━━━━━━━━━┳━━━━━━━┓                                                          │\n",
       "│ ┃\u001b[3;35m \u001b[0m\u001b[3;35mdataframe        \u001b[0m\u001b[3;35m \u001b[0m┃\u001b[3;35m \u001b[0m\u001b[3;35mValues\u001b[0m\u001b[3;35m \u001b[0m┃ ┃\u001b[3;35m \u001b[0m\u001b[3;35mColumn Type\u001b[0m\u001b[3;35m \u001b[0m┃\u001b[3;35m \u001b[0m\u001b[3;35mCount\u001b[0m\u001b[3;35m \u001b[0m┃                                                          │\n",
       "│ ┡━━━━━━━━━━━━━━━━━━━╇━━━━━━━━┩ ┡━━━━━━━━━━━━━╇━━━━━━━┩                                                          │\n",
       "│ │ Number of rows    │ 51     │ │ float64     │ 7     │                                                          │\n",
       "│ │ Number of columns │ 9      │ │ string      │ 1     │                                                          │\n",
       "│ └───────────────────┴────────┘ │ int32       │ 1     │                                                          │\n",
       "│                                └─────────────┴───────┘                                                          │\n",
       "│ \u001b[3m                                                    number                                                    \u001b[0m  │\n",
       "│ ┏━━━━━━━━━━━━━━━━━━━┳━━━━━━┳━━━━━━━━━┳━━━━━━━━━┳━━━━━━━━┳━━━━━━━┳━━━━━━━┳━━━━━━━┳━━━━━━━┳━━━━━━━━━┳━━━━━━━━━━┓  │\n",
       "│ ┃\u001b[1m \u001b[0m\u001b[1mcolumn_name      \u001b[0m\u001b[1m \u001b[0m┃\u001b[1m \u001b[0m\u001b[1mNA  \u001b[0m\u001b[1m \u001b[0m┃\u001b[1m \u001b[0m\u001b[1mNA %   \u001b[0m\u001b[1m \u001b[0m┃\u001b[1m \u001b[0m\u001b[1mmean   \u001b[0m\u001b[1m \u001b[0m┃\u001b[1m \u001b[0m\u001b[1msd    \u001b[0m\u001b[1m \u001b[0m┃\u001b[1m \u001b[0m\u001b[1mp0   \u001b[0m\u001b[1m \u001b[0m┃\u001b[1m \u001b[0m\u001b[1mp25  \u001b[0m\u001b[1m \u001b[0m┃\u001b[1m \u001b[0m\u001b[1mp50  \u001b[0m\u001b[1m \u001b[0m┃\u001b[1m \u001b[0m\u001b[1mp75  \u001b[0m\u001b[1m \u001b[0m┃\u001b[1m \u001b[0m\u001b[1mp100   \u001b[0m\u001b[1m \u001b[0m┃\u001b[1m \u001b[0m\u001b[1mhist    \u001b[0m\u001b[1m \u001b[0m┃  │\n",
       "│ ┡━━━━━━━━━━━━━━━━━━━╇━━━━━━╇━━━━━━━━━╇━━━━━━━━━╇━━━━━━━━╇━━━━━━━╇━━━━━━━╇━━━━━━━╇━━━━━━━╇━━━━━━━━━╇━━━━━━━━━━┩  │\n",
       "│ │ \u001b[38;5;141msid              \u001b[0m │ \u001b[36m   0\u001b[0m │ \u001b[36m      0\u001b[0m │ \u001b[36m     26\u001b[0m │ \u001b[36m    15\u001b[0m │ \u001b[36m    1\u001b[0m │ \u001b[36m   14\u001b[0m │ \u001b[36m   26\u001b[0m │ \u001b[36m   38\u001b[0m │ \u001b[36m     51\u001b[0m │ \u001b[32m ▇▇▇▇▇▇ \u001b[0m │  │\n",
       "│ │ \u001b[38;5;141mcrime            \u001b[0m │ \u001b[36m   0\u001b[0m │ \u001b[36m      0\u001b[0m │ \u001b[36m    610\u001b[0m │ \u001b[36m   440\u001b[0m │ \u001b[36m   82\u001b[0m │ \u001b[36m  330\u001b[0m │ \u001b[36m  520\u001b[0m │ \u001b[36m  770\u001b[0m │ \u001b[36m   2900\u001b[0m │ \u001b[32m  ▇▆▁   \u001b[0m │  │\n",
       "│ │ \u001b[38;5;141mmurder           \u001b[0m │ \u001b[36m   0\u001b[0m │ \u001b[36m      0\u001b[0m │ \u001b[36m    8.7\u001b[0m │ \u001b[36m    11\u001b[0m │ \u001b[36m  1.6\u001b[0m │ \u001b[36m  3.9\u001b[0m │ \u001b[36m  6.8\u001b[0m │ \u001b[36m   10\u001b[0m │ \u001b[36m     78\u001b[0m │ \u001b[32m   ▇    \u001b[0m │  │\n",
       "│ │ \u001b[38;5;141mpctmetro         \u001b[0m │ \u001b[36m   0\u001b[0m │ \u001b[36m      0\u001b[0m │ \u001b[36m     67\u001b[0m │ \u001b[36m    22\u001b[0m │ \u001b[36m   24\u001b[0m │ \u001b[36m   50\u001b[0m │ \u001b[36m   70\u001b[0m │ \u001b[36m   84\u001b[0m │ \u001b[36m    100\u001b[0m │ \u001b[32m ▅▃▃▆▇▅ \u001b[0m │  │\n",
       "│ │ \u001b[38;5;141mpctwhite         \u001b[0m │ \u001b[36m   0\u001b[0m │ \u001b[36m      0\u001b[0m │ \u001b[36m     84\u001b[0m │ \u001b[36m    13\u001b[0m │ \u001b[36m   32\u001b[0m │ \u001b[36m   79\u001b[0m │ \u001b[36m   88\u001b[0m │ \u001b[36m   93\u001b[0m │ \u001b[36m     98\u001b[0m │ \u001b[32m ▁  ▂▅▇ \u001b[0m │  │\n",
       "│ │ \u001b[38;5;141mpcths            \u001b[0m │ \u001b[36m   0\u001b[0m │ \u001b[36m      0\u001b[0m │ \u001b[36m     76\u001b[0m │ \u001b[36m   5.6\u001b[0m │ \u001b[36m   64\u001b[0m │ \u001b[36m   74\u001b[0m │ \u001b[36m   77\u001b[0m │ \u001b[36m   80\u001b[0m │ \u001b[36m     87\u001b[0m │ \u001b[32m ▃▂▆▇▇▃ \u001b[0m │  │\n",
       "│ │ \u001b[38;5;141mpoverty          \u001b[0m │ \u001b[36m   0\u001b[0m │ \u001b[36m      0\u001b[0m │ \u001b[36m     14\u001b[0m │ \u001b[36m   4.6\u001b[0m │ \u001b[36m    8\u001b[0m │ \u001b[36m   11\u001b[0m │ \u001b[36m   13\u001b[0m │ \u001b[36m   17\u001b[0m │ \u001b[36m     26\u001b[0m │ \u001b[32m ▇▇▃▅▁▁ \u001b[0m │  │\n",
       "│ │ \u001b[38;5;141msingle           \u001b[0m │ \u001b[36m   0\u001b[0m │ \u001b[36m      0\u001b[0m │ \u001b[36m     11\u001b[0m │ \u001b[36m   2.1\u001b[0m │ \u001b[36m  8.4\u001b[0m │ \u001b[36m   10\u001b[0m │ \u001b[36m   11\u001b[0m │ \u001b[36m   12\u001b[0m │ \u001b[36m     22\u001b[0m │ \u001b[32m  ▆▇▂   \u001b[0m │  │\n",
       "│ └───────────────────┴──────┴─────────┴─────────┴────────┴───────┴───────┴───────┴───────┴─────────┴──────────┘  │\n",
       "│ \u001b[3m                                                    string                                                    \u001b[0m  │\n",
       "│ ┏━━━━━━━━━━━━━━━━━━━━━━━━━━━┳━━━━━━━━━┳━━━━━━━━━━━━┳━━━━━━━━━━━━━━━━━━━━━━━━━━━━━━┳━━━━━━━━━━━━━━━━━━━━━━━━━━┓  │\n",
       "│ ┃\u001b[1m \u001b[0m\u001b[1mcolumn_name              \u001b[0m\u001b[1m \u001b[0m┃\u001b[1m \u001b[0m\u001b[1mNA     \u001b[0m\u001b[1m \u001b[0m┃\u001b[1m \u001b[0m\u001b[1mNA %      \u001b[0m\u001b[1m \u001b[0m┃\u001b[1m \u001b[0m\u001b[1mwords per row               \u001b[0m\u001b[1m \u001b[0m┃\u001b[1m \u001b[0m\u001b[1mtotal words             \u001b[0m\u001b[1m \u001b[0m┃  │\n",
       "│ ┡━━━━━━━━━━━━━━━━━━━━━━━━━━━╇━━━━━━━━━╇━━━━━━━━━━━━╇━━━━━━━━━━━━━━━━━━━━━━━━━━━━━━╇━━━━━━━━━━━━━━━━━━━━━━━━━━┩  │\n",
       "│ │ \u001b[38;5;141mstate                    \u001b[0m │ \u001b[36m      0\u001b[0m │ \u001b[36m         0\u001b[0m │ \u001b[36m                           1\u001b[0m │ \u001b[36m                      51\u001b[0m │  │\n",
       "│ └───────────────────────────┴─────────┴────────────┴──────────────────────────────┴──────────────────────────┘  │\n",
       "╰────────────────────────────────────────────────────── End ──────────────────────────────────────────────────────╯\n"
      ]
     },
     "metadata": {},
     "output_type": "display_data"
    }
   ],
   "source": [
    "# Summary of crime\n",
    "skim(crime,header_style=\"italic magenta\")"
   ]
  },
  {
   "cell_type": "code",
   "execution_count": 5,
   "metadata": {},
   "outputs": [
    {
     "data": {
      "text/html": [
       "<table class=\"simpletable\">\n",
       "<tr>\n",
       "        <td>Model:</td>               <td>OLS</td>         <td>Adj. R-squared:</td>     <td>0.695</td> \n",
       "</tr>\n",
       "<tr>\n",
       "  <td>Dependent Variable:</td>       <td>crime</td>             <td>AIC:</td>         <td>708.1879</td>\n",
       "</tr>\n",
       "<tr>\n",
       "         <td>Date:</td>        <td>2023-09-17 17:45</td>        <td>BIC:</td>         <td>713.9834</td>\n",
       "</tr>\n",
       "<tr>\n",
       "   <td>No. Observations:</td>         <td>51</td>          <td>Log-Likelihood:</td>    <td>-351.09</td>\n",
       "</tr>\n",
       "<tr>\n",
       "       <td>Df Model:</td>              <td>2</td>           <td>F-statistic:</td>       <td>57.96</td> \n",
       "</tr>\n",
       "<tr>\n",
       "     <td>Df Residuals:</td>           <td>48</td>        <td>Prob (F-statistic):</td> <td>1.58e-13</td>\n",
       "</tr>\n",
       "<tr>\n",
       "      <td>R-squared:</td>            <td>0.707</td>            <td>Scale:</td>         <td>59346.</td> \n",
       "</tr>\n",
       "</table>\n",
       "<table class=\"simpletable\">\n",
       "<tr>\n",
       "      <td></td>         <th>Coef.</th>   <th>Std.Err.</th>    <th>t</th>     <th>P>|t|</th>   <th>[0.025</th>    <th>0.975]</th>  \n",
       "</tr>\n",
       "<tr>\n",
       "  <th>Intercept</th> <td>-1368.1887</td> <td>187.2052</td> <td>-7.3085</td> <td>0.0000</td> <td>-1744.5899</td> <td>-991.7874</td>\n",
       "</tr>\n",
       "<tr>\n",
       "  <th>poverty</th>     <td>6.7874</td>    <td>8.9885</td>  <td>0.7551</td>  <td>0.4539</td>  <td>-11.2853</td>   <td>24.8600</td> \n",
       "</tr>\n",
       "<tr>\n",
       "  <th>single</th>     <td>166.3727</td>   <td>19.4229</td> <td>8.5658</td>  <td>0.0000</td>  <td>127.3203</td>  <td>205.4250</td> \n",
       "</tr>\n",
       "</table>\n",
       "<table class=\"simpletable\">\n",
       "<tr>\n",
       "     <td>Omnibus:</td>     <td>7.065</td>  <td>Durbin-Watson:</td>    <td>2.040</td>\n",
       "</tr>\n",
       "<tr>\n",
       "  <td>Prob(Omnibus):</td>  <td>0.029</td> <td>Jarque-Bera (JB):</td> <td>10.553</td>\n",
       "</tr>\n",
       "<tr>\n",
       "       <td>Skew:</td>     <td>-0.276</td>     <td>Prob(JB):</td>      <td>0.005</td>\n",
       "</tr>\n",
       "<tr>\n",
       "     <td>Kurtosis:</td>    <td>5.159</td>  <td>Condition No.:</td>     <td>103</td> \n",
       "</tr>\n",
       "</table><br/>\n",
       "Notes:<br/>\n",
       "[1] Standard Errors assume that the covariance matrix of the errors is correctly specified."
      ],
      "text/latex": [
       "\\begin{table}\n",
       "\\caption{Results: Ordinary least squares}\n",
       "\\label{}\n",
       "\\begin{center}\n",
       "\\begin{tabular}{llll}\n",
       "\\hline\n",
       "Model:              & OLS              & Adj. R-squared:     & 0.695     \\\\\n",
       "Dependent Variable: & crime            & AIC:                & 708.1879  \\\\\n",
       "Date:               & 2023-09-17 17:45 & BIC:                & 713.9834  \\\\\n",
       "No. Observations:   & 51               & Log-Likelihood:     & -351.09   \\\\\n",
       "Df Model:           & 2                & F-statistic:        & 57.96     \\\\\n",
       "Df Residuals:       & 48               & Prob (F-statistic): & 1.58e-13  \\\\\n",
       "R-squared:          & 0.707            & Scale:              & 59346.    \\\\\n",
       "\\hline\n",
       "\\end{tabular}\n",
       "\\end{center}\n",
       "\n",
       "\\begin{center}\n",
       "\\begin{tabular}{lrrrrrr}\n",
       "\\hline\n",
       "          &      Coef. & Std.Err. &       t & P$> |$t$|$ &     [0.025 &    0.975]  \\\\\n",
       "\\hline\n",
       "Intercept & -1368.1887 & 187.2052 & -7.3085 &      0.0000 & -1744.5899 & -991.7874  \\\\\n",
       "poverty   &     6.7874 &   8.9885 &  0.7551 &      0.4539 &   -11.2853 &   24.8600  \\\\\n",
       "single    &   166.3727 &  19.4229 &  8.5658 &      0.0000 &   127.3203 &  205.4250  \\\\\n",
       "\\hline\n",
       "\\end{tabular}\n",
       "\\end{center}\n",
       "\n",
       "\\begin{center}\n",
       "\\begin{tabular}{llll}\n",
       "\\hline\n",
       "Omnibus:       & 7.065  & Durbin-Watson:    & 2.040   \\\\\n",
       "Prob(Omnibus): & 0.029  & Jarque-Bera (JB): & 10.553  \\\\\n",
       "Skew:          & -0.276 & Prob(JB):         & 0.005   \\\\\n",
       "Kurtosis:      & 5.159  & Condition No.:    & 103     \\\\\n",
       "\\hline\n",
       "\\end{tabular}\n",
       "\\end{center}\n",
       "\\end{table}\n",
       "\\bigskip\n",
       "Notes: \\newline \n",
       "[1] Standard Errors assume that the covariance matrix of the errors is correctly specified."
      ],
      "text/plain": [
       "<class 'statsmodels.iolib.summary2.Summary'>\n",
       "\"\"\"\n",
       "                 Results: Ordinary least squares\n",
       "=================================================================\n",
       "Model:              OLS              Adj. R-squared:     0.695   \n",
       "Dependent Variable: crime            AIC:                708.1879\n",
       "Date:               2023-09-17 17:45 BIC:                713.9834\n",
       "No. Observations:   51               Log-Likelihood:     -351.09 \n",
       "Df Model:           2                F-statistic:        57.96   \n",
       "Df Residuals:       48               Prob (F-statistic): 1.58e-13\n",
       "R-squared:          0.707            Scale:              59346.  \n",
       "-----------------------------------------------------------------\n",
       "            Coef.    Std.Err.    t    P>|t|    [0.025     0.975] \n",
       "-----------------------------------------------------------------\n",
       "Intercept -1368.1887 187.2052 -7.3085 0.0000 -1744.5899 -991.7874\n",
       "poverty       6.7874   8.9885  0.7551 0.4539   -11.2853   24.8600\n",
       "single      166.3727  19.4229  8.5658 0.0000   127.3203  205.4250\n",
       "-----------------------------------------------------------------\n",
       "Omnibus:              7.065        Durbin-Watson:          2.040 \n",
       "Prob(Omnibus):        0.029        Jarque-Bera (JB):       10.553\n",
       "Skew:                 -0.276       Prob(JB):               0.005 \n",
       "Kurtosis:             5.159        Condition No.:          103   \n",
       "=================================================================\n",
       "Notes:\n",
       "[1] Standard Errors assume that the covariance matrix of the\n",
       "errors is correctly specified.\n",
       "\"\"\""
      ]
     },
     "execution_count": 5,
     "metadata": {},
     "output_type": "execute_result"
    }
   ],
   "source": [
    "#  linear model\n",
    "ols = smf.ols(\"crime ~ poverty + single\", data = crime).fit()\n",
    "ols.summary2()"
   ]
  },
  {
   "cell_type": "markdown",
   "metadata": {},
   "source": [
    "### Logistic Regression"
   ]
  },
  {
   "cell_type": "code",
   "execution_count": 6,
   "metadata": {},
   "outputs": [
    {
     "data": {
      "text/html": [
       "<div>\n",
       "<style scoped>\n",
       "    .dataframe tbody tr th:only-of-type {\n",
       "        vertical-align: middle;\n",
       "    }\n",
       "\n",
       "    .dataframe tbody tr th {\n",
       "        vertical-align: top;\n",
       "    }\n",
       "\n",
       "    .dataframe thead th {\n",
       "        text-align: right;\n",
       "    }\n",
       "</style>\n",
       "<table border=\"1\" class=\"dataframe\">\n",
       "  <thead>\n",
       "    <tr style=\"text-align: right;\">\n",
       "      <th></th>\n",
       "      <th>admit</th>\n",
       "      <th>gre</th>\n",
       "      <th>gpa</th>\n",
       "      <th>rank</th>\n",
       "    </tr>\n",
       "  </thead>\n",
       "  <tbody>\n",
       "    <tr>\n",
       "      <th>0</th>\n",
       "      <td>0</td>\n",
       "      <td>380</td>\n",
       "      <td>3.61</td>\n",
       "      <td>3</td>\n",
       "    </tr>\n",
       "    <tr>\n",
       "      <th>1</th>\n",
       "      <td>1</td>\n",
       "      <td>660</td>\n",
       "      <td>3.67</td>\n",
       "      <td>3</td>\n",
       "    </tr>\n",
       "    <tr>\n",
       "      <th>2</th>\n",
       "      <td>1</td>\n",
       "      <td>800</td>\n",
       "      <td>4.00</td>\n",
       "      <td>1</td>\n",
       "    </tr>\n",
       "    <tr>\n",
       "      <th>3</th>\n",
       "      <td>1</td>\n",
       "      <td>640</td>\n",
       "      <td>3.19</td>\n",
       "      <td>4</td>\n",
       "    </tr>\n",
       "    <tr>\n",
       "      <th>4</th>\n",
       "      <td>0</td>\n",
       "      <td>520</td>\n",
       "      <td>2.93</td>\n",
       "      <td>4</td>\n",
       "    </tr>\n",
       "  </tbody>\n",
       "</table>\n",
       "</div>"
      ],
      "text/plain": [
       "   admit  gre   gpa  rank\n",
       "0      0  380  3.61     3\n",
       "1      1  660  3.67     3\n",
       "2      1  800  4.00     1\n",
       "3      1  640  3.19     4\n",
       "4      0  520  2.93     4"
      ]
     },
     "execution_count": 6,
     "metadata": {},
     "output_type": "execute_result"
    }
   ],
   "source": [
    "binarie = pd.read_csv(\"https://stats.idre.ucla.edu/stat/data/binary.csv\")\n",
    "binarie.head()"
   ]
  },
  {
   "cell_type": "code",
   "execution_count": 7,
   "metadata": {},
   "outputs": [
    {
     "name": "stdout",
     "output_type": "stream",
     "text": [
      "<class 'pandas.core.frame.DataFrame'>\n",
      "RangeIndex: 400 entries, 0 to 399\n",
      "Data columns (total 4 columns):\n",
      " #   Column  Non-Null Count  Dtype  \n",
      "---  ------  --------------  -----  \n",
      " 0   admit   400 non-null    int64  \n",
      " 1   gre     400 non-null    int64  \n",
      " 2   gpa     400 non-null    float64\n",
      " 3   rank    400 non-null    int64  \n",
      "dtypes: float64(1), int64(3)\n",
      "memory usage: 12.6 KB\n"
     ]
    }
   ],
   "source": [
    "binarie.info()"
   ]
  },
  {
   "cell_type": "code",
   "execution_count": 8,
   "metadata": {},
   "outputs": [],
   "source": [
    "binarie[\"rank\"] = binarie[\"rank\"].astype(\"category\")"
   ]
  },
  {
   "cell_type": "code",
   "execution_count": 9,
   "metadata": {},
   "outputs": [
    {
     "data": {
      "text/html": [
       "<pre style=\"white-space:pre;overflow-x:auto;line-height:normal;font-family:Menlo,'DejaVu Sans Mono',consolas,'Courier New',monospace\">╭──────────────────────────────────────────────── skimpy summary ─────────────────────────────────────────────────╮\n",
       "│ <span style=\"font-style: italic\">         Data Summary         </span> <span style=\"font-style: italic\">      Data Types       </span> <span style=\"font-style: italic\">       Categories        </span>                                │\n",
       "│ ┏━━━━━━━━━━━━━━━━━━━┳━━━━━━━━┓ ┏━━━━━━━━━━━━━┳━━━━━━━┓ ┏━━━━━━━━━━━━━━━━━━━━━━━┓                                │\n",
       "│ ┃<span style=\"color: #800080; text-decoration-color: #800080; font-style: italic\"> dataframe         </span>┃<span style=\"color: #800080; text-decoration-color: #800080; font-style: italic\"> Values </span>┃ ┃<span style=\"color: #800080; text-decoration-color: #800080; font-style: italic\"> Column Type </span>┃<span style=\"color: #800080; text-decoration-color: #800080; font-style: italic\"> Count </span>┃ ┃<span style=\"color: #800080; text-decoration-color: #800080; font-style: italic\"> Categorical Variables </span>┃                                │\n",
       "│ ┡━━━━━━━━━━━━━━━━━━━╇━━━━━━━━┩ ┡━━━━━━━━━━━━━╇━━━━━━━┩ ┡━━━━━━━━━━━━━━━━━━━━━━━┩                                │\n",
       "│ │ Number of rows    │ 400    │ │ int32       │ 2     │ │ rank                  │                                │\n",
       "│ │ Number of columns │ 4      │ │ float64     │ 1     │ └───────────────────────┘                                │\n",
       "│ └───────────────────┴────────┘ │ category    │ 1     │                                                          │\n",
       "│                                └─────────────┴───────┘                                                          │\n",
       "│ <span style=\"font-style: italic\">                                                    number                                                    </span>  │\n",
       "│ ┏━━━━━━━━━━━━━━━━━━━┳━━━━━━┳━━━━━━━━━┳━━━━━━━━━┳━━━━━━━━━┳━━━━━━━┳━━━━━━━┳━━━━━━━┳━━━━━━━┳━━━━━━━━┳━━━━━━━━━━┓  │\n",
       "│ ┃<span style=\"font-weight: bold\"> column_name       </span>┃<span style=\"font-weight: bold\"> NA   </span>┃<span style=\"font-weight: bold\"> NA %    </span>┃<span style=\"font-weight: bold\"> mean    </span>┃<span style=\"font-weight: bold\"> sd      </span>┃<span style=\"font-weight: bold\"> p0    </span>┃<span style=\"font-weight: bold\"> p25   </span>┃<span style=\"font-weight: bold\"> p50   </span>┃<span style=\"font-weight: bold\"> p75   </span>┃<span style=\"font-weight: bold\"> p100   </span>┃<span style=\"font-weight: bold\"> hist     </span>┃  │\n",
       "│ ┡━━━━━━━━━━━━━━━━━━━╇━━━━━━╇━━━━━━━━━╇━━━━━━━━━╇━━━━━━━━━╇━━━━━━━╇━━━━━━━╇━━━━━━━╇━━━━━━━╇━━━━━━━━╇━━━━━━━━━━┩  │\n",
       "│ │ <span style=\"color: #af87ff; text-decoration-color: #af87ff\">admit            </span> │ <span style=\"color: #008080; text-decoration-color: #008080\">   0</span> │ <span style=\"color: #008080; text-decoration-color: #008080\">      0</span> │ <span style=\"color: #008080; text-decoration-color: #008080\">   0.32</span> │ <span style=\"color: #008080; text-decoration-color: #008080\">   0.47</span> │ <span style=\"color: #008080; text-decoration-color: #008080\">    0</span> │ <span style=\"color: #008080; text-decoration-color: #008080\">    0</span> │ <span style=\"color: #008080; text-decoration-color: #008080\">    0</span> │ <span style=\"color: #008080; text-decoration-color: #008080\">    1</span> │ <span style=\"color: #008080; text-decoration-color: #008080\">     1</span> │ <span style=\"color: #008000; text-decoration-color: #008000\"> ▇    ▃ </span> │  │\n",
       "│ │ <span style=\"color: #af87ff; text-decoration-color: #af87ff\">gre              </span> │ <span style=\"color: #008080; text-decoration-color: #008080\">   0</span> │ <span style=\"color: #008080; text-decoration-color: #008080\">      0</span> │ <span style=\"color: #008080; text-decoration-color: #008080\">    590</span> │ <span style=\"color: #008080; text-decoration-color: #008080\">    120</span> │ <span style=\"color: #008080; text-decoration-color: #008080\">  220</span> │ <span style=\"color: #008080; text-decoration-color: #008080\">  520</span> │ <span style=\"color: #008080; text-decoration-color: #008080\">  580</span> │ <span style=\"color: #008080; text-decoration-color: #008080\">  660</span> │ <span style=\"color: #008080; text-decoration-color: #008080\">   800</span> │ <span style=\"color: #008000; text-decoration-color: #008000\">  ▂▅▇▇▃ </span> │  │\n",
       "│ │ <span style=\"color: #af87ff; text-decoration-color: #af87ff\">gpa              </span> │ <span style=\"color: #008080; text-decoration-color: #008080\">   0</span> │ <span style=\"color: #008080; text-decoration-color: #008080\">      0</span> │ <span style=\"color: #008080; text-decoration-color: #008080\">    3.4</span> │ <span style=\"color: #008080; text-decoration-color: #008080\">   0.38</span> │ <span style=\"color: #008080; text-decoration-color: #008080\">  2.3</span> │ <span style=\"color: #008080; text-decoration-color: #008080\">  3.1</span> │ <span style=\"color: #008080; text-decoration-color: #008080\">  3.4</span> │ <span style=\"color: #008080; text-decoration-color: #008080\">  3.7</span> │ <span style=\"color: #008080; text-decoration-color: #008080\">     4</span> │ <span style=\"color: #008000; text-decoration-color: #008000\">  ▂▅▇▇▇ </span> │  │\n",
       "│ └───────────────────┴──────┴─────────┴─────────┴─────────┴───────┴───────┴───────┴───────┴────────┴──────────┘  │\n",
       "│ <span style=\"font-style: italic\">                                                   category                                                   </span>  │\n",
       "│ ┏━━━━━━━━━━━━━━━━━━━━━━━━━━━━━━━━━━┳━━━━━━━━━━━┳━━━━━━━━━━━━━━━━┳━━━━━━━━━━━━━━━━━━━━━━━┳━━━━━━━━━━━━━━━━━━━━┓  │\n",
       "│ ┃<span style=\"font-weight: bold\"> column_name                      </span>┃<span style=\"font-weight: bold\"> NA        </span>┃<span style=\"font-weight: bold\"> NA %           </span>┃<span style=\"font-weight: bold\"> ordered               </span>┃<span style=\"font-weight: bold\"> unique             </span>┃  │\n",
       "│ ┡━━━━━━━━━━━━━━━━━━━━━━━━━━━━━━━━━━╇━━━━━━━━━━━╇━━━━━━━━━━━━━━━━╇━━━━━━━━━━━━━━━━━━━━━━━╇━━━━━━━━━━━━━━━━━━━━┩  │\n",
       "│ │ <span style=\"color: #af87ff; text-decoration-color: #af87ff\">rank                            </span> │ <span style=\"color: #008080; text-decoration-color: #008080\">        0</span> │ <span style=\"color: #008080; text-decoration-color: #008080\">             0</span> │ <span style=\"color: #00d7ff; text-decoration-color: #00d7ff\">False                </span> │ <span style=\"color: #008080; text-decoration-color: #008080\">                 4</span> │  │\n",
       "│ └──────────────────────────────────┴───────────┴────────────────┴───────────────────────┴────────────────────┘  │\n",
       "╰────────────────────────────────────────────────────── End ──────────────────────────────────────────────────────╯\n",
       "</pre>\n"
      ],
      "text/plain": [
       "╭──────────────────────────────────────────────── skimpy summary ─────────────────────────────────────────────────╮\n",
       "│ \u001b[3m         Data Summary         \u001b[0m \u001b[3m      Data Types       \u001b[0m \u001b[3m       Categories        \u001b[0m                                │\n",
       "│ ┏━━━━━━━━━━━━━━━━━━━┳━━━━━━━━┓ ┏━━━━━━━━━━━━━┳━━━━━━━┓ ┏━━━━━━━━━━━━━━━━━━━━━━━┓                                │\n",
       "│ ┃\u001b[3;35m \u001b[0m\u001b[3;35mdataframe        \u001b[0m\u001b[3;35m \u001b[0m┃\u001b[3;35m \u001b[0m\u001b[3;35mValues\u001b[0m\u001b[3;35m \u001b[0m┃ ┃\u001b[3;35m \u001b[0m\u001b[3;35mColumn Type\u001b[0m\u001b[3;35m \u001b[0m┃\u001b[3;35m \u001b[0m\u001b[3;35mCount\u001b[0m\u001b[3;35m \u001b[0m┃ ┃\u001b[3;35m \u001b[0m\u001b[3;35mCategorical Variables\u001b[0m\u001b[3;35m \u001b[0m┃                                │\n",
       "│ ┡━━━━━━━━━━━━━━━━━━━╇━━━━━━━━┩ ┡━━━━━━━━━━━━━╇━━━━━━━┩ ┡━━━━━━━━━━━━━━━━━━━━━━━┩                                │\n",
       "│ │ Number of rows    │ 400    │ │ int32       │ 2     │ │ rank                  │                                │\n",
       "│ │ Number of columns │ 4      │ │ float64     │ 1     │ └───────────────────────┘                                │\n",
       "│ └───────────────────┴────────┘ │ category    │ 1     │                                                          │\n",
       "│                                └─────────────┴───────┘                                                          │\n",
       "│ \u001b[3m                                                    number                                                    \u001b[0m  │\n",
       "│ ┏━━━━━━━━━━━━━━━━━━━┳━━━━━━┳━━━━━━━━━┳━━━━━━━━━┳━━━━━━━━━┳━━━━━━━┳━━━━━━━┳━━━━━━━┳━━━━━━━┳━━━━━━━━┳━━━━━━━━━━┓  │\n",
       "│ ┃\u001b[1m \u001b[0m\u001b[1mcolumn_name      \u001b[0m\u001b[1m \u001b[0m┃\u001b[1m \u001b[0m\u001b[1mNA  \u001b[0m\u001b[1m \u001b[0m┃\u001b[1m \u001b[0m\u001b[1mNA %   \u001b[0m\u001b[1m \u001b[0m┃\u001b[1m \u001b[0m\u001b[1mmean   \u001b[0m\u001b[1m \u001b[0m┃\u001b[1m \u001b[0m\u001b[1msd     \u001b[0m\u001b[1m \u001b[0m┃\u001b[1m \u001b[0m\u001b[1mp0   \u001b[0m\u001b[1m \u001b[0m┃\u001b[1m \u001b[0m\u001b[1mp25  \u001b[0m\u001b[1m \u001b[0m┃\u001b[1m \u001b[0m\u001b[1mp50  \u001b[0m\u001b[1m \u001b[0m┃\u001b[1m \u001b[0m\u001b[1mp75  \u001b[0m\u001b[1m \u001b[0m┃\u001b[1m \u001b[0m\u001b[1mp100  \u001b[0m\u001b[1m \u001b[0m┃\u001b[1m \u001b[0m\u001b[1mhist    \u001b[0m\u001b[1m \u001b[0m┃  │\n",
       "│ ┡━━━━━━━━━━━━━━━━━━━╇━━━━━━╇━━━━━━━━━╇━━━━━━━━━╇━━━━━━━━━╇━━━━━━━╇━━━━━━━╇━━━━━━━╇━━━━━━━╇━━━━━━━━╇━━━━━━━━━━┩  │\n",
       "│ │ \u001b[38;5;141madmit            \u001b[0m │ \u001b[36m   0\u001b[0m │ \u001b[36m      0\u001b[0m │ \u001b[36m   0.32\u001b[0m │ \u001b[36m   0.47\u001b[0m │ \u001b[36m    0\u001b[0m │ \u001b[36m    0\u001b[0m │ \u001b[36m    0\u001b[0m │ \u001b[36m    1\u001b[0m │ \u001b[36m     1\u001b[0m │ \u001b[32m ▇    ▃ \u001b[0m │  │\n",
       "│ │ \u001b[38;5;141mgre              \u001b[0m │ \u001b[36m   0\u001b[0m │ \u001b[36m      0\u001b[0m │ \u001b[36m    590\u001b[0m │ \u001b[36m    120\u001b[0m │ \u001b[36m  220\u001b[0m │ \u001b[36m  520\u001b[0m │ \u001b[36m  580\u001b[0m │ \u001b[36m  660\u001b[0m │ \u001b[36m   800\u001b[0m │ \u001b[32m  ▂▅▇▇▃ \u001b[0m │  │\n",
       "│ │ \u001b[38;5;141mgpa              \u001b[0m │ \u001b[36m   0\u001b[0m │ \u001b[36m      0\u001b[0m │ \u001b[36m    3.4\u001b[0m │ \u001b[36m   0.38\u001b[0m │ \u001b[36m  2.3\u001b[0m │ \u001b[36m  3.1\u001b[0m │ \u001b[36m  3.4\u001b[0m │ \u001b[36m  3.7\u001b[0m │ \u001b[36m     4\u001b[0m │ \u001b[32m  ▂▅▇▇▇ \u001b[0m │  │\n",
       "│ └───────────────────┴──────┴─────────┴─────────┴─────────┴───────┴───────┴───────┴───────┴────────┴──────────┘  │\n",
       "│ \u001b[3m                                                   category                                                   \u001b[0m  │\n",
       "│ ┏━━━━━━━━━━━━━━━━━━━━━━━━━━━━━━━━━━┳━━━━━━━━━━━┳━━━━━━━━━━━━━━━━┳━━━━━━━━━━━━━━━━━━━━━━━┳━━━━━━━━━━━━━━━━━━━━┓  │\n",
       "│ ┃\u001b[1m \u001b[0m\u001b[1mcolumn_name                     \u001b[0m\u001b[1m \u001b[0m┃\u001b[1m \u001b[0m\u001b[1mNA       \u001b[0m\u001b[1m \u001b[0m┃\u001b[1m \u001b[0m\u001b[1mNA %          \u001b[0m\u001b[1m \u001b[0m┃\u001b[1m \u001b[0m\u001b[1mordered              \u001b[0m\u001b[1m \u001b[0m┃\u001b[1m \u001b[0m\u001b[1munique            \u001b[0m\u001b[1m \u001b[0m┃  │\n",
       "│ ┡━━━━━━━━━━━━━━━━━━━━━━━━━━━━━━━━━━╇━━━━━━━━━━━╇━━━━━━━━━━━━━━━━╇━━━━━━━━━━━━━━━━━━━━━━━╇━━━━━━━━━━━━━━━━━━━━┩  │\n",
       "│ │ \u001b[38;5;141mrank                            \u001b[0m │ \u001b[36m        0\u001b[0m │ \u001b[36m             0\u001b[0m │ \u001b[38;5;45mFalse                \u001b[0m │ \u001b[36m                 4\u001b[0m │  │\n",
       "│ └──────────────────────────────────┴───────────┴────────────────┴───────────────────────┴────────────────────┘  │\n",
       "╰────────────────────────────────────────────────────── End ──────────────────────────────────────────────────────╯\n"
      ]
     },
     "metadata": {},
     "output_type": "display_data"
    }
   ],
   "source": [
    "skim(binarie,header_style=\"italic magenta\")"
   ]
  },
  {
   "cell_type": "code",
   "execution_count": 10,
   "metadata": {},
   "outputs": [
    {
     "data": {
      "text/html": [
       "<table class=\"simpletable\">\n",
       "<tr>\n",
       "        <td>Model:</td>              <td>Logit</td>           <td>Method:</td>          <td>MLE</td>   \n",
       "</tr>\n",
       "<tr>\n",
       "  <td>Dependent Variable:</td>       <td>admit</td>      <td>Pseudo R-squared:</td>    <td>0.083</td>  \n",
       "</tr>\n",
       "<tr>\n",
       "         <td>Date:</td>        <td>2023-09-17 17:45</td>       <td>AIC:</td>         <td>470.5175</td> \n",
       "</tr>\n",
       "<tr>\n",
       "   <td>No. Observations:</td>         <td>400</td>             <td>BIC:</td>         <td>494.4663</td> \n",
       "</tr>\n",
       "<tr>\n",
       "       <td>Df Model:</td>              <td>5</td>         <td>Log-Likelihood:</td>    <td>-229.26</td> \n",
       "</tr>\n",
       "<tr>\n",
       "     <td>Df Residuals:</td>           <td>394</td>           <td>LL-Null:</td>        <td>-249.99</td> \n",
       "</tr>\n",
       "<tr>\n",
       "      <td>Converged:</td>           <td>1.0000</td>        <td>LLR p-value:</td>    <td>7.5782e-08</td>\n",
       "</tr>\n",
       "<tr>\n",
       "    <td>No. Iterations:</td>        <td>6.0000</td>           <td>Scale:</td>         <td>1.0000</td>  \n",
       "</tr>\n",
       "</table>\n",
       "<table class=\"simpletable\">\n",
       "<tr>\n",
       "      <td></td>       <th>Coef.</th>  <th>Std.Err.</th>    <th>z</th>     <th>P>|z|</th> <th>[0.025</th>  <th>0.975]</th> \n",
       "</tr>\n",
       "<tr>\n",
       "  <th>Intercept</th> <td>-3.9900</td>  <td>1.1400</td>  <td>-3.5001</td> <td>0.0005</td> <td>-6.2242</td> <td>-1.7557</td>\n",
       "</tr>\n",
       "<tr>\n",
       "  <th>rank[T.2]</th> <td>-0.6754</td>  <td>0.3165</td>  <td>-2.1342</td> <td>0.0328</td> <td>-1.2958</td> <td>-0.0551</td>\n",
       "</tr>\n",
       "<tr>\n",
       "  <th>rank[T.3]</th> <td>-1.3402</td>  <td>0.3453</td>  <td>-3.8812</td> <td>0.0001</td> <td>-2.0170</td> <td>-0.6634</td>\n",
       "</tr>\n",
       "<tr>\n",
       "  <th>rank[T.4]</th> <td>-1.5515</td>  <td>0.4178</td>  <td>-3.7131</td> <td>0.0002</td> <td>-2.3704</td> <td>-0.7325</td>\n",
       "</tr>\n",
       "<tr>\n",
       "  <th>gre</th>       <td>0.0023</td>   <td>0.0011</td>  <td>2.0699</td>  <td>0.0385</td> <td>0.0001</td>  <td>0.0044</td> \n",
       "</tr>\n",
       "<tr>\n",
       "  <th>gpa</th>       <td>0.8040</td>   <td>0.3318</td>  <td>2.4231</td>  <td>0.0154</td> <td>0.1537</td>  <td>1.4544</td> \n",
       "</tr>\n",
       "</table><br/>\n"
      ],
      "text/latex": [
       "\\begin{table}\n",
       "\\caption{Results: Logit}\n",
       "\\label{}\n",
       "\\begin{center}\n",
       "\\begin{tabular}{llll}\n",
       "\\hline\n",
       "Model:              & Logit            & Method:           & MLE         \\\\\n",
       "Dependent Variable: & admit            & Pseudo R-squared: & 0.083       \\\\\n",
       "Date:               & 2023-09-17 17:45 & AIC:              & 470.5175    \\\\\n",
       "No. Observations:   & 400              & BIC:              & 494.4663    \\\\\n",
       "Df Model:           & 5                & Log-Likelihood:   & -229.26     \\\\\n",
       "Df Residuals:       & 394              & LL-Null:          & -249.99     \\\\\n",
       "Converged:          & 1.0000           & LLR p-value:      & 7.5782e-08  \\\\\n",
       "No. Iterations:     & 6.0000           & Scale:            & 1.0000      \\\\\n",
       "\\hline\n",
       "\\end{tabular}\n",
       "\\end{center}\n",
       "\n",
       "\\begin{center}\n",
       "\\begin{tabular}{lrrrrrr}\n",
       "\\hline\n",
       "          &   Coef. & Std.Err. &       z & P$> |$z$|$ &  [0.025 &  0.975]  \\\\\n",
       "\\hline\n",
       "Intercept & -3.9900 &   1.1400 & -3.5001 &      0.0005 & -6.2242 & -1.7557  \\\\\n",
       "rank[T.2] & -0.6754 &   0.3165 & -2.1342 &      0.0328 & -1.2958 & -0.0551  \\\\\n",
       "rank[T.3] & -1.3402 &   0.3453 & -3.8812 &      0.0001 & -2.0170 & -0.6634  \\\\\n",
       "rank[T.4] & -1.5515 &   0.4178 & -3.7131 &      0.0002 & -2.3704 & -0.7325  \\\\\n",
       "gre       &  0.0023 &   0.0011 &  2.0699 &      0.0385 &  0.0001 &  0.0044  \\\\\n",
       "gpa       &  0.8040 &   0.3318 &  2.4231 &      0.0154 &  0.1537 &  1.4544  \\\\\n",
       "\\hline\n",
       "\\end{tabular}\n",
       "\\end{center}\n",
       "\\end{table}\n",
       "\\bigskip\n"
      ],
      "text/plain": [
       "<class 'statsmodels.iolib.summary2.Summary'>\n",
       "\"\"\"\n",
       "                         Results: Logit\n",
       "=================================================================\n",
       "Model:              Logit            Method:           MLE       \n",
       "Dependent Variable: admit            Pseudo R-squared: 0.083     \n",
       "Date:               2023-09-17 17:45 AIC:              470.5175  \n",
       "No. Observations:   400              BIC:              494.4663  \n",
       "Df Model:           5                Log-Likelihood:   -229.26   \n",
       "Df Residuals:       394              LL-Null:          -249.99   \n",
       "Converged:          1.0000           LLR p-value:      7.5782e-08\n",
       "No. Iterations:     6.0000           Scale:            1.0000    \n",
       "------------------------------------------------------------------\n",
       "               Coef.   Std.Err.     z     P>|z|    [0.025   0.975]\n",
       "------------------------------------------------------------------\n",
       "Intercept     -3.9900    1.1400  -3.5001  0.0005  -6.2242  -1.7557\n",
       "rank[T.2]     -0.6754    0.3165  -2.1342  0.0328  -1.2958  -0.0551\n",
       "rank[T.3]     -1.3402    0.3453  -3.8812  0.0001  -2.0170  -0.6634\n",
       "rank[T.4]     -1.5515    0.4178  -3.7131  0.0002  -2.3704  -0.7325\n",
       "gre            0.0023    0.0011   2.0699  0.0385   0.0001   0.0044\n",
       "gpa            0.8040    0.3318   2.4231  0.0154   0.1537   1.4544\n",
       "=================================================================\n",
       "\n",
       "\"\"\""
      ]
     },
     "execution_count": 10,
     "metadata": {},
     "output_type": "execute_result"
    }
   ],
   "source": [
    "# Logistic model\n",
    "glm = smf.logit(\"admit~gre+gpa+ rank\", data = binarie).fit(disp=False)\n",
    "glm.summary2()"
   ]
  },
  {
   "cell_type": "markdown",
   "metadata": {},
   "source": [
    "### Multinomial Logistic Regression"
   ]
  },
  {
   "cell_type": "code",
   "execution_count": 11,
   "metadata": {},
   "outputs": [
    {
     "data": {
      "text/html": [
       "<div>\n",
       "<style scoped>\n",
       "    .dataframe tbody tr th:only-of-type {\n",
       "        vertical-align: middle;\n",
       "    }\n",
       "\n",
       "    .dataframe tbody tr th {\n",
       "        vertical-align: top;\n",
       "    }\n",
       "\n",
       "    .dataframe thead th {\n",
       "        text-align: right;\n",
       "    }\n",
       "</style>\n",
       "<table border=\"1\" class=\"dataframe\">\n",
       "  <thead>\n",
       "    <tr style=\"text-align: right;\">\n",
       "      <th></th>\n",
       "      <th>id</th>\n",
       "      <th>female</th>\n",
       "      <th>ses</th>\n",
       "      <th>schtyp</th>\n",
       "      <th>prog</th>\n",
       "      <th>read</th>\n",
       "      <th>write</th>\n",
       "      <th>math</th>\n",
       "      <th>science</th>\n",
       "      <th>socst</th>\n",
       "      <th>honors</th>\n",
       "      <th>awards</th>\n",
       "      <th>cid</th>\n",
       "    </tr>\n",
       "  </thead>\n",
       "  <tbody>\n",
       "    <tr>\n",
       "      <th>0</th>\n",
       "      <td>45.0</td>\n",
       "      <td>female</td>\n",
       "      <td>low</td>\n",
       "      <td>public</td>\n",
       "      <td>vocation</td>\n",
       "      <td>34.0</td>\n",
       "      <td>35.0</td>\n",
       "      <td>41.0</td>\n",
       "      <td>29.0</td>\n",
       "      <td>26.0</td>\n",
       "      <td>not enrolled</td>\n",
       "      <td>0.0</td>\n",
       "      <td>1</td>\n",
       "    </tr>\n",
       "    <tr>\n",
       "      <th>1</th>\n",
       "      <td>108.0</td>\n",
       "      <td>male</td>\n",
       "      <td>middle</td>\n",
       "      <td>public</td>\n",
       "      <td>general</td>\n",
       "      <td>34.0</td>\n",
       "      <td>33.0</td>\n",
       "      <td>41.0</td>\n",
       "      <td>36.0</td>\n",
       "      <td>36.0</td>\n",
       "      <td>not enrolled</td>\n",
       "      <td>0.0</td>\n",
       "      <td>1</td>\n",
       "    </tr>\n",
       "    <tr>\n",
       "      <th>2</th>\n",
       "      <td>15.0</td>\n",
       "      <td>male</td>\n",
       "      <td>high</td>\n",
       "      <td>public</td>\n",
       "      <td>vocation</td>\n",
       "      <td>39.0</td>\n",
       "      <td>39.0</td>\n",
       "      <td>44.0</td>\n",
       "      <td>26.0</td>\n",
       "      <td>42.0</td>\n",
       "      <td>not enrolled</td>\n",
       "      <td>0.0</td>\n",
       "      <td>1</td>\n",
       "    </tr>\n",
       "    <tr>\n",
       "      <th>3</th>\n",
       "      <td>67.0</td>\n",
       "      <td>male</td>\n",
       "      <td>low</td>\n",
       "      <td>public</td>\n",
       "      <td>vocation</td>\n",
       "      <td>37.0</td>\n",
       "      <td>37.0</td>\n",
       "      <td>42.0</td>\n",
       "      <td>33.0</td>\n",
       "      <td>32.0</td>\n",
       "      <td>not enrolled</td>\n",
       "      <td>0.0</td>\n",
       "      <td>1</td>\n",
       "    </tr>\n",
       "    <tr>\n",
       "      <th>4</th>\n",
       "      <td>153.0</td>\n",
       "      <td>male</td>\n",
       "      <td>middle</td>\n",
       "      <td>public</td>\n",
       "      <td>vocation</td>\n",
       "      <td>39.0</td>\n",
       "      <td>31.0</td>\n",
       "      <td>40.0</td>\n",
       "      <td>39.0</td>\n",
       "      <td>51.0</td>\n",
       "      <td>not enrolled</td>\n",
       "      <td>0.0</td>\n",
       "      <td>1</td>\n",
       "    </tr>\n",
       "  </tbody>\n",
       "</table>\n",
       "</div>"
      ],
      "text/plain": [
       "      id  female     ses  schtyp      prog  read  write  math  science  socst  \\\n",
       "0   45.0  female     low  public  vocation  34.0   35.0  41.0     29.0   26.0   \n",
       "1  108.0    male  middle  public   general  34.0   33.0  41.0     36.0   36.0   \n",
       "2   15.0    male    high  public  vocation  39.0   39.0  44.0     26.0   42.0   \n",
       "3   67.0    male     low  public  vocation  37.0   37.0  42.0     33.0   32.0   \n",
       "4  153.0    male  middle  public  vocation  39.0   31.0  40.0     39.0   51.0   \n",
       "\n",
       "         honors  awards  cid  \n",
       "0  not enrolled     0.0    1  \n",
       "1  not enrolled     0.0    1  \n",
       "2  not enrolled     0.0    1  \n",
       "3  not enrolled     0.0    1  \n",
       "4  not enrolled     0.0    1  "
      ]
     },
     "execution_count": 11,
     "metadata": {},
     "output_type": "execute_result"
    }
   ],
   "source": [
    "# Multinomial Logistic Regression\n",
    "hsbdemo = pd.read_stata(\"https://stats.idre.ucla.edu/stat/data/hsbdemo.dta\")\n",
    "hsbdemo.head()"
   ]
  },
  {
   "cell_type": "code",
   "execution_count": 12,
   "metadata": {},
   "outputs": [
    {
     "name": "stdout",
     "output_type": "stream",
     "text": [
      "<class 'pandas.core.frame.DataFrame'>\n",
      "RangeIndex: 200 entries, 0 to 199\n",
      "Data columns (total 13 columns):\n",
      " #   Column   Non-Null Count  Dtype   \n",
      "---  ------   --------------  -----   \n",
      " 0   id       200 non-null    float32 \n",
      " 1   female   200 non-null    category\n",
      " 2   ses      200 non-null    category\n",
      " 3   schtyp   200 non-null    category\n",
      " 4   prog     200 non-null    category\n",
      " 5   read     200 non-null    float32 \n",
      " 6   write    200 non-null    float32 \n",
      " 7   math     200 non-null    float32 \n",
      " 8   science  200 non-null    float32 \n",
      " 9   socst    200 non-null    float32 \n",
      " 10  honors   200 non-null    category\n",
      " 11  awards   200 non-null    float32 \n",
      " 12  cid      200 non-null    int16   \n",
      "dtypes: category(5), float32(7), int16(1)\n",
      "memory usage: 7.6 KB\n"
     ]
    }
   ],
   "source": [
    "hsbdemo.info()"
   ]
  },
  {
   "cell_type": "code",
   "execution_count": 13,
   "metadata": {},
   "outputs": [
    {
     "data": {
      "text/html": [
       "<pre style=\"white-space:pre;overflow-x:auto;line-height:normal;font-family:Menlo,'DejaVu Sans Mono',consolas,'Courier New',monospace\">╭──────────────────────────────────────────────── skimpy summary ─────────────────────────────────────────────────╮\n",
       "│ <span style=\"font-style: italic\">         Data Summary         </span> <span style=\"font-style: italic\">      Data Types       </span> <span style=\"font-style: italic\">       Categories        </span>                                │\n",
       "│ ┏━━━━━━━━━━━━━━━━━━━┳━━━━━━━━┓ ┏━━━━━━━━━━━━━┳━━━━━━━┓ ┏━━━━━━━━━━━━━━━━━━━━━━━┓                                │\n",
       "│ ┃<span style=\"color: #800080; text-decoration-color: #800080; font-style: italic\"> dataframe         </span>┃<span style=\"color: #800080; text-decoration-color: #800080; font-style: italic\"> Values </span>┃ ┃<span style=\"color: #800080; text-decoration-color: #800080; font-style: italic\"> Column Type </span>┃<span style=\"color: #800080; text-decoration-color: #800080; font-style: italic\"> Count </span>┃ ┃<span style=\"color: #800080; text-decoration-color: #800080; font-style: italic\"> Categorical Variables </span>┃                                │\n",
       "│ ┡━━━━━━━━━━━━━━━━━━━╇━━━━━━━━┩ ┡━━━━━━━━━━━━━╇━━━━━━━┩ ┡━━━━━━━━━━━━━━━━━━━━━━━┩                                │\n",
       "│ │ Number of rows    │ 200    │ │ float64     │ 7     │ │ female                │                                │\n",
       "│ │ Number of columns │ 13     │ │ category    │ 5     │ │ ses                   │                                │\n",
       "│ └───────────────────┴────────┘ │ int32       │ 1     │ │ schtyp                │                                │\n",
       "│                                └─────────────┴───────┘ │ prog                  │                                │\n",
       "│                                                        │ honors                │                                │\n",
       "│                                                        └───────────────────────┘                                │\n",
       "│ <span style=\"font-style: italic\">                                                    number                                                    </span>  │\n",
       "│ ┏━━━━━━━━━━━━━━━━━━━━┳━━━━━━┳━━━━━━━━━┳━━━━━━━━━┳━━━━━━━━┳━━━━━━┳━━━━━━━┳━━━━━━━┳━━━━━━━┳━━━━━━━━━┳━━━━━━━━━━┓  │\n",
       "│ ┃<span style=\"font-weight: bold\"> column_name        </span>┃<span style=\"font-weight: bold\"> NA   </span>┃<span style=\"font-weight: bold\"> NA %    </span>┃<span style=\"font-weight: bold\"> mean    </span>┃<span style=\"font-weight: bold\"> sd     </span>┃<span style=\"font-weight: bold\"> p0   </span>┃<span style=\"font-weight: bold\"> p25   </span>┃<span style=\"font-weight: bold\"> p50   </span>┃<span style=\"font-weight: bold\"> p75   </span>┃<span style=\"font-weight: bold\"> p100    </span>┃<span style=\"font-weight: bold\"> hist     </span>┃  │\n",
       "│ ┡━━━━━━━━━━━━━━━━━━━━╇━━━━━━╇━━━━━━━━━╇━━━━━━━━━╇━━━━━━━━╇━━━━━━╇━━━━━━━╇━━━━━━━╇━━━━━━━╇━━━━━━━━━╇━━━━━━━━━━┩  │\n",
       "│ │ <span style=\"color: #af87ff; text-decoration-color: #af87ff\">id                </span> │ <span style=\"color: #008080; text-decoration-color: #008080\">   0</span> │ <span style=\"color: #008080; text-decoration-color: #008080\">      0</span> │ <span style=\"color: #008080; text-decoration-color: #008080\">    100</span> │ <span style=\"color: #008080; text-decoration-color: #008080\">    58</span> │ <span style=\"color: #008080; text-decoration-color: #008080\">   1</span> │ <span style=\"color: #008080; text-decoration-color: #008080\">   51</span> │ <span style=\"color: #008080; text-decoration-color: #008080\">  100</span> │ <span style=\"color: #008080; text-decoration-color: #008080\">  150</span> │ <span style=\"color: #008080; text-decoration-color: #008080\">    200</span> │ <span style=\"color: #008000; text-decoration-color: #008000\"> ▇▇▇▇▇▇ </span> │  │\n",
       "│ │ <span style=\"color: #af87ff; text-decoration-color: #af87ff\">read              </span> │ <span style=\"color: #008080; text-decoration-color: #008080\">   0</span> │ <span style=\"color: #008080; text-decoration-color: #008080\">      0</span> │ <span style=\"color: #008080; text-decoration-color: #008080\">     52</span> │ <span style=\"color: #008080; text-decoration-color: #008080\">    10</span> │ <span style=\"color: #008080; text-decoration-color: #008080\">  28</span> │ <span style=\"color: #008080; text-decoration-color: #008080\">   44</span> │ <span style=\"color: #008080; text-decoration-color: #008080\">   50</span> │ <span style=\"color: #008080; text-decoration-color: #008080\">   60</span> │ <span style=\"color: #008080; text-decoration-color: #008080\">     76</span> │ <span style=\"color: #008000; text-decoration-color: #008000\"> ▁▃▇▆▅▃ </span> │  │\n",
       "│ │ <span style=\"color: #af87ff; text-decoration-color: #af87ff\">write             </span> │ <span style=\"color: #008080; text-decoration-color: #008080\">   0</span> │ <span style=\"color: #008080; text-decoration-color: #008080\">      0</span> │ <span style=\"color: #008080; text-decoration-color: #008080\">     53</span> │ <span style=\"color: #008080; text-decoration-color: #008080\">   9.5</span> │ <span style=\"color: #008080; text-decoration-color: #008080\">  31</span> │ <span style=\"color: #008080; text-decoration-color: #008080\">   46</span> │ <span style=\"color: #008080; text-decoration-color: #008080\">   54</span> │ <span style=\"color: #008080; text-decoration-color: #008080\">   60</span> │ <span style=\"color: #008080; text-decoration-color: #008080\">     67</span> │ <span style=\"color: #008000; text-decoration-color: #008000\"> ▂▃▅▇▇▇ </span> │  │\n",
       "│ │ <span style=\"color: #af87ff; text-decoration-color: #af87ff\">math              </span> │ <span style=\"color: #008080; text-decoration-color: #008080\">   0</span> │ <span style=\"color: #008080; text-decoration-color: #008080\">      0</span> │ <span style=\"color: #008080; text-decoration-color: #008080\">     53</span> │ <span style=\"color: #008080; text-decoration-color: #008080\">   9.4</span> │ <span style=\"color: #008080; text-decoration-color: #008080\">  33</span> │ <span style=\"color: #008080; text-decoration-color: #008080\">   45</span> │ <span style=\"color: #008080; text-decoration-color: #008080\">   52</span> │ <span style=\"color: #008080; text-decoration-color: #008080\">   59</span> │ <span style=\"color: #008080; text-decoration-color: #008080\">     75</span> │ <span style=\"color: #008000; text-decoration-color: #008000\"> ▂▇▇▇▅▂ </span> │  │\n",
       "│ │ <span style=\"color: #af87ff; text-decoration-color: #af87ff\">science           </span> │ <span style=\"color: #008080; text-decoration-color: #008080\">   0</span> │ <span style=\"color: #008080; text-decoration-color: #008080\">      0</span> │ <span style=\"color: #008080; text-decoration-color: #008080\">     52</span> │ <span style=\"color: #008080; text-decoration-color: #008080\">   9.9</span> │ <span style=\"color: #008080; text-decoration-color: #008080\">  26</span> │ <span style=\"color: #008080; text-decoration-color: #008080\">   44</span> │ <span style=\"color: #008080; text-decoration-color: #008080\">   53</span> │ <span style=\"color: #008080; text-decoration-color: #008080\">   58</span> │ <span style=\"color: #008080; text-decoration-color: #008080\">     74</span> │ <span style=\"color: #008000; text-decoration-color: #008000\"> ▁▃▅▇▆▂ </span> │  │\n",
       "│ │ <span style=\"color: #af87ff; text-decoration-color: #af87ff\">socst             </span> │ <span style=\"color: #008080; text-decoration-color: #008080\">   0</span> │ <span style=\"color: #008080; text-decoration-color: #008080\">      0</span> │ <span style=\"color: #008080; text-decoration-color: #008080\">     52</span> │ <span style=\"color: #008080; text-decoration-color: #008080\">    11</span> │ <span style=\"color: #008080; text-decoration-color: #008080\">  26</span> │ <span style=\"color: #008080; text-decoration-color: #008080\">   46</span> │ <span style=\"color: #008080; text-decoration-color: #008080\">   52</span> │ <span style=\"color: #008080; text-decoration-color: #008080\">   61</span> │ <span style=\"color: #008080; text-decoration-color: #008080\">     71</span> │ <span style=\"color: #008000; text-decoration-color: #008000\"> ▂▁▅▃▇▃ </span> │  │\n",
       "│ │ <span style=\"color: #af87ff; text-decoration-color: #af87ff\">awards            </span> │ <span style=\"color: #008080; text-decoration-color: #008080\">   0</span> │ <span style=\"color: #008080; text-decoration-color: #008080\">      0</span> │ <span style=\"color: #008080; text-decoration-color: #008080\">    1.7</span> │ <span style=\"color: #008080; text-decoration-color: #008080\">   1.8</span> │ <span style=\"color: #008080; text-decoration-color: #008080\">   0</span> │ <span style=\"color: #008080; text-decoration-color: #008080\">    0</span> │ <span style=\"color: #008080; text-decoration-color: #008080\">    1</span> │ <span style=\"color: #008080; text-decoration-color: #008080\">    2</span> │ <span style=\"color: #008080; text-decoration-color: #008080\">      7</span> │ <span style=\"color: #008000; text-decoration-color: #008000\"> ▇▃▂ ▁▁ </span> │  │\n",
       "│ │ <span style=\"color: #af87ff; text-decoration-color: #af87ff\">cid               </span> │ <span style=\"color: #008080; text-decoration-color: #008080\">   0</span> │ <span style=\"color: #008080; text-decoration-color: #008080\">      0</span> │ <span style=\"color: #008080; text-decoration-color: #008080\">     10</span> │ <span style=\"color: #008080; text-decoration-color: #008080\">   5.8</span> │ <span style=\"color: #008080; text-decoration-color: #008080\">   1</span> │ <span style=\"color: #008080; text-decoration-color: #008080\">    5</span> │ <span style=\"color: #008080; text-decoration-color: #008080\">   10</span> │ <span style=\"color: #008080; text-decoration-color: #008080\">   15</span> │ <span style=\"color: #008080; text-decoration-color: #008080\">     20</span> │ <span style=\"color: #008000; text-decoration-color: #008000\"> ▇▆▆▆▆▇ </span> │  │\n",
       "│ └────────────────────┴──────┴─────────┴─────────┴────────┴──────┴───────┴───────┴───────┴─────────┴──────────┘  │\n",
       "│ <span style=\"font-style: italic\">                                                   category                                                   </span>  │\n",
       "│ ┏━━━━━━━━━━━━━━━━━━━━━━━━━━━━━━━━━━┳━━━━━━━━━━━┳━━━━━━━━━━━━━━━━┳━━━━━━━━━━━━━━━━━━━━━━━┳━━━━━━━━━━━━━━━━━━━━┓  │\n",
       "│ ┃<span style=\"font-weight: bold\"> column_name                      </span>┃<span style=\"font-weight: bold\"> NA        </span>┃<span style=\"font-weight: bold\"> NA %           </span>┃<span style=\"font-weight: bold\"> ordered               </span>┃<span style=\"font-weight: bold\"> unique             </span>┃  │\n",
       "│ ┡━━━━━━━━━━━━━━━━━━━━━━━━━━━━━━━━━━╇━━━━━━━━━━━╇━━━━━━━━━━━━━━━━╇━━━━━━━━━━━━━━━━━━━━━━━╇━━━━━━━━━━━━━━━━━━━━┩  │\n",
       "│ │ <span style=\"color: #af87ff; text-decoration-color: #af87ff\">female                          </span> │ <span style=\"color: #008080; text-decoration-color: #008080\">        0</span> │ <span style=\"color: #008080; text-decoration-color: #008080\">             0</span> │ <span style=\"color: #00d7ff; text-decoration-color: #00d7ff\">True                 </span> │ <span style=\"color: #008080; text-decoration-color: #008080\">                 2</span> │  │\n",
       "│ │ <span style=\"color: #af87ff; text-decoration-color: #af87ff\">ses                             </span> │ <span style=\"color: #008080; text-decoration-color: #008080\">        0</span> │ <span style=\"color: #008080; text-decoration-color: #008080\">             0</span> │ <span style=\"color: #00d7ff; text-decoration-color: #00d7ff\">True                 </span> │ <span style=\"color: #008080; text-decoration-color: #008080\">                 3</span> │  │\n",
       "│ │ <span style=\"color: #af87ff; text-decoration-color: #af87ff\">schtyp                          </span> │ <span style=\"color: #008080; text-decoration-color: #008080\">        0</span> │ <span style=\"color: #008080; text-decoration-color: #008080\">             0</span> │ <span style=\"color: #00d7ff; text-decoration-color: #00d7ff\">True                 </span> │ <span style=\"color: #008080; text-decoration-color: #008080\">                 2</span> │  │\n",
       "│ │ <span style=\"color: #af87ff; text-decoration-color: #af87ff\">prog                            </span> │ <span style=\"color: #008080; text-decoration-color: #008080\">        0</span> │ <span style=\"color: #008080; text-decoration-color: #008080\">             0</span> │ <span style=\"color: #00d7ff; text-decoration-color: #00d7ff\">True                 </span> │ <span style=\"color: #008080; text-decoration-color: #008080\">                 3</span> │  │\n",
       "│ │ <span style=\"color: #af87ff; text-decoration-color: #af87ff\">honors                          </span> │ <span style=\"color: #008080; text-decoration-color: #008080\">        0</span> │ <span style=\"color: #008080; text-decoration-color: #008080\">             0</span> │ <span style=\"color: #00d7ff; text-decoration-color: #00d7ff\">True                 </span> │ <span style=\"color: #008080; text-decoration-color: #008080\">                 2</span> │  │\n",
       "│ └──────────────────────────────────┴───────────┴────────────────┴───────────────────────┴────────────────────┘  │\n",
       "╰────────────────────────────────────────────────────── End ──────────────────────────────────────────────────────╯\n",
       "</pre>\n"
      ],
      "text/plain": [
       "╭──────────────────────────────────────────────── skimpy summary ─────────────────────────────────────────────────╮\n",
       "│ \u001b[3m         Data Summary         \u001b[0m \u001b[3m      Data Types       \u001b[0m \u001b[3m       Categories        \u001b[0m                                │\n",
       "│ ┏━━━━━━━━━━━━━━━━━━━┳━━━━━━━━┓ ┏━━━━━━━━━━━━━┳━━━━━━━┓ ┏━━━━━━━━━━━━━━━━━━━━━━━┓                                │\n",
       "│ ┃\u001b[3;35m \u001b[0m\u001b[3;35mdataframe        \u001b[0m\u001b[3;35m \u001b[0m┃\u001b[3;35m \u001b[0m\u001b[3;35mValues\u001b[0m\u001b[3;35m \u001b[0m┃ ┃\u001b[3;35m \u001b[0m\u001b[3;35mColumn Type\u001b[0m\u001b[3;35m \u001b[0m┃\u001b[3;35m \u001b[0m\u001b[3;35mCount\u001b[0m\u001b[3;35m \u001b[0m┃ ┃\u001b[3;35m \u001b[0m\u001b[3;35mCategorical Variables\u001b[0m\u001b[3;35m \u001b[0m┃                                │\n",
       "│ ┡━━━━━━━━━━━━━━━━━━━╇━━━━━━━━┩ ┡━━━━━━━━━━━━━╇━━━━━━━┩ ┡━━━━━━━━━━━━━━━━━━━━━━━┩                                │\n",
       "│ │ Number of rows    │ 200    │ │ float64     │ 7     │ │ female                │                                │\n",
       "│ │ Number of columns │ 13     │ │ category    │ 5     │ │ ses                   │                                │\n",
       "│ └───────────────────┴────────┘ │ int32       │ 1     │ │ schtyp                │                                │\n",
       "│                                └─────────────┴───────┘ │ prog                  │                                │\n",
       "│                                                        │ honors                │                                │\n",
       "│                                                        └───────────────────────┘                                │\n",
       "│ \u001b[3m                                                    number                                                    \u001b[0m  │\n",
       "│ ┏━━━━━━━━━━━━━━━━━━━━┳━━━━━━┳━━━━━━━━━┳━━━━━━━━━┳━━━━━━━━┳━━━━━━┳━━━━━━━┳━━━━━━━┳━━━━━━━┳━━━━━━━━━┳━━━━━━━━━━┓  │\n",
       "│ ┃\u001b[1m \u001b[0m\u001b[1mcolumn_name       \u001b[0m\u001b[1m \u001b[0m┃\u001b[1m \u001b[0m\u001b[1mNA  \u001b[0m\u001b[1m \u001b[0m┃\u001b[1m \u001b[0m\u001b[1mNA %   \u001b[0m\u001b[1m \u001b[0m┃\u001b[1m \u001b[0m\u001b[1mmean   \u001b[0m\u001b[1m \u001b[0m┃\u001b[1m \u001b[0m\u001b[1msd    \u001b[0m\u001b[1m \u001b[0m┃\u001b[1m \u001b[0m\u001b[1mp0  \u001b[0m\u001b[1m \u001b[0m┃\u001b[1m \u001b[0m\u001b[1mp25  \u001b[0m\u001b[1m \u001b[0m┃\u001b[1m \u001b[0m\u001b[1mp50  \u001b[0m\u001b[1m \u001b[0m┃\u001b[1m \u001b[0m\u001b[1mp75  \u001b[0m\u001b[1m \u001b[0m┃\u001b[1m \u001b[0m\u001b[1mp100   \u001b[0m\u001b[1m \u001b[0m┃\u001b[1m \u001b[0m\u001b[1mhist    \u001b[0m\u001b[1m \u001b[0m┃  │\n",
       "│ ┡━━━━━━━━━━━━━━━━━━━━╇━━━━━━╇━━━━━━━━━╇━━━━━━━━━╇━━━━━━━━╇━━━━━━╇━━━━━━━╇━━━━━━━╇━━━━━━━╇━━━━━━━━━╇━━━━━━━━━━┩  │\n",
       "│ │ \u001b[38;5;141mid                \u001b[0m │ \u001b[36m   0\u001b[0m │ \u001b[36m      0\u001b[0m │ \u001b[36m    100\u001b[0m │ \u001b[36m    58\u001b[0m │ \u001b[36m   1\u001b[0m │ \u001b[36m   51\u001b[0m │ \u001b[36m  100\u001b[0m │ \u001b[36m  150\u001b[0m │ \u001b[36m    200\u001b[0m │ \u001b[32m ▇▇▇▇▇▇ \u001b[0m │  │\n",
       "│ │ \u001b[38;5;141mread              \u001b[0m │ \u001b[36m   0\u001b[0m │ \u001b[36m      0\u001b[0m │ \u001b[36m     52\u001b[0m │ \u001b[36m    10\u001b[0m │ \u001b[36m  28\u001b[0m │ \u001b[36m   44\u001b[0m │ \u001b[36m   50\u001b[0m │ \u001b[36m   60\u001b[0m │ \u001b[36m     76\u001b[0m │ \u001b[32m ▁▃▇▆▅▃ \u001b[0m │  │\n",
       "│ │ \u001b[38;5;141mwrite             \u001b[0m │ \u001b[36m   0\u001b[0m │ \u001b[36m      0\u001b[0m │ \u001b[36m     53\u001b[0m │ \u001b[36m   9.5\u001b[0m │ \u001b[36m  31\u001b[0m │ \u001b[36m   46\u001b[0m │ \u001b[36m   54\u001b[0m │ \u001b[36m   60\u001b[0m │ \u001b[36m     67\u001b[0m │ \u001b[32m ▂▃▅▇▇▇ \u001b[0m │  │\n",
       "│ │ \u001b[38;5;141mmath              \u001b[0m │ \u001b[36m   0\u001b[0m │ \u001b[36m      0\u001b[0m │ \u001b[36m     53\u001b[0m │ \u001b[36m   9.4\u001b[0m │ \u001b[36m  33\u001b[0m │ \u001b[36m   45\u001b[0m │ \u001b[36m   52\u001b[0m │ \u001b[36m   59\u001b[0m │ \u001b[36m     75\u001b[0m │ \u001b[32m ▂▇▇▇▅▂ \u001b[0m │  │\n",
       "│ │ \u001b[38;5;141mscience           \u001b[0m │ \u001b[36m   0\u001b[0m │ \u001b[36m      0\u001b[0m │ \u001b[36m     52\u001b[0m │ \u001b[36m   9.9\u001b[0m │ \u001b[36m  26\u001b[0m │ \u001b[36m   44\u001b[0m │ \u001b[36m   53\u001b[0m │ \u001b[36m   58\u001b[0m │ \u001b[36m     74\u001b[0m │ \u001b[32m ▁▃▅▇▆▂ \u001b[0m │  │\n",
       "│ │ \u001b[38;5;141msocst             \u001b[0m │ \u001b[36m   0\u001b[0m │ \u001b[36m      0\u001b[0m │ \u001b[36m     52\u001b[0m │ \u001b[36m    11\u001b[0m │ \u001b[36m  26\u001b[0m │ \u001b[36m   46\u001b[0m │ \u001b[36m   52\u001b[0m │ \u001b[36m   61\u001b[0m │ \u001b[36m     71\u001b[0m │ \u001b[32m ▂▁▅▃▇▃ \u001b[0m │  │\n",
       "│ │ \u001b[38;5;141mawards            \u001b[0m │ \u001b[36m   0\u001b[0m │ \u001b[36m      0\u001b[0m │ \u001b[36m    1.7\u001b[0m │ \u001b[36m   1.8\u001b[0m │ \u001b[36m   0\u001b[0m │ \u001b[36m    0\u001b[0m │ \u001b[36m    1\u001b[0m │ \u001b[36m    2\u001b[0m │ \u001b[36m      7\u001b[0m │ \u001b[32m ▇▃▂ ▁▁ \u001b[0m │  │\n",
       "│ │ \u001b[38;5;141mcid               \u001b[0m │ \u001b[36m   0\u001b[0m │ \u001b[36m      0\u001b[0m │ \u001b[36m     10\u001b[0m │ \u001b[36m   5.8\u001b[0m │ \u001b[36m   1\u001b[0m │ \u001b[36m    5\u001b[0m │ \u001b[36m   10\u001b[0m │ \u001b[36m   15\u001b[0m │ \u001b[36m     20\u001b[0m │ \u001b[32m ▇▆▆▆▆▇ \u001b[0m │  │\n",
       "│ └────────────────────┴──────┴─────────┴─────────┴────────┴──────┴───────┴───────┴───────┴─────────┴──────────┘  │\n",
       "│ \u001b[3m                                                   category                                                   \u001b[0m  │\n",
       "│ ┏━━━━━━━━━━━━━━━━━━━━━━━━━━━━━━━━━━┳━━━━━━━━━━━┳━━━━━━━━━━━━━━━━┳━━━━━━━━━━━━━━━━━━━━━━━┳━━━━━━━━━━━━━━━━━━━━┓  │\n",
       "│ ┃\u001b[1m \u001b[0m\u001b[1mcolumn_name                     \u001b[0m\u001b[1m \u001b[0m┃\u001b[1m \u001b[0m\u001b[1mNA       \u001b[0m\u001b[1m \u001b[0m┃\u001b[1m \u001b[0m\u001b[1mNA %          \u001b[0m\u001b[1m \u001b[0m┃\u001b[1m \u001b[0m\u001b[1mordered              \u001b[0m\u001b[1m \u001b[0m┃\u001b[1m \u001b[0m\u001b[1munique            \u001b[0m\u001b[1m \u001b[0m┃  │\n",
       "│ ┡━━━━━━━━━━━━━━━━━━━━━━━━━━━━━━━━━━╇━━━━━━━━━━━╇━━━━━━━━━━━━━━━━╇━━━━━━━━━━━━━━━━━━━━━━━╇━━━━━━━━━━━━━━━━━━━━┩  │\n",
       "│ │ \u001b[38;5;141mfemale                          \u001b[0m │ \u001b[36m        0\u001b[0m │ \u001b[36m             0\u001b[0m │ \u001b[38;5;45mTrue                 \u001b[0m │ \u001b[36m                 2\u001b[0m │  │\n",
       "│ │ \u001b[38;5;141mses                             \u001b[0m │ \u001b[36m        0\u001b[0m │ \u001b[36m             0\u001b[0m │ \u001b[38;5;45mTrue                 \u001b[0m │ \u001b[36m                 3\u001b[0m │  │\n",
       "│ │ \u001b[38;5;141mschtyp                          \u001b[0m │ \u001b[36m        0\u001b[0m │ \u001b[36m             0\u001b[0m │ \u001b[38;5;45mTrue                 \u001b[0m │ \u001b[36m                 2\u001b[0m │  │\n",
       "│ │ \u001b[38;5;141mprog                            \u001b[0m │ \u001b[36m        0\u001b[0m │ \u001b[36m             0\u001b[0m │ \u001b[38;5;45mTrue                 \u001b[0m │ \u001b[36m                 3\u001b[0m │  │\n",
       "│ │ \u001b[38;5;141mhonors                          \u001b[0m │ \u001b[36m        0\u001b[0m │ \u001b[36m             0\u001b[0m │ \u001b[38;5;45mTrue                 \u001b[0m │ \u001b[36m                 2\u001b[0m │  │\n",
       "│ └──────────────────────────────────┴───────────┴────────────────┴───────────────────────┴────────────────────┘  │\n",
       "╰────────────────────────────────────────────────────── End ──────────────────────────────────────────────────────╯\n"
      ]
     },
     "metadata": {},
     "output_type": "display_data"
    }
   ],
   "source": [
    "skim(hsbdemo,header_style=\"italic magenta\")"
   ]
  },
  {
   "cell_type": "code",
   "execution_count": 14,
   "metadata": {},
   "outputs": [
    {
     "data": {
      "text/plain": [
       "(array(['academic', 'general', 'vocation'], dtype=object),\n",
       " array([105,  45,  50], dtype=int64))"
      ]
     },
     "execution_count": 14,
     "metadata": {},
     "output_type": "execute_result"
    }
   ],
   "source": [
    "np.unique(hsbdemo.prog,return_counts=True)"
   ]
  },
  {
   "cell_type": "code",
   "execution_count": 15,
   "metadata": {},
   "outputs": [
    {
     "data": {
      "text/plain": [
       "(array([0, 1, 2]), array([105,  45,  50], dtype=int64))"
      ]
     },
     "execution_count": 15,
     "metadata": {},
     "output_type": "execute_result"
    }
   ],
   "source": [
    "hsbdemo.prog = hsbdemo.prog.map({'academic':0,'general':1, 'vocation': 2}).astype(\"int\")\n",
    "np.unique(hsbdemo.prog,return_counts=True)"
   ]
  },
  {
   "cell_type": "code",
   "execution_count": 16,
   "metadata": {},
   "outputs": [
    {
     "name": "stdout",
     "output_type": "stream",
     "text": [
      "<class 'pandas.core.frame.DataFrame'>\n",
      "RangeIndex: 200 entries, 0 to 199\n",
      "Data columns (total 13 columns):\n",
      " #   Column   Non-Null Count  Dtype   \n",
      "---  ------   --------------  -----   \n",
      " 0   id       200 non-null    float32 \n",
      " 1   female   200 non-null    category\n",
      " 2   ses      200 non-null    category\n",
      " 3   schtyp   200 non-null    category\n",
      " 4   prog     200 non-null    int32   \n",
      " 5   read     200 non-null    float32 \n",
      " 6   write    200 non-null    float32 \n",
      " 7   math     200 non-null    float32 \n",
      " 8   science  200 non-null    float32 \n",
      " 9   socst    200 non-null    float32 \n",
      " 10  honors   200 non-null    category\n",
      " 11  awards   200 non-null    float32 \n",
      " 12  cid      200 non-null    int16   \n",
      "dtypes: category(4), float32(7), int16(1), int32(1)\n",
      "memory usage: 8.0 KB\n"
     ]
    }
   ],
   "source": [
    "hsbdemo.info()"
   ]
  },
  {
   "cell_type": "code",
   "execution_count": 17,
   "metadata": {},
   "outputs": [
    {
     "data": {
      "text/html": [
       "<table class=\"simpletable\">\n",
       "<tr>\n",
       "        <td>Model:</td>             <td>MNLogit</td>          <td>Method:</td>          <td>MLE</td>   \n",
       "</tr>\n",
       "<tr>\n",
       "  <td>Dependent Variable:</td>       <td>prog</td>       <td>Pseudo R-squared:</td>    <td>0.118</td>  \n",
       "</tr>\n",
       "<tr>\n",
       "         <td>Date:</td>        <td>2023-09-17 17:45</td>       <td>AIC:</td>         <td>375.9635</td> \n",
       "</tr>\n",
       "<tr>\n",
       "   <td>No. Observations:</td>         <td>200</td>             <td>BIC:</td>         <td>402.3500</td> \n",
       "</tr>\n",
       "<tr>\n",
       "       <td>Df Model:</td>              <td>6</td>         <td>Log-Likelihood:</td>    <td>-179.98</td> \n",
       "</tr>\n",
       "<tr>\n",
       "     <td>Df Residuals:</td>           <td>192</td>           <td>LL-Null:</td>        <td>-204.10</td> \n",
       "</tr>\n",
       "<tr>\n",
       "      <td>Converged:</td>           <td>1.0000</td>        <td>LLR p-value:</td>    <td>1.0630e-08</td>\n",
       "</tr>\n",
       "<tr>\n",
       "    <td>No. Iterations:</td>        <td>6.0000</td>           <td>Scale:</td>         <td>1.0000</td>  \n",
       "</tr>\n",
       "</table>\n",
       "<table class=\"simpletable\">\n",
       "<tr>\n",
       "    <th>prog = 0</th>     <th>Coef.</th>  <th>Std.Err.</th>    <th>t</th>     <th>P>|t|</th> <th>[0.025</th>  <th>0.975]</th> \n",
       "</tr>\n",
       "<tr>\n",
       "    <td>Intercept</td>   <td>2.8522</td>   <td>1.1664</td>  <td>2.4452</td>  <td>0.0145</td> <td>0.5660</td>  <td>5.1384</td> \n",
       "</tr>\n",
       "<tr>\n",
       "  <td>ses[T.middle]</td> <td>-0.5333</td>  <td>0.4437</td>  <td>-1.2018</td> <td>0.2294</td> <td>-1.4030</td> <td>0.3364</td> \n",
       "</tr>\n",
       "<tr>\n",
       "   <td>ses[T.high]</td>  <td>-1.1628</td>  <td>0.5142</td>  <td>-2.2614</td> <td>0.0237</td> <td>-2.1707</td> <td>-0.1550</td>\n",
       "</tr>\n",
       "<tr>\n",
       "      <td>write</td>     <td>-0.0579</td>  <td>0.0214</td>  <td>-2.7056</td> <td>0.0068</td> <td>-0.0999</td> <td>-0.0160</td>\n",
       "</tr>\n",
       "</table>\n",
       "<table class=\"simpletable\">\n",
       "<tr>\n",
       "    <th>prog = 1</th>     <th>Coef.</th>  <th>Std.Err.</th>    <th>t</th>     <th>P>|t|</th> <th>[0.025</th>  <th>0.975]</th> \n",
       "</tr>\n",
       "<tr>\n",
       "    <td>Intercept</td>   <td>5.2182</td>   <td>1.1635</td>  <td>4.4847</td>  <td>0.0000</td> <td>2.9377</td>  <td>7.4987</td> \n",
       "</tr>\n",
       "<tr>\n",
       "  <td>ses[T.middle]</td> <td>0.2914</td>   <td>0.4764</td>  <td>0.6117</td>  <td>0.5407</td> <td>-0.6423</td> <td>1.2251</td> \n",
       "</tr>\n",
       "<tr>\n",
       "   <td>ses[T.high]</td>  <td>-0.9827</td>  <td>0.5956</td>  <td>-1.6500</td> <td>0.0989</td> <td>-2.1500</td> <td>0.1846</td> \n",
       "</tr>\n",
       "<tr>\n",
       "      <td>write</td>     <td>-0.1136</td>  <td>0.0222</td>  <td>-5.1127</td> <td>0.0000</td> <td>-0.1572</td> <td>-0.0701</td>\n",
       "</tr>\n",
       "</table><br/>\n"
      ],
      "text/latex": [
       "\\begin{table}\n",
       "\\caption{Results: MNLogit}\n",
       "\\label{}\n",
       "\\begin{center}\n",
       "\\begin{tabular}{llll}\n",
       "\\hline\n",
       "Model:              & MNLogit          & Method:           & MLE         \\\\\n",
       "Dependent Variable: & prog             & Pseudo R-squared: & 0.118       \\\\\n",
       "Date:               & 2023-09-17 17:45 & AIC:              & 375.9635    \\\\\n",
       "No. Observations:   & 200              & BIC:              & 402.3500    \\\\\n",
       "Df Model:           & 6                & Log-Likelihood:   & -179.98     \\\\\n",
       "Df Residuals:       & 192              & LL-Null:          & -204.10     \\\\\n",
       "Converged:          & 1.0000           & LLR p-value:      & 1.0630e-08  \\\\\n",
       "No. Iterations:     & 6.0000           & Scale:            & 1.0000      \\\\\n",
       "\\hline\n",
       "\\end{tabular}\n",
       "\\end{center}\n",
       "\n",
       "\\begin{center}\n",
       "\\begin{tabular}{rrrrrrr}\n",
       "\\hline\n",
       "     prog = 0 &   Coef. & Std.Err. &       t & P$> |$t$|$ &  [0.025 &  0.975]  \\\\\n",
       "\\hline\n",
       "    Intercept &  2.8522 &   1.1664 &  2.4452 &      0.0145 &  0.5660 &  5.1384  \\\\\n",
       "ses[T.middle] & -0.5333 &   0.4437 & -1.2018 &      0.2294 & -1.4030 &  0.3364  \\\\\n",
       "  ses[T.high] & -1.1628 &   0.5142 & -2.2614 &      0.0237 & -2.1707 & -0.1550  \\\\\n",
       "        write & -0.0579 &   0.0214 & -2.7056 &      0.0068 & -0.0999 & -0.0160  \\\\\n",
       "\\hline\n",
       "\\end{tabular}\n",
       "\\end{center}\n",
       "\n",
       "\\begin{center}\n",
       "\\begin{tabular}{rrrrrrr}\n",
       "\\hline\n",
       "     prog = 1 &   Coef. & Std.Err. &       t & P$> |$t$|$ &  [0.025 &  0.975]  \\\\\n",
       "\\hline\n",
       "    Intercept &  5.2182 &   1.1635 &  4.4847 &      0.0000 &  2.9377 &  7.4987  \\\\\n",
       "ses[T.middle] &  0.2914 &   0.4764 &  0.6117 &      0.5407 & -0.6423 &  1.2251  \\\\\n",
       "  ses[T.high] & -0.9827 &   0.5956 & -1.6500 &      0.0989 & -2.1500 &  0.1846  \\\\\n",
       "        write & -0.1136 &   0.0222 & -5.1127 &      0.0000 & -0.1572 & -0.0701  \\\\\n",
       "\\hline\n",
       "\\end{tabular}\n",
       "\\end{center}\n",
       "\\end{table}\n",
       "\\bigskip\n"
      ],
      "text/plain": [
       "<class 'statsmodels.iolib.summary2.Summary'>\n",
       "\"\"\"\n",
       "                        Results: MNLogit\n",
       "=================================================================\n",
       "Model:              MNLogit          Method:           MLE       \n",
       "Dependent Variable: prog             Pseudo R-squared: 0.118     \n",
       "Date:               2023-09-17 17:45 AIC:              375.9635  \n",
       "No. Observations:   200              BIC:              402.3500  \n",
       "Df Model:           6                Log-Likelihood:   -179.98   \n",
       "Df Residuals:       192              LL-Null:          -204.10   \n",
       "Converged:          1.0000           LLR p-value:      1.0630e-08\n",
       "No. Iterations:     6.0000           Scale:            1.0000    \n",
       "-----------------------------------------------------------------\n",
       "     prog = 0      Coef.  Std.Err.    t    P>|t|   [0.025  0.975]\n",
       "-----------------------------------------------------------------\n",
       "    Intercept      2.8522   1.1664  2.4452 0.0145  0.5660  5.1384\n",
       "ses[T.middle]     -0.5333   0.4437 -1.2018 0.2294 -1.4030  0.3364\n",
       "  ses[T.high]     -1.1628   0.5142 -2.2614 0.0237 -2.1707 -0.1550\n",
       "        write     -0.0579   0.0214 -2.7056 0.0068 -0.0999 -0.0160\n",
       "-----------------------------------------------------------------\n",
       "     prog = 1      Coef.  Std.Err.    t    P>|t|   [0.025  0.975]\n",
       "-----------------------------------------------------------------\n",
       "    Intercept      5.2182   1.1635  4.4847 0.0000  2.9377  7.4987\n",
       "ses[T.middle]      0.2914   0.4764  0.6117 0.5407 -0.6423  1.2251\n",
       "  ses[T.high]     -0.9827   0.5956 -1.6500 0.0989 -2.1500  0.1846\n",
       "        write     -0.1136   0.0222 -5.1127 0.0000 -0.1572 -0.0701\n",
       "=================================================================\n",
       "\n",
       "\"\"\""
      ]
     },
     "execution_count": 17,
     "metadata": {},
     "output_type": "execute_result"
    }
   ],
   "source": [
    "# Mnlogit\n",
    "mlogit = smf.mnlogit(\"prog ~ ses + write\", data = hsbdemo).fit(disp=False)\n",
    "mlogit.summary2()"
   ]
  },
  {
   "cell_type": "markdown",
   "metadata": {},
   "source": [
    "### Ordinal Logistic Regression"
   ]
  },
  {
   "cell_type": "code",
   "execution_count": 18,
   "metadata": {},
   "outputs": [
    {
     "data": {
      "text/html": [
       "<div>\n",
       "<style scoped>\n",
       "    .dataframe tbody tr th:only-of-type {\n",
       "        vertical-align: middle;\n",
       "    }\n",
       "\n",
       "    .dataframe tbody tr th {\n",
       "        vertical-align: top;\n",
       "    }\n",
       "\n",
       "    .dataframe thead th {\n",
       "        text-align: right;\n",
       "    }\n",
       "</style>\n",
       "<table border=\"1\" class=\"dataframe\">\n",
       "  <thead>\n",
       "    <tr style=\"text-align: right;\">\n",
       "      <th></th>\n",
       "      <th>apply</th>\n",
       "      <th>pared</th>\n",
       "      <th>public</th>\n",
       "      <th>gpa</th>\n",
       "    </tr>\n",
       "  </thead>\n",
       "  <tbody>\n",
       "    <tr>\n",
       "      <th>0</th>\n",
       "      <td>very likely</td>\n",
       "      <td>0</td>\n",
       "      <td>0</td>\n",
       "      <td>3.26</td>\n",
       "    </tr>\n",
       "    <tr>\n",
       "      <th>1</th>\n",
       "      <td>somewhat likely</td>\n",
       "      <td>1</td>\n",
       "      <td>0</td>\n",
       "      <td>3.21</td>\n",
       "    </tr>\n",
       "    <tr>\n",
       "      <th>2</th>\n",
       "      <td>unlikely</td>\n",
       "      <td>1</td>\n",
       "      <td>1</td>\n",
       "      <td>3.94</td>\n",
       "    </tr>\n",
       "    <tr>\n",
       "      <th>3</th>\n",
       "      <td>somewhat likely</td>\n",
       "      <td>0</td>\n",
       "      <td>0</td>\n",
       "      <td>2.81</td>\n",
       "    </tr>\n",
       "    <tr>\n",
       "      <th>4</th>\n",
       "      <td>somewhat likely</td>\n",
       "      <td>0</td>\n",
       "      <td>0</td>\n",
       "      <td>2.53</td>\n",
       "    </tr>\n",
       "  </tbody>\n",
       "</table>\n",
       "</div>"
      ],
      "text/plain": [
       "             apply  pared  public   gpa\n",
       "0      very likely      0       0  3.26\n",
       "1  somewhat likely      1       0  3.21\n",
       "2         unlikely      1       1  3.94\n",
       "3  somewhat likely      0       0  2.81\n",
       "4  somewhat likely      0       0  2.53"
      ]
     },
     "execution_count": 18,
     "metadata": {},
     "output_type": "execute_result"
    }
   ],
   "source": [
    "olg = pd.read_stata(\"https://stats.idre.ucla.edu/stat/data/ologit.dta\")\n",
    "olg.head()"
   ]
  },
  {
   "cell_type": "code",
   "execution_count": 19,
   "metadata": {},
   "outputs": [
    {
     "name": "stdout",
     "output_type": "stream",
     "text": [
      "<class 'pandas.core.frame.DataFrame'>\n",
      "RangeIndex: 400 entries, 0 to 399\n",
      "Data columns (total 4 columns):\n",
      " #   Column  Non-Null Count  Dtype   \n",
      "---  ------  --------------  -----   \n",
      " 0   apply   400 non-null    category\n",
      " 1   pared   400 non-null    int8    \n",
      " 2   public  400 non-null    int8    \n",
      " 3   gpa     400 non-null    float32 \n",
      "dtypes: category(1), float32(1), int8(2)\n",
      "memory usage: 3.0 KB\n"
     ]
    }
   ],
   "source": [
    "olg.info()"
   ]
  },
  {
   "cell_type": "code",
   "execution_count": 20,
   "metadata": {},
   "outputs": [
    {
     "data": {
      "text/html": [
       "<pre style=\"white-space:pre;overflow-x:auto;line-height:normal;font-family:Menlo,'DejaVu Sans Mono',consolas,'Courier New',monospace\">╭──────────────────────────────────────────────── skimpy summary ─────────────────────────────────────────────────╮\n",
       "│ <span style=\"font-style: italic\">         Data Summary         </span> <span style=\"font-style: italic\">      Data Types       </span> <span style=\"font-style: italic\">       Categories        </span>                                │\n",
       "│ ┏━━━━━━━━━━━━━━━━━━━┳━━━━━━━━┓ ┏━━━━━━━━━━━━━┳━━━━━━━┓ ┏━━━━━━━━━━━━━━━━━━━━━━━┓                                │\n",
       "│ ┃<span style=\"color: #800080; text-decoration-color: #800080; font-style: italic\"> dataframe         </span>┃<span style=\"color: #800080; text-decoration-color: #800080; font-style: italic\"> Values </span>┃ ┃<span style=\"color: #800080; text-decoration-color: #800080; font-style: italic\"> Column Type </span>┃<span style=\"color: #800080; text-decoration-color: #800080; font-style: italic\"> Count </span>┃ ┃<span style=\"color: #800080; text-decoration-color: #800080; font-style: italic\"> Categorical Variables </span>┃                                │\n",
       "│ ┡━━━━━━━━━━━━━━━━━━━╇━━━━━━━━┩ ┡━━━━━━━━━━━━━╇━━━━━━━┩ ┡━━━━━━━━━━━━━━━━━━━━━━━┩                                │\n",
       "│ │ Number of rows    │ 400    │ │ int32       │ 2     │ │ apply                 │                                │\n",
       "│ │ Number of columns │ 4      │ │ category    │ 1     │ └───────────────────────┘                                │\n",
       "│ └───────────────────┴────────┘ │ float64     │ 1     │                                                          │\n",
       "│                                └─────────────┴───────┘                                                          │\n",
       "│ <span style=\"font-style: italic\">                                                    number                                                    </span>  │\n",
       "│ ┏━━━━━━━━━━━━━━━━━━━┳━━━━━━┳━━━━━━━━━┳━━━━━━━━━┳━━━━━━━━━┳━━━━━━━┳━━━━━━━┳━━━━━━━┳━━━━━━━┳━━━━━━━━┳━━━━━━━━━━┓  │\n",
       "│ ┃<span style=\"font-weight: bold\"> column_name       </span>┃<span style=\"font-weight: bold\"> NA   </span>┃<span style=\"font-weight: bold\"> NA %    </span>┃<span style=\"font-weight: bold\"> mean    </span>┃<span style=\"font-weight: bold\"> sd      </span>┃<span style=\"font-weight: bold\"> p0    </span>┃<span style=\"font-weight: bold\"> p25   </span>┃<span style=\"font-weight: bold\"> p50   </span>┃<span style=\"font-weight: bold\"> p75   </span>┃<span style=\"font-weight: bold\"> p100   </span>┃<span style=\"font-weight: bold\"> hist     </span>┃  │\n",
       "│ ┡━━━━━━━━━━━━━━━━━━━╇━━━━━━╇━━━━━━━━━╇━━━━━━━━━╇━━━━━━━━━╇━━━━━━━╇━━━━━━━╇━━━━━━━╇━━━━━━━╇━━━━━━━━╇━━━━━━━━━━┩  │\n",
       "│ │ <span style=\"color: #af87ff; text-decoration-color: #af87ff\">pared            </span> │ <span style=\"color: #008080; text-decoration-color: #008080\">   0</span> │ <span style=\"color: #008080; text-decoration-color: #008080\">      0</span> │ <span style=\"color: #008080; text-decoration-color: #008080\">   0.16</span> │ <span style=\"color: #008080; text-decoration-color: #008080\">   0.36</span> │ <span style=\"color: #008080; text-decoration-color: #008080\">    0</span> │ <span style=\"color: #008080; text-decoration-color: #008080\">    0</span> │ <span style=\"color: #008080; text-decoration-color: #008080\">    0</span> │ <span style=\"color: #008080; text-decoration-color: #008080\">    0</span> │ <span style=\"color: #008080; text-decoration-color: #008080\">     1</span> │ <span style=\"color: #008000; text-decoration-color: #008000\"> ▇    ▁ </span> │  │\n",
       "│ │ <span style=\"color: #af87ff; text-decoration-color: #af87ff\">public           </span> │ <span style=\"color: #008080; text-decoration-color: #008080\">   0</span> │ <span style=\"color: #008080; text-decoration-color: #008080\">      0</span> │ <span style=\"color: #008080; text-decoration-color: #008080\">   0.14</span> │ <span style=\"color: #008080; text-decoration-color: #008080\">   0.35</span> │ <span style=\"color: #008080; text-decoration-color: #008080\">    0</span> │ <span style=\"color: #008080; text-decoration-color: #008080\">    0</span> │ <span style=\"color: #008080; text-decoration-color: #008080\">    0</span> │ <span style=\"color: #008080; text-decoration-color: #008080\">    0</span> │ <span style=\"color: #008080; text-decoration-color: #008080\">     1</span> │ <span style=\"color: #008000; text-decoration-color: #008000\"> ▇    ▁ </span> │  │\n",
       "│ │ <span style=\"color: #af87ff; text-decoration-color: #af87ff\">gpa              </span> │ <span style=\"color: #008080; text-decoration-color: #008080\">   0</span> │ <span style=\"color: #008080; text-decoration-color: #008080\">      0</span> │ <span style=\"color: #008080; text-decoration-color: #008080\">      3</span> │ <span style=\"color: #008080; text-decoration-color: #008080\">    0.4</span> │ <span style=\"color: #008080; text-decoration-color: #008080\">  1.9</span> │ <span style=\"color: #008080; text-decoration-color: #008080\">  2.7</span> │ <span style=\"color: #008080; text-decoration-color: #008080\">    3</span> │ <span style=\"color: #008080; text-decoration-color: #008080\">  3.3</span> │ <span style=\"color: #008080; text-decoration-color: #008080\">     4</span> │ <span style=\"color: #008000; text-decoration-color: #008000\"> ▁▃▇▇▅▁ </span> │  │\n",
       "│ └───────────────────┴──────┴─────────┴─────────┴─────────┴───────┴───────┴───────┴───────┴────────┴──────────┘  │\n",
       "│ <span style=\"font-style: italic\">                                                   category                                                   </span>  │\n",
       "│ ┏━━━━━━━━━━━━━━━━━━━━━━━━━━━━━━━━━━┳━━━━━━━━━━━┳━━━━━━━━━━━━━━━━┳━━━━━━━━━━━━━━━━━━━━━━━┳━━━━━━━━━━━━━━━━━━━━┓  │\n",
       "│ ┃<span style=\"font-weight: bold\"> column_name                      </span>┃<span style=\"font-weight: bold\"> NA        </span>┃<span style=\"font-weight: bold\"> NA %           </span>┃<span style=\"font-weight: bold\"> ordered               </span>┃<span style=\"font-weight: bold\"> unique             </span>┃  │\n",
       "│ ┡━━━━━━━━━━━━━━━━━━━━━━━━━━━━━━━━━━╇━━━━━━━━━━━╇━━━━━━━━━━━━━━━━╇━━━━━━━━━━━━━━━━━━━━━━━╇━━━━━━━━━━━━━━━━━━━━┩  │\n",
       "│ │ <span style=\"color: #af87ff; text-decoration-color: #af87ff\">apply                           </span> │ <span style=\"color: #008080; text-decoration-color: #008080\">        0</span> │ <span style=\"color: #008080; text-decoration-color: #008080\">             0</span> │ <span style=\"color: #00d7ff; text-decoration-color: #00d7ff\">True                 </span> │ <span style=\"color: #008080; text-decoration-color: #008080\">                 3</span> │  │\n",
       "│ └──────────────────────────────────┴───────────┴────────────────┴───────────────────────┴────────────────────┘  │\n",
       "╰────────────────────────────────────────────────────── End ──────────────────────────────────────────────────────╯\n",
       "</pre>\n"
      ],
      "text/plain": [
       "╭──────────────────────────────────────────────── skimpy summary ─────────────────────────────────────────────────╮\n",
       "│ \u001b[3m         Data Summary         \u001b[0m \u001b[3m      Data Types       \u001b[0m \u001b[3m       Categories        \u001b[0m                                │\n",
       "│ ┏━━━━━━━━━━━━━━━━━━━┳━━━━━━━━┓ ┏━━━━━━━━━━━━━┳━━━━━━━┓ ┏━━━━━━━━━━━━━━━━━━━━━━━┓                                │\n",
       "│ ┃\u001b[3;35m \u001b[0m\u001b[3;35mdataframe        \u001b[0m\u001b[3;35m \u001b[0m┃\u001b[3;35m \u001b[0m\u001b[3;35mValues\u001b[0m\u001b[3;35m \u001b[0m┃ ┃\u001b[3;35m \u001b[0m\u001b[3;35mColumn Type\u001b[0m\u001b[3;35m \u001b[0m┃\u001b[3;35m \u001b[0m\u001b[3;35mCount\u001b[0m\u001b[3;35m \u001b[0m┃ ┃\u001b[3;35m \u001b[0m\u001b[3;35mCategorical Variables\u001b[0m\u001b[3;35m \u001b[0m┃                                │\n",
       "│ ┡━━━━━━━━━━━━━━━━━━━╇━━━━━━━━┩ ┡━━━━━━━━━━━━━╇━━━━━━━┩ ┡━━━━━━━━━━━━━━━━━━━━━━━┩                                │\n",
       "│ │ Number of rows    │ 400    │ │ int32       │ 2     │ │ apply                 │                                │\n",
       "│ │ Number of columns │ 4      │ │ category    │ 1     │ └───────────────────────┘                                │\n",
       "│ └───────────────────┴────────┘ │ float64     │ 1     │                                                          │\n",
       "│                                └─────────────┴───────┘                                                          │\n",
       "│ \u001b[3m                                                    number                                                    \u001b[0m  │\n",
       "│ ┏━━━━━━━━━━━━━━━━━━━┳━━━━━━┳━━━━━━━━━┳━━━━━━━━━┳━━━━━━━━━┳━━━━━━━┳━━━━━━━┳━━━━━━━┳━━━━━━━┳━━━━━━━━┳━━━━━━━━━━┓  │\n",
       "│ ┃\u001b[1m \u001b[0m\u001b[1mcolumn_name      \u001b[0m\u001b[1m \u001b[0m┃\u001b[1m \u001b[0m\u001b[1mNA  \u001b[0m\u001b[1m \u001b[0m┃\u001b[1m \u001b[0m\u001b[1mNA %   \u001b[0m\u001b[1m \u001b[0m┃\u001b[1m \u001b[0m\u001b[1mmean   \u001b[0m\u001b[1m \u001b[0m┃\u001b[1m \u001b[0m\u001b[1msd     \u001b[0m\u001b[1m \u001b[0m┃\u001b[1m \u001b[0m\u001b[1mp0   \u001b[0m\u001b[1m \u001b[0m┃\u001b[1m \u001b[0m\u001b[1mp25  \u001b[0m\u001b[1m \u001b[0m┃\u001b[1m \u001b[0m\u001b[1mp50  \u001b[0m\u001b[1m \u001b[0m┃\u001b[1m \u001b[0m\u001b[1mp75  \u001b[0m\u001b[1m \u001b[0m┃\u001b[1m \u001b[0m\u001b[1mp100  \u001b[0m\u001b[1m \u001b[0m┃\u001b[1m \u001b[0m\u001b[1mhist    \u001b[0m\u001b[1m \u001b[0m┃  │\n",
       "│ ┡━━━━━━━━━━━━━━━━━━━╇━━━━━━╇━━━━━━━━━╇━━━━━━━━━╇━━━━━━━━━╇━━━━━━━╇━━━━━━━╇━━━━━━━╇━━━━━━━╇━━━━━━━━╇━━━━━━━━━━┩  │\n",
       "│ │ \u001b[38;5;141mpared            \u001b[0m │ \u001b[36m   0\u001b[0m │ \u001b[36m      0\u001b[0m │ \u001b[36m   0.16\u001b[0m │ \u001b[36m   0.36\u001b[0m │ \u001b[36m    0\u001b[0m │ \u001b[36m    0\u001b[0m │ \u001b[36m    0\u001b[0m │ \u001b[36m    0\u001b[0m │ \u001b[36m     1\u001b[0m │ \u001b[32m ▇    ▁ \u001b[0m │  │\n",
       "│ │ \u001b[38;5;141mpublic           \u001b[0m │ \u001b[36m   0\u001b[0m │ \u001b[36m      0\u001b[0m │ \u001b[36m   0.14\u001b[0m │ \u001b[36m   0.35\u001b[0m │ \u001b[36m    0\u001b[0m │ \u001b[36m    0\u001b[0m │ \u001b[36m    0\u001b[0m │ \u001b[36m    0\u001b[0m │ \u001b[36m     1\u001b[0m │ \u001b[32m ▇    ▁ \u001b[0m │  │\n",
       "│ │ \u001b[38;5;141mgpa              \u001b[0m │ \u001b[36m   0\u001b[0m │ \u001b[36m      0\u001b[0m │ \u001b[36m      3\u001b[0m │ \u001b[36m    0.4\u001b[0m │ \u001b[36m  1.9\u001b[0m │ \u001b[36m  2.7\u001b[0m │ \u001b[36m    3\u001b[0m │ \u001b[36m  3.3\u001b[0m │ \u001b[36m     4\u001b[0m │ \u001b[32m ▁▃▇▇▅▁ \u001b[0m │  │\n",
       "│ └───────────────────┴──────┴─────────┴─────────┴─────────┴───────┴───────┴───────┴───────┴────────┴──────────┘  │\n",
       "│ \u001b[3m                                                   category                                                   \u001b[0m  │\n",
       "│ ┏━━━━━━━━━━━━━━━━━━━━━━━━━━━━━━━━━━┳━━━━━━━━━━━┳━━━━━━━━━━━━━━━━┳━━━━━━━━━━━━━━━━━━━━━━━┳━━━━━━━━━━━━━━━━━━━━┓  │\n",
       "│ ┃\u001b[1m \u001b[0m\u001b[1mcolumn_name                     \u001b[0m\u001b[1m \u001b[0m┃\u001b[1m \u001b[0m\u001b[1mNA       \u001b[0m\u001b[1m \u001b[0m┃\u001b[1m \u001b[0m\u001b[1mNA %          \u001b[0m\u001b[1m \u001b[0m┃\u001b[1m \u001b[0m\u001b[1mordered              \u001b[0m\u001b[1m \u001b[0m┃\u001b[1m \u001b[0m\u001b[1munique            \u001b[0m\u001b[1m \u001b[0m┃  │\n",
       "│ ┡━━━━━━━━━━━━━━━━━━━━━━━━━━━━━━━━━━╇━━━━━━━━━━━╇━━━━━━━━━━━━━━━━╇━━━━━━━━━━━━━━━━━━━━━━━╇━━━━━━━━━━━━━━━━━━━━┩  │\n",
       "│ │ \u001b[38;5;141mapply                           \u001b[0m │ \u001b[36m        0\u001b[0m │ \u001b[36m             0\u001b[0m │ \u001b[38;5;45mTrue                 \u001b[0m │ \u001b[36m                 3\u001b[0m │  │\n",
       "│ └──────────────────────────────────┴───────────┴────────────────┴───────────────────────┴────────────────────┘  │\n",
       "╰────────────────────────────────────────────────────── End ──────────────────────────────────────────────────────╯\n"
      ]
     },
     "metadata": {},
     "output_type": "display_data"
    }
   ],
   "source": [
    "skim(olg,header_style=\"italic magenta\")"
   ]
  },
  {
   "cell_type": "code",
   "execution_count": 21,
   "metadata": {},
   "outputs": [
    {
     "data": {
      "text/html": [
       "<table class=\"simpletable\">\n",
       "<caption>OrderedModel Results</caption>\n",
       "<tr>\n",
       "  <th>Dep. Variable:</th>           <td>apply</td>       <th>  Log-Likelihood:    </th> <td> -358.51</td>\n",
       "</tr>\n",
       "<tr>\n",
       "  <th>Model:</th>               <td>OrderedModel</td>    <th>  AIC:               </th> <td>   727.0</td>\n",
       "</tr>\n",
       "<tr>\n",
       "  <th>Method:</th>           <td>Maximum Likelihood</td> <th>  BIC:               </th> <td>   747.0</td>\n",
       "</tr>\n",
       "<tr>\n",
       "  <th>Date:</th>              <td>Sun, 17 Sep 2023</td>  <th>                     </th>     <td> </td>   \n",
       "</tr>\n",
       "<tr>\n",
       "  <th>Time:</th>                  <td>17:45:09</td>      <th>                     </th>     <td> </td>   \n",
       "</tr>\n",
       "<tr>\n",
       "  <th>No. Observations:</th>       <td>   400</td>       <th>                     </th>     <td> </td>   \n",
       "</tr>\n",
       "<tr>\n",
       "  <th>Df Residuals:</th>           <td>   395</td>       <th>                     </th>     <td> </td>   \n",
       "</tr>\n",
       "<tr>\n",
       "  <th>Df Model:</th>               <td>     3</td>       <th>                     </th>     <td> </td>   \n",
       "</tr>\n",
       "</table>\n",
       "<table class=\"simpletable\">\n",
       "<tr>\n",
       "               <td></td>                  <th>coef</th>     <th>std err</th>      <th>z</th>      <th>P>|z|</th>  <th>[0.025</th>    <th>0.975]</th>  \n",
       "</tr>\n",
       "<tr>\n",
       "  <th>pared</th>                       <td>    1.0476</td> <td>    0.266</td> <td>    3.942</td> <td> 0.000</td> <td>    0.527</td> <td>    1.569</td>\n",
       "</tr>\n",
       "<tr>\n",
       "  <th>public</th>                      <td>   -0.0586</td> <td>    0.298</td> <td>   -0.197</td> <td> 0.844</td> <td>   -0.642</td> <td>    0.525</td>\n",
       "</tr>\n",
       "<tr>\n",
       "  <th>gpa</th>                         <td>    0.6158</td> <td>    0.261</td> <td>    2.363</td> <td> 0.018</td> <td>    0.105</td> <td>    1.127</td>\n",
       "</tr>\n",
       "<tr>\n",
       "  <th>unlikely/somewhat likely</th>    <td>    2.2035</td> <td>    0.780</td> <td>    2.827</td> <td> 0.005</td> <td>    0.676</td> <td>    3.731</td>\n",
       "</tr>\n",
       "<tr>\n",
       "  <th>somewhat likely/very likely</th> <td>    0.7398</td> <td>    0.080</td> <td>    9.236</td> <td> 0.000</td> <td>    0.583</td> <td>    0.897</td>\n",
       "</tr>\n",
       "</table>"
      ],
      "text/latex": [
       "\\begin{center}\n",
       "\\begin{tabular}{lclc}\n",
       "\\toprule\n",
       "\\textbf{Dep. Variable:}              &       apply        & \\textbf{  Log-Likelihood:    } &   -358.51   \\\\\n",
       "\\textbf{Model:}                      &    OrderedModel    & \\textbf{  AIC:               } &     727.0   \\\\\n",
       "\\textbf{Method:}                     & Maximum Likelihood & \\textbf{  BIC:               } &     747.0   \\\\\n",
       "\\textbf{Date:}                       &  Sun, 17 Sep 2023  & \\textbf{                     } &             \\\\\n",
       "\\textbf{Time:}                       &      17:45:09      & \\textbf{                     } &             \\\\\n",
       "\\textbf{No. Observations:}           &          400       & \\textbf{                     } &             \\\\\n",
       "\\textbf{Df Residuals:}               &          395       & \\textbf{                     } &             \\\\\n",
       "\\textbf{Df Model:}                   &            3       & \\textbf{                     } &             \\\\\n",
       "\\bottomrule\n",
       "\\end{tabular}\n",
       "\\begin{tabular}{lcccccc}\n",
       "                                     & \\textbf{coef} & \\textbf{std err} & \\textbf{z} & \\textbf{P$> |$z$|$} & \\textbf{[0.025} & \\textbf{0.975]}  \\\\\n",
       "\\midrule\n",
       "\\textbf{pared}                       &       1.0476  &        0.266     &     3.942  &         0.000        &        0.527    &        1.569     \\\\\n",
       "\\textbf{public}                      &      -0.0586  &        0.298     &    -0.197  &         0.844        &       -0.642    &        0.525     \\\\\n",
       "\\textbf{gpa}                         &       0.6158  &        0.261     &     2.363  &         0.018        &        0.105    &        1.127     \\\\\n",
       "\\textbf{unlikely/somewhat likely}    &       2.2035  &        0.780     &     2.827  &         0.005        &        0.676    &        3.731     \\\\\n",
       "\\textbf{somewhat likely/very likely} &       0.7398  &        0.080     &     9.236  &         0.000        &        0.583    &        0.897     \\\\\n",
       "\\bottomrule\n",
       "\\end{tabular}\n",
       "%\\caption{OrderedModel Results}\n",
       "\\end{center}"
      ],
      "text/plain": [
       "<class 'statsmodels.iolib.summary.Summary'>\n",
       "\"\"\"\n",
       "                             OrderedModel Results                             \n",
       "==============================================================================\n",
       "Dep. Variable:                  apply   Log-Likelihood:                -358.51\n",
       "Model:                   OrderedModel   AIC:                             727.0\n",
       "Method:            Maximum Likelihood   BIC:                             747.0\n",
       "Date:                Sun, 17 Sep 2023                                         \n",
       "Time:                        17:45:09                                         \n",
       "No. Observations:                 400                                         \n",
       "Df Residuals:                     395                                         \n",
       "Df Model:                           3                                         \n",
       "===============================================================================================\n",
       "                                  coef    std err          z      P>|z|      [0.025      0.975]\n",
       "-----------------------------------------------------------------------------------------------\n",
       "pared                           1.0476      0.266      3.942      0.000       0.527       1.569\n",
       "public                         -0.0586      0.298     -0.197      0.844      -0.642       0.525\n",
       "gpa                             0.6158      0.261      2.363      0.018       0.105       1.127\n",
       "unlikely/somewhat likely        2.2035      0.780      2.827      0.005       0.676       3.731\n",
       "somewhat likely/very likely     0.7398      0.080      9.236      0.000       0.583       0.897\n",
       "===============================================================================================\n",
       "\"\"\""
      ]
     },
     "execution_count": 21,
     "metadata": {},
     "output_type": "execute_result"
    }
   ],
   "source": [
    "ologit =  OrderedModel.from_formula(\"apply~pared+public+gpa\",distr='logit',data=olg).fit(method='bfgs', disp=False)\n",
    "ologit.summary()"
   ]
  },
  {
   "cell_type": "markdown",
   "metadata": {},
   "source": [
    "### Poisson Model"
   ]
  },
  {
   "cell_type": "code",
   "execution_count": 22,
   "metadata": {},
   "outputs": [
    {
     "data": {
      "text/html": [
       "<div>\n",
       "<style scoped>\n",
       "    .dataframe tbody tr th:only-of-type {\n",
       "        vertical-align: middle;\n",
       "    }\n",
       "\n",
       "    .dataframe tbody tr th {\n",
       "        vertical-align: top;\n",
       "    }\n",
       "\n",
       "    .dataframe thead th {\n",
       "        text-align: right;\n",
       "    }\n",
       "</style>\n",
       "<table border=\"1\" class=\"dataframe\">\n",
       "  <thead>\n",
       "    <tr style=\"text-align: right;\">\n",
       "      <th></th>\n",
       "      <th>id</th>\n",
       "      <th>num_awards</th>\n",
       "      <th>prog</th>\n",
       "      <th>math</th>\n",
       "    </tr>\n",
       "  </thead>\n",
       "  <tbody>\n",
       "    <tr>\n",
       "      <th>0</th>\n",
       "      <td>45</td>\n",
       "      <td>0</td>\n",
       "      <td>3</td>\n",
       "      <td>41</td>\n",
       "    </tr>\n",
       "    <tr>\n",
       "      <th>1</th>\n",
       "      <td>108</td>\n",
       "      <td>0</td>\n",
       "      <td>1</td>\n",
       "      <td>41</td>\n",
       "    </tr>\n",
       "    <tr>\n",
       "      <th>2</th>\n",
       "      <td>15</td>\n",
       "      <td>0</td>\n",
       "      <td>3</td>\n",
       "      <td>44</td>\n",
       "    </tr>\n",
       "    <tr>\n",
       "      <th>3</th>\n",
       "      <td>67</td>\n",
       "      <td>0</td>\n",
       "      <td>3</td>\n",
       "      <td>42</td>\n",
       "    </tr>\n",
       "    <tr>\n",
       "      <th>4</th>\n",
       "      <td>153</td>\n",
       "      <td>0</td>\n",
       "      <td>3</td>\n",
       "      <td>40</td>\n",
       "    </tr>\n",
       "  </tbody>\n",
       "</table>\n",
       "</div>"
      ],
      "text/plain": [
       "    id  num_awards  prog  math\n",
       "0   45           0     3    41\n",
       "1  108           0     1    41\n",
       "2   15           0     3    44\n",
       "3   67           0     3    42\n",
       "4  153           0     3    40"
      ]
     },
     "execution_count": 22,
     "metadata": {},
     "output_type": "execute_result"
    }
   ],
   "source": [
    "pois = pd.read_csv(\"https://stats.idre.ucla.edu/stat/data/poisson_sim.csv\")\n",
    "pois.head()"
   ]
  },
  {
   "cell_type": "code",
   "execution_count": 23,
   "metadata": {},
   "outputs": [
    {
     "data": {
      "text/html": [
       "<pre style=\"white-space:pre;overflow-x:auto;line-height:normal;font-family:Menlo,'DejaVu Sans Mono',consolas,'Courier New',monospace\">╭──────────────────────────────────────────────── skimpy summary ─────────────────────────────────────────────────╮\n",
       "│ <span style=\"font-style: italic\">         Data Summary         </span> <span style=\"font-style: italic\">      Data Types       </span>                                                          │\n",
       "│ ┏━━━━━━━━━━━━━━━━━━━┳━━━━━━━━┓ ┏━━━━━━━━━━━━━┳━━━━━━━┓                                                          │\n",
       "│ ┃<span style=\"color: #800080; text-decoration-color: #800080; font-style: italic\"> dataframe         </span>┃<span style=\"color: #800080; text-decoration-color: #800080; font-style: italic\"> Values </span>┃ ┃<span style=\"color: #800080; text-decoration-color: #800080; font-style: italic\"> Column Type </span>┃<span style=\"color: #800080; text-decoration-color: #800080; font-style: italic\"> Count </span>┃                                                          │\n",
       "│ ┡━━━━━━━━━━━━━━━━━━━╇━━━━━━━━┩ ┡━━━━━━━━━━━━━╇━━━━━━━┩                                                          │\n",
       "│ │ Number of rows    │ 200    │ │ int32       │ 4     │                                                          │\n",
       "│ │ Number of columns │ 4      │ └─────────────┴───────┘                                                          │\n",
       "│ └───────────────────┴────────┘                                                                                  │\n",
       "│ <span style=\"font-style: italic\">                                                    number                                                    </span>  │\n",
       "│ ┏━━━━━━━━━━━━━━━━━━━┳━━━━━━┳━━━━━━━━━┳━━━━━━━━━┳━━━━━━━━━┳━━━━━━┳━━━━━━━┳━━━━━━━┳━━━━━━━┳━━━━━━━━━┳━━━━━━━━━━┓  │\n",
       "│ ┃<span style=\"font-weight: bold\"> column_name       </span>┃<span style=\"font-weight: bold\"> NA   </span>┃<span style=\"font-weight: bold\"> NA %    </span>┃<span style=\"font-weight: bold\"> mean    </span>┃<span style=\"font-weight: bold\"> sd      </span>┃<span style=\"font-weight: bold\"> p0   </span>┃<span style=\"font-weight: bold\"> p25   </span>┃<span style=\"font-weight: bold\"> p50   </span>┃<span style=\"font-weight: bold\"> p75   </span>┃<span style=\"font-weight: bold\"> p100    </span>┃<span style=\"font-weight: bold\"> hist     </span>┃  │\n",
       "│ ┡━━━━━━━━━━━━━━━━━━━╇━━━━━━╇━━━━━━━━━╇━━━━━━━━━╇━━━━━━━━━╇━━━━━━╇━━━━━━━╇━━━━━━━╇━━━━━━━╇━━━━━━━━━╇━━━━━━━━━━┩  │\n",
       "│ │ <span style=\"color: #af87ff; text-decoration-color: #af87ff\">id               </span> │ <span style=\"color: #008080; text-decoration-color: #008080\">   0</span> │ <span style=\"color: #008080; text-decoration-color: #008080\">      0</span> │ <span style=\"color: #008080; text-decoration-color: #008080\">    100</span> │ <span style=\"color: #008080; text-decoration-color: #008080\">     58</span> │ <span style=\"color: #008080; text-decoration-color: #008080\">   1</span> │ <span style=\"color: #008080; text-decoration-color: #008080\">   51</span> │ <span style=\"color: #008080; text-decoration-color: #008080\">  100</span> │ <span style=\"color: #008080; text-decoration-color: #008080\">  150</span> │ <span style=\"color: #008080; text-decoration-color: #008080\">    200</span> │ <span style=\"color: #008000; text-decoration-color: #008000\"> ▇▇▇▇▇▇ </span> │  │\n",
       "│ │ <span style=\"color: #af87ff; text-decoration-color: #af87ff\">num_awards       </span> │ <span style=\"color: #008080; text-decoration-color: #008080\">   0</span> │ <span style=\"color: #008080; text-decoration-color: #008080\">      0</span> │ <span style=\"color: #008080; text-decoration-color: #008080\">   0.63</span> │ <span style=\"color: #008080; text-decoration-color: #008080\">    1.1</span> │ <span style=\"color: #008080; text-decoration-color: #008080\">   0</span> │ <span style=\"color: #008080; text-decoration-color: #008080\">    0</span> │ <span style=\"color: #008080; text-decoration-color: #008080\">    0</span> │ <span style=\"color: #008080; text-decoration-color: #008080\">    1</span> │ <span style=\"color: #008080; text-decoration-color: #008080\">      6</span> │ <span style=\"color: #008000; text-decoration-color: #008000\">  ▇▃▁▁  </span> │  │\n",
       "│ │ <span style=\"color: #af87ff; text-decoration-color: #af87ff\">prog             </span> │ <span style=\"color: #008080; text-decoration-color: #008080\">   0</span> │ <span style=\"color: #008080; text-decoration-color: #008080\">      0</span> │ <span style=\"color: #008080; text-decoration-color: #008080\">      2</span> │ <span style=\"color: #008080; text-decoration-color: #008080\">   0.69</span> │ <span style=\"color: #008080; text-decoration-color: #008080\">   1</span> │ <span style=\"color: #008080; text-decoration-color: #008080\">    2</span> │ <span style=\"color: #008080; text-decoration-color: #008080\">    2</span> │ <span style=\"color: #008080; text-decoration-color: #008080\">  2.2</span> │ <span style=\"color: #008080; text-decoration-color: #008080\">      3</span> │ <span style=\"color: #008000; text-decoration-color: #008000\"> ▃  ▇ ▃ </span> │  │\n",
       "│ │ <span style=\"color: #af87ff; text-decoration-color: #af87ff\">math             </span> │ <span style=\"color: #008080; text-decoration-color: #008080\">   0</span> │ <span style=\"color: #008080; text-decoration-color: #008080\">      0</span> │ <span style=\"color: #008080; text-decoration-color: #008080\">     53</span> │ <span style=\"color: #008080; text-decoration-color: #008080\">    9.4</span> │ <span style=\"color: #008080; text-decoration-color: #008080\">  33</span> │ <span style=\"color: #008080; text-decoration-color: #008080\">   45</span> │ <span style=\"color: #008080; text-decoration-color: #008080\">   52</span> │ <span style=\"color: #008080; text-decoration-color: #008080\">   59</span> │ <span style=\"color: #008080; text-decoration-color: #008080\">     75</span> │ <span style=\"color: #008000; text-decoration-color: #008000\"> ▂▇▇▇▅▂ </span> │  │\n",
       "│ └───────────────────┴──────┴─────────┴─────────┴─────────┴──────┴───────┴───────┴───────┴─────────┴──────────┘  │\n",
       "╰────────────────────────────────────────────────────── End ──────────────────────────────────────────────────────╯\n",
       "</pre>\n"
      ],
      "text/plain": [
       "╭──────────────────────────────────────────────── skimpy summary ─────────────────────────────────────────────────╮\n",
       "│ \u001b[3m         Data Summary         \u001b[0m \u001b[3m      Data Types       \u001b[0m                                                          │\n",
       "│ ┏━━━━━━━━━━━━━━━━━━━┳━━━━━━━━┓ ┏━━━━━━━━━━━━━┳━━━━━━━┓                                                          │\n",
       "│ ┃\u001b[3;35m \u001b[0m\u001b[3;35mdataframe        \u001b[0m\u001b[3;35m \u001b[0m┃\u001b[3;35m \u001b[0m\u001b[3;35mValues\u001b[0m\u001b[3;35m \u001b[0m┃ ┃\u001b[3;35m \u001b[0m\u001b[3;35mColumn Type\u001b[0m\u001b[3;35m \u001b[0m┃\u001b[3;35m \u001b[0m\u001b[3;35mCount\u001b[0m\u001b[3;35m \u001b[0m┃                                                          │\n",
       "│ ┡━━━━━━━━━━━━━━━━━━━╇━━━━━━━━┩ ┡━━━━━━━━━━━━━╇━━━━━━━┩                                                          │\n",
       "│ │ Number of rows    │ 200    │ │ int32       │ 4     │                                                          │\n",
       "│ │ Number of columns │ 4      │ └─────────────┴───────┘                                                          │\n",
       "│ └───────────────────┴────────┘                                                                                  │\n",
       "│ \u001b[3m                                                    number                                                    \u001b[0m  │\n",
       "│ ┏━━━━━━━━━━━━━━━━━━━┳━━━━━━┳━━━━━━━━━┳━━━━━━━━━┳━━━━━━━━━┳━━━━━━┳━━━━━━━┳━━━━━━━┳━━━━━━━┳━━━━━━━━━┳━━━━━━━━━━┓  │\n",
       "│ ┃\u001b[1m \u001b[0m\u001b[1mcolumn_name      \u001b[0m\u001b[1m \u001b[0m┃\u001b[1m \u001b[0m\u001b[1mNA  \u001b[0m\u001b[1m \u001b[0m┃\u001b[1m \u001b[0m\u001b[1mNA %   \u001b[0m\u001b[1m \u001b[0m┃\u001b[1m \u001b[0m\u001b[1mmean   \u001b[0m\u001b[1m \u001b[0m┃\u001b[1m \u001b[0m\u001b[1msd     \u001b[0m\u001b[1m \u001b[0m┃\u001b[1m \u001b[0m\u001b[1mp0  \u001b[0m\u001b[1m \u001b[0m┃\u001b[1m \u001b[0m\u001b[1mp25  \u001b[0m\u001b[1m \u001b[0m┃\u001b[1m \u001b[0m\u001b[1mp50  \u001b[0m\u001b[1m \u001b[0m┃\u001b[1m \u001b[0m\u001b[1mp75  \u001b[0m\u001b[1m \u001b[0m┃\u001b[1m \u001b[0m\u001b[1mp100   \u001b[0m\u001b[1m \u001b[0m┃\u001b[1m \u001b[0m\u001b[1mhist    \u001b[0m\u001b[1m \u001b[0m┃  │\n",
       "│ ┡━━━━━━━━━━━━━━━━━━━╇━━━━━━╇━━━━━━━━━╇━━━━━━━━━╇━━━━━━━━━╇━━━━━━╇━━━━━━━╇━━━━━━━╇━━━━━━━╇━━━━━━━━━╇━━━━━━━━━━┩  │\n",
       "│ │ \u001b[38;5;141mid               \u001b[0m │ \u001b[36m   0\u001b[0m │ \u001b[36m      0\u001b[0m │ \u001b[36m    100\u001b[0m │ \u001b[36m     58\u001b[0m │ \u001b[36m   1\u001b[0m │ \u001b[36m   51\u001b[0m │ \u001b[36m  100\u001b[0m │ \u001b[36m  150\u001b[0m │ \u001b[36m    200\u001b[0m │ \u001b[32m ▇▇▇▇▇▇ \u001b[0m │  │\n",
       "│ │ \u001b[38;5;141mnum_awards       \u001b[0m │ \u001b[36m   0\u001b[0m │ \u001b[36m      0\u001b[0m │ \u001b[36m   0.63\u001b[0m │ \u001b[36m    1.1\u001b[0m │ \u001b[36m   0\u001b[0m │ \u001b[36m    0\u001b[0m │ \u001b[36m    0\u001b[0m │ \u001b[36m    1\u001b[0m │ \u001b[36m      6\u001b[0m │ \u001b[32m  ▇▃▁▁  \u001b[0m │  │\n",
       "│ │ \u001b[38;5;141mprog             \u001b[0m │ \u001b[36m   0\u001b[0m │ \u001b[36m      0\u001b[0m │ \u001b[36m      2\u001b[0m │ \u001b[36m   0.69\u001b[0m │ \u001b[36m   1\u001b[0m │ \u001b[36m    2\u001b[0m │ \u001b[36m    2\u001b[0m │ \u001b[36m  2.2\u001b[0m │ \u001b[36m      3\u001b[0m │ \u001b[32m ▃  ▇ ▃ \u001b[0m │  │\n",
       "│ │ \u001b[38;5;141mmath             \u001b[0m │ \u001b[36m   0\u001b[0m │ \u001b[36m      0\u001b[0m │ \u001b[36m     53\u001b[0m │ \u001b[36m    9.4\u001b[0m │ \u001b[36m  33\u001b[0m │ \u001b[36m   45\u001b[0m │ \u001b[36m   52\u001b[0m │ \u001b[36m   59\u001b[0m │ \u001b[36m     75\u001b[0m │ \u001b[32m ▂▇▇▇▅▂ \u001b[0m │  │\n",
       "│ └───────────────────┴──────┴─────────┴─────────┴─────────┴──────┴───────┴───────┴───────┴─────────┴──────────┘  │\n",
       "╰────────────────────────────────────────────────────── End ──────────────────────────────────────────────────────╯\n"
      ]
     },
     "metadata": {},
     "output_type": "display_data"
    }
   ],
   "source": [
    "skim(pois,header_style=\"italic magenta\")"
   ]
  },
  {
   "cell_type": "code",
   "execution_count": 24,
   "metadata": {},
   "outputs": [
    {
     "name": "stdout",
     "output_type": "stream",
     "text": [
      "<class 'pandas.core.frame.DataFrame'>\n",
      "RangeIndex: 200 entries, 0 to 199\n",
      "Data columns (total 4 columns):\n",
      " #   Column      Non-Null Count  Dtype   \n",
      "---  ------      --------------  -----   \n",
      " 0   id          200 non-null    int64   \n",
      " 1   num_awards  200 non-null    int64   \n",
      " 2   prog        200 non-null    category\n",
      " 3   math        200 non-null    int64   \n",
      "dtypes: category(1), int64(3)\n",
      "memory usage: 5.1 KB\n"
     ]
    }
   ],
   "source": [
    "# recode\n",
    "pois[\"prog\"] = pois[\"prog\"].astype(\"category\")\n",
    "pois[\"prog\"] = pois[\"prog\"].map({1 : \"General\",2 : \"Academic\",3:\"Vocational\"})\n",
    "pois.info()"
   ]
  },
  {
   "cell_type": "code",
   "execution_count": 25,
   "metadata": {},
   "outputs": [
    {
     "data": {
      "text/html": [
       "<pre style=\"white-space:pre;overflow-x:auto;line-height:normal;font-family:Menlo,'DejaVu Sans Mono',consolas,'Courier New',monospace\">╭──────────────────────────────────────────────── skimpy summary ─────────────────────────────────────────────────╮\n",
       "│ <span style=\"font-style: italic\">         Data Summary         </span> <span style=\"font-style: italic\">      Data Types       </span> <span style=\"font-style: italic\">       Categories        </span>                                │\n",
       "│ ┏━━━━━━━━━━━━━━━━━━━┳━━━━━━━━┓ ┏━━━━━━━━━━━━━┳━━━━━━━┓ ┏━━━━━━━━━━━━━━━━━━━━━━━┓                                │\n",
       "│ ┃<span style=\"color: #800080; text-decoration-color: #800080; font-style: italic\"> dataframe         </span>┃<span style=\"color: #800080; text-decoration-color: #800080; font-style: italic\"> Values </span>┃ ┃<span style=\"color: #800080; text-decoration-color: #800080; font-style: italic\"> Column Type </span>┃<span style=\"color: #800080; text-decoration-color: #800080; font-style: italic\"> Count </span>┃ ┃<span style=\"color: #800080; text-decoration-color: #800080; font-style: italic\"> Categorical Variables </span>┃                                │\n",
       "│ ┡━━━━━━━━━━━━━━━━━━━╇━━━━━━━━┩ ┡━━━━━━━━━━━━━╇━━━━━━━┩ ┡━━━━━━━━━━━━━━━━━━━━━━━┩                                │\n",
       "│ │ Number of rows    │ 200    │ │ int32       │ 3     │ │ prog                  │                                │\n",
       "│ │ Number of columns │ 4      │ │ category    │ 1     │ └───────────────────────┘                                │\n",
       "│ └───────────────────┴────────┘ └─────────────┴───────┘                                                          │\n",
       "│ <span style=\"font-style: italic\">                                                    number                                                    </span>  │\n",
       "│ ┏━━━━━━━━━━━━━━━━━━━━┳━━━━━━┳━━━━━━━━━┳━━━━━━━━━┳━━━━━━━━┳━━━━━━┳━━━━━━━┳━━━━━━━┳━━━━━━━┳━━━━━━━━━┳━━━━━━━━━━┓  │\n",
       "│ ┃<span style=\"font-weight: bold\"> column_name        </span>┃<span style=\"font-weight: bold\"> NA   </span>┃<span style=\"font-weight: bold\"> NA %    </span>┃<span style=\"font-weight: bold\"> mean    </span>┃<span style=\"font-weight: bold\"> sd     </span>┃<span style=\"font-weight: bold\"> p0   </span>┃<span style=\"font-weight: bold\"> p25   </span>┃<span style=\"font-weight: bold\"> p50   </span>┃<span style=\"font-weight: bold\"> p75   </span>┃<span style=\"font-weight: bold\"> p100    </span>┃<span style=\"font-weight: bold\"> hist     </span>┃  │\n",
       "│ ┡━━━━━━━━━━━━━━━━━━━━╇━━━━━━╇━━━━━━━━━╇━━━━━━━━━╇━━━━━━━━╇━━━━━━╇━━━━━━━╇━━━━━━━╇━━━━━━━╇━━━━━━━━━╇━━━━━━━━━━┩  │\n",
       "│ │ <span style=\"color: #af87ff; text-decoration-color: #af87ff\">id                </span> │ <span style=\"color: #008080; text-decoration-color: #008080\">   0</span> │ <span style=\"color: #008080; text-decoration-color: #008080\">      0</span> │ <span style=\"color: #008080; text-decoration-color: #008080\">    100</span> │ <span style=\"color: #008080; text-decoration-color: #008080\">    58</span> │ <span style=\"color: #008080; text-decoration-color: #008080\">   1</span> │ <span style=\"color: #008080; text-decoration-color: #008080\">   51</span> │ <span style=\"color: #008080; text-decoration-color: #008080\">  100</span> │ <span style=\"color: #008080; text-decoration-color: #008080\">  150</span> │ <span style=\"color: #008080; text-decoration-color: #008080\">    200</span> │ <span style=\"color: #008000; text-decoration-color: #008000\"> ▇▇▇▇▇▇ </span> │  │\n",
       "│ │ <span style=\"color: #af87ff; text-decoration-color: #af87ff\">num_awards        </span> │ <span style=\"color: #008080; text-decoration-color: #008080\">   0</span> │ <span style=\"color: #008080; text-decoration-color: #008080\">      0</span> │ <span style=\"color: #008080; text-decoration-color: #008080\">   0.63</span> │ <span style=\"color: #008080; text-decoration-color: #008080\">   1.1</span> │ <span style=\"color: #008080; text-decoration-color: #008080\">   0</span> │ <span style=\"color: #008080; text-decoration-color: #008080\">    0</span> │ <span style=\"color: #008080; text-decoration-color: #008080\">    0</span> │ <span style=\"color: #008080; text-decoration-color: #008080\">    1</span> │ <span style=\"color: #008080; text-decoration-color: #008080\">      6</span> │ <span style=\"color: #008000; text-decoration-color: #008000\">  ▇▃▁▁  </span> │  │\n",
       "│ │ <span style=\"color: #af87ff; text-decoration-color: #af87ff\">math              </span> │ <span style=\"color: #008080; text-decoration-color: #008080\">   0</span> │ <span style=\"color: #008080; text-decoration-color: #008080\">      0</span> │ <span style=\"color: #008080; text-decoration-color: #008080\">     53</span> │ <span style=\"color: #008080; text-decoration-color: #008080\">   9.4</span> │ <span style=\"color: #008080; text-decoration-color: #008080\">  33</span> │ <span style=\"color: #008080; text-decoration-color: #008080\">   45</span> │ <span style=\"color: #008080; text-decoration-color: #008080\">   52</span> │ <span style=\"color: #008080; text-decoration-color: #008080\">   59</span> │ <span style=\"color: #008080; text-decoration-color: #008080\">     75</span> │ <span style=\"color: #008000; text-decoration-color: #008000\"> ▂▇▇▇▅▂ </span> │  │\n",
       "│ └────────────────────┴──────┴─────────┴─────────┴────────┴──────┴───────┴───────┴───────┴─────────┴──────────┘  │\n",
       "│ <span style=\"font-style: italic\">                                                   category                                                   </span>  │\n",
       "│ ┏━━━━━━━━━━━━━━━━━━━━━━━━━━━━━━━━━━┳━━━━━━━━━━━┳━━━━━━━━━━━━━━━━┳━━━━━━━━━━━━━━━━━━━━━━━┳━━━━━━━━━━━━━━━━━━━━┓  │\n",
       "│ ┃<span style=\"font-weight: bold\"> column_name                      </span>┃<span style=\"font-weight: bold\"> NA        </span>┃<span style=\"font-weight: bold\"> NA %           </span>┃<span style=\"font-weight: bold\"> ordered               </span>┃<span style=\"font-weight: bold\"> unique             </span>┃  │\n",
       "│ ┡━━━━━━━━━━━━━━━━━━━━━━━━━━━━━━━━━━╇━━━━━━━━━━━╇━━━━━━━━━━━━━━━━╇━━━━━━━━━━━━━━━━━━━━━━━╇━━━━━━━━━━━━━━━━━━━━┩  │\n",
       "│ │ <span style=\"color: #af87ff; text-decoration-color: #af87ff\">prog                            </span> │ <span style=\"color: #008080; text-decoration-color: #008080\">        0</span> │ <span style=\"color: #008080; text-decoration-color: #008080\">             0</span> │ <span style=\"color: #00d7ff; text-decoration-color: #00d7ff\">False                </span> │ <span style=\"color: #008080; text-decoration-color: #008080\">                 3</span> │  │\n",
       "│ └──────────────────────────────────┴───────────┴────────────────┴───────────────────────┴────────────────────┘  │\n",
       "╰────────────────────────────────────────────────────── End ──────────────────────────────────────────────────────╯\n",
       "</pre>\n"
      ],
      "text/plain": [
       "╭──────────────────────────────────────────────── skimpy summary ─────────────────────────────────────────────────╮\n",
       "│ \u001b[3m         Data Summary         \u001b[0m \u001b[3m      Data Types       \u001b[0m \u001b[3m       Categories        \u001b[0m                                │\n",
       "│ ┏━━━━━━━━━━━━━━━━━━━┳━━━━━━━━┓ ┏━━━━━━━━━━━━━┳━━━━━━━┓ ┏━━━━━━━━━━━━━━━━━━━━━━━┓                                │\n",
       "│ ┃\u001b[3;35m \u001b[0m\u001b[3;35mdataframe        \u001b[0m\u001b[3;35m \u001b[0m┃\u001b[3;35m \u001b[0m\u001b[3;35mValues\u001b[0m\u001b[3;35m \u001b[0m┃ ┃\u001b[3;35m \u001b[0m\u001b[3;35mColumn Type\u001b[0m\u001b[3;35m \u001b[0m┃\u001b[3;35m \u001b[0m\u001b[3;35mCount\u001b[0m\u001b[3;35m \u001b[0m┃ ┃\u001b[3;35m \u001b[0m\u001b[3;35mCategorical Variables\u001b[0m\u001b[3;35m \u001b[0m┃                                │\n",
       "│ ┡━━━━━━━━━━━━━━━━━━━╇━━━━━━━━┩ ┡━━━━━━━━━━━━━╇━━━━━━━┩ ┡━━━━━━━━━━━━━━━━━━━━━━━┩                                │\n",
       "│ │ Number of rows    │ 200    │ │ int32       │ 3     │ │ prog                  │                                │\n",
       "│ │ Number of columns │ 4      │ │ category    │ 1     │ └───────────────────────┘                                │\n",
       "│ └───────────────────┴────────┘ └─────────────┴───────┘                                                          │\n",
       "│ \u001b[3m                                                    number                                                    \u001b[0m  │\n",
       "│ ┏━━━━━━━━━━━━━━━━━━━━┳━━━━━━┳━━━━━━━━━┳━━━━━━━━━┳━━━━━━━━┳━━━━━━┳━━━━━━━┳━━━━━━━┳━━━━━━━┳━━━━━━━━━┳━━━━━━━━━━┓  │\n",
       "│ ┃\u001b[1m \u001b[0m\u001b[1mcolumn_name       \u001b[0m\u001b[1m \u001b[0m┃\u001b[1m \u001b[0m\u001b[1mNA  \u001b[0m\u001b[1m \u001b[0m┃\u001b[1m \u001b[0m\u001b[1mNA %   \u001b[0m\u001b[1m \u001b[0m┃\u001b[1m \u001b[0m\u001b[1mmean   \u001b[0m\u001b[1m \u001b[0m┃\u001b[1m \u001b[0m\u001b[1msd    \u001b[0m\u001b[1m \u001b[0m┃\u001b[1m \u001b[0m\u001b[1mp0  \u001b[0m\u001b[1m \u001b[0m┃\u001b[1m \u001b[0m\u001b[1mp25  \u001b[0m\u001b[1m \u001b[0m┃\u001b[1m \u001b[0m\u001b[1mp50  \u001b[0m\u001b[1m \u001b[0m┃\u001b[1m \u001b[0m\u001b[1mp75  \u001b[0m\u001b[1m \u001b[0m┃\u001b[1m \u001b[0m\u001b[1mp100   \u001b[0m\u001b[1m \u001b[0m┃\u001b[1m \u001b[0m\u001b[1mhist    \u001b[0m\u001b[1m \u001b[0m┃  │\n",
       "│ ┡━━━━━━━━━━━━━━━━━━━━╇━━━━━━╇━━━━━━━━━╇━━━━━━━━━╇━━━━━━━━╇━━━━━━╇━━━━━━━╇━━━━━━━╇━━━━━━━╇━━━━━━━━━╇━━━━━━━━━━┩  │\n",
       "│ │ \u001b[38;5;141mid                \u001b[0m │ \u001b[36m   0\u001b[0m │ \u001b[36m      0\u001b[0m │ \u001b[36m    100\u001b[0m │ \u001b[36m    58\u001b[0m │ \u001b[36m   1\u001b[0m │ \u001b[36m   51\u001b[0m │ \u001b[36m  100\u001b[0m │ \u001b[36m  150\u001b[0m │ \u001b[36m    200\u001b[0m │ \u001b[32m ▇▇▇▇▇▇ \u001b[0m │  │\n",
       "│ │ \u001b[38;5;141mnum_awards        \u001b[0m │ \u001b[36m   0\u001b[0m │ \u001b[36m      0\u001b[0m │ \u001b[36m   0.63\u001b[0m │ \u001b[36m   1.1\u001b[0m │ \u001b[36m   0\u001b[0m │ \u001b[36m    0\u001b[0m │ \u001b[36m    0\u001b[0m │ \u001b[36m    1\u001b[0m │ \u001b[36m      6\u001b[0m │ \u001b[32m  ▇▃▁▁  \u001b[0m │  │\n",
       "│ │ \u001b[38;5;141mmath              \u001b[0m │ \u001b[36m   0\u001b[0m │ \u001b[36m      0\u001b[0m │ \u001b[36m     53\u001b[0m │ \u001b[36m   9.4\u001b[0m │ \u001b[36m  33\u001b[0m │ \u001b[36m   45\u001b[0m │ \u001b[36m   52\u001b[0m │ \u001b[36m   59\u001b[0m │ \u001b[36m     75\u001b[0m │ \u001b[32m ▂▇▇▇▅▂ \u001b[0m │  │\n",
       "│ └────────────────────┴──────┴─────────┴─────────┴────────┴──────┴───────┴───────┴───────┴─────────┴──────────┘  │\n",
       "│ \u001b[3m                                                   category                                                   \u001b[0m  │\n",
       "│ ┏━━━━━━━━━━━━━━━━━━━━━━━━━━━━━━━━━━┳━━━━━━━━━━━┳━━━━━━━━━━━━━━━━┳━━━━━━━━━━━━━━━━━━━━━━━┳━━━━━━━━━━━━━━━━━━━━┓  │\n",
       "│ ┃\u001b[1m \u001b[0m\u001b[1mcolumn_name                     \u001b[0m\u001b[1m \u001b[0m┃\u001b[1m \u001b[0m\u001b[1mNA       \u001b[0m\u001b[1m \u001b[0m┃\u001b[1m \u001b[0m\u001b[1mNA %          \u001b[0m\u001b[1m \u001b[0m┃\u001b[1m \u001b[0m\u001b[1mordered              \u001b[0m\u001b[1m \u001b[0m┃\u001b[1m \u001b[0m\u001b[1munique            \u001b[0m\u001b[1m \u001b[0m┃  │\n",
       "│ ┡━━━━━━━━━━━━━━━━━━━━━━━━━━━━━━━━━━╇━━━━━━━━━━━╇━━━━━━━━━━━━━━━━╇━━━━━━━━━━━━━━━━━━━━━━━╇━━━━━━━━━━━━━━━━━━━━┩  │\n",
       "│ │ \u001b[38;5;141mprog                            \u001b[0m │ \u001b[36m        0\u001b[0m │ \u001b[36m             0\u001b[0m │ \u001b[38;5;45mFalse                \u001b[0m │ \u001b[36m                 3\u001b[0m │  │\n",
       "│ └──────────────────────────────────┴───────────┴────────────────┴───────────────────────┴────────────────────┘  │\n",
       "╰────────────────────────────────────────────────────── End ──────────────────────────────────────────────────────╯\n"
      ]
     },
     "metadata": {},
     "output_type": "display_data"
    }
   ],
   "source": [
    "skim(pois,header_style=\"italic magenta\")"
   ]
  },
  {
   "cell_type": "code",
   "execution_count": 26,
   "metadata": {},
   "outputs": [
    {
     "data": {
      "text/html": [
       "<div>\n",
       "<style scoped>\n",
       "    .dataframe tbody tr th:only-of-type {\n",
       "        vertical-align: middle;\n",
       "    }\n",
       "\n",
       "    .dataframe tbody tr th {\n",
       "        vertical-align: top;\n",
       "    }\n",
       "\n",
       "    .dataframe thead th {\n",
       "        text-align: right;\n",
       "    }\n",
       "</style>\n",
       "<table border=\"1\" class=\"dataframe\">\n",
       "  <thead>\n",
       "    <tr style=\"text-align: right;\">\n",
       "      <th></th>\n",
       "      <th>id</th>\n",
       "      <th>num_awards</th>\n",
       "      <th>prog</th>\n",
       "      <th>math</th>\n",
       "    </tr>\n",
       "  </thead>\n",
       "  <tbody>\n",
       "    <tr>\n",
       "      <th>0</th>\n",
       "      <td>45</td>\n",
       "      <td>0</td>\n",
       "      <td>Vocational</td>\n",
       "      <td>41</td>\n",
       "    </tr>\n",
       "    <tr>\n",
       "      <th>1</th>\n",
       "      <td>108</td>\n",
       "      <td>0</td>\n",
       "      <td>General</td>\n",
       "      <td>41</td>\n",
       "    </tr>\n",
       "    <tr>\n",
       "      <th>2</th>\n",
       "      <td>15</td>\n",
       "      <td>0</td>\n",
       "      <td>Vocational</td>\n",
       "      <td>44</td>\n",
       "    </tr>\n",
       "    <tr>\n",
       "      <th>3</th>\n",
       "      <td>67</td>\n",
       "      <td>0</td>\n",
       "      <td>Vocational</td>\n",
       "      <td>42</td>\n",
       "    </tr>\n",
       "    <tr>\n",
       "      <th>4</th>\n",
       "      <td>153</td>\n",
       "      <td>0</td>\n",
       "      <td>Vocational</td>\n",
       "      <td>40</td>\n",
       "    </tr>\n",
       "  </tbody>\n",
       "</table>\n",
       "</div>"
      ],
      "text/plain": [
       "    id  num_awards        prog  math\n",
       "0   45           0  Vocational    41\n",
       "1  108           0     General    41\n",
       "2   15           0  Vocational    44\n",
       "3   67           0  Vocational    42\n",
       "4  153           0  Vocational    40"
      ]
     },
     "execution_count": 26,
     "metadata": {},
     "output_type": "execute_result"
    }
   ],
   "source": [
    "pois.head()"
   ]
  },
  {
   "cell_type": "code",
   "execution_count": 27,
   "metadata": {},
   "outputs": [
    {
     "data": {
      "text/html": [
       "<table class=\"simpletable\">\n",
       "<caption>Poisson Regression Results</caption>\n",
       "<tr>\n",
       "  <th>Dep. Variable:</th>      <td>num_awards</td>    <th>  No. Observations:  </th>  <td>   200</td>  \n",
       "</tr>\n",
       "<tr>\n",
       "  <th>Model:</th>                <td>Poisson</td>     <th>  Df Residuals:      </th>  <td>   196</td>  \n",
       "</tr>\n",
       "<tr>\n",
       "  <th>Method:</th>                 <td>MLE</td>       <th>  Df Model:          </th>  <td>     3</td>  \n",
       "</tr>\n",
       "<tr>\n",
       "  <th>Date:</th>            <td>Sun, 17 Sep 2023</td> <th>  Pseudo R-squ.:     </th>  <td>0.2118</td>  \n",
       "</tr>\n",
       "<tr>\n",
       "  <th>Time:</th>                <td>17:45:10</td>     <th>  Log-Likelihood:    </th> <td> -182.75</td> \n",
       "</tr>\n",
       "<tr>\n",
       "  <th>converged:</th>             <td>True</td>       <th>  LL-Null:           </th> <td> -231.86</td> \n",
       "</tr>\n",
       "<tr>\n",
       "  <th>Covariance Type:</th>     <td>nonrobust</td>    <th>  LLR p-value:       </th> <td>3.747e-21</td>\n",
       "</tr>\n",
       "</table>\n",
       "<table class=\"simpletable\">\n",
       "<tr>\n",
       "           <td></td>             <th>coef</th>     <th>std err</th>      <th>z</th>      <th>P>|z|</th>  <th>[0.025</th>    <th>0.975]</th>  \n",
       "</tr>\n",
       "<tr>\n",
       "  <th>Intercept</th>          <td>   -5.2471</td> <td>    0.658</td> <td>   -7.969</td> <td> 0.000</td> <td>   -6.538</td> <td>   -3.957</td>\n",
       "</tr>\n",
       "<tr>\n",
       "  <th>prog[T.Academic]</th>   <td>    1.0839</td> <td>    0.358</td> <td>    3.025</td> <td> 0.002</td> <td>    0.382</td> <td>    1.786</td>\n",
       "</tr>\n",
       "<tr>\n",
       "  <th>prog[T.Vocational]</th> <td>    0.3698</td> <td>    0.441</td> <td>    0.838</td> <td> 0.402</td> <td>   -0.495</td> <td>    1.234</td>\n",
       "</tr>\n",
       "<tr>\n",
       "  <th>math</th>               <td>    0.0702</td> <td>    0.011</td> <td>    6.619</td> <td> 0.000</td> <td>    0.049</td> <td>    0.091</td>\n",
       "</tr>\n",
       "</table>"
      ],
      "text/latex": [
       "\\begin{center}\n",
       "\\begin{tabular}{lclc}\n",
       "\\toprule\n",
       "\\textbf{Dep. Variable:}     &   num\\_awards    & \\textbf{  No. Observations:  } &      200    \\\\\n",
       "\\textbf{Model:}             &     Poisson      & \\textbf{  Df Residuals:      } &      196    \\\\\n",
       "\\textbf{Method:}            &       MLE        & \\textbf{  Df Model:          } &        3    \\\\\n",
       "\\textbf{Date:}              & Sun, 17 Sep 2023 & \\textbf{  Pseudo R-squ.:     } &   0.2118    \\\\\n",
       "\\textbf{Time:}              &     17:45:10     & \\textbf{  Log-Likelihood:    } &   -182.75   \\\\\n",
       "\\textbf{converged:}         &       True       & \\textbf{  LL-Null:           } &   -231.86   \\\\\n",
       "\\textbf{Covariance Type:}   &    nonrobust     & \\textbf{  LLR p-value:       } & 3.747e-21   \\\\\n",
       "\\bottomrule\n",
       "\\end{tabular}\n",
       "\\begin{tabular}{lcccccc}\n",
       "                            & \\textbf{coef} & \\textbf{std err} & \\textbf{z} & \\textbf{P$> |$z$|$} & \\textbf{[0.025} & \\textbf{0.975]}  \\\\\n",
       "\\midrule\n",
       "\\textbf{Intercept}          &      -5.2471  &        0.658     &    -7.969  &         0.000        &       -6.538    &       -3.957     \\\\\n",
       "\\textbf{prog[T.Academic]}   &       1.0839  &        0.358     &     3.025  &         0.002        &        0.382    &        1.786     \\\\\n",
       "\\textbf{prog[T.Vocational]} &       0.3698  &        0.441     &     0.838  &         0.402        &       -0.495    &        1.234     \\\\\n",
       "\\textbf{math}               &       0.0702  &        0.011     &     6.619  &         0.000        &        0.049    &        0.091     \\\\\n",
       "\\bottomrule\n",
       "\\end{tabular}\n",
       "%\\caption{Poisson Regression Results}\n",
       "\\end{center}"
      ],
      "text/plain": [
       "<class 'statsmodels.iolib.summary.Summary'>\n",
       "\"\"\"\n",
       "                          Poisson Regression Results                          \n",
       "==============================================================================\n",
       "Dep. Variable:             num_awards   No. Observations:                  200\n",
       "Model:                        Poisson   Df Residuals:                      196\n",
       "Method:                           MLE   Df Model:                            3\n",
       "Date:                Sun, 17 Sep 2023   Pseudo R-squ.:                  0.2118\n",
       "Time:                        17:45:10   Log-Likelihood:                -182.75\n",
       "converged:                       True   LL-Null:                       -231.86\n",
       "Covariance Type:            nonrobust   LLR p-value:                 3.747e-21\n",
       "======================================================================================\n",
       "                         coef    std err          z      P>|z|      [0.025      0.975]\n",
       "--------------------------------------------------------------------------------------\n",
       "Intercept             -5.2471      0.658     -7.969      0.000      -6.538      -3.957\n",
       "prog[T.Academic]       1.0839      0.358      3.025      0.002       0.382       1.786\n",
       "prog[T.Vocational]     0.3698      0.441      0.838      0.402      -0.495       1.234\n",
       "math                   0.0702      0.011      6.619      0.000       0.049       0.091\n",
       "======================================================================================\n",
       "\"\"\""
      ]
     },
     "execution_count": 27,
     "metadata": {},
     "output_type": "execute_result"
    }
   ],
   "source": [
    "poisson = smf.poisson(\"num_awards ~ prog + math\",data=pois).fit(disp=False)\n",
    "poisson.summary()"
   ]
  },
  {
   "cell_type": "code",
   "execution_count": 28,
   "metadata": {},
   "outputs": [
    {
     "data": {
      "text/plain": [
       "statsmodels.regression.linear_model.OLS"
      ]
     },
     "execution_count": 28,
     "metadata": {},
     "output_type": "execute_result"
    }
   ],
   "source": [
    "ols.model.__class__"
   ]
  },
  {
   "cell_type": "code",
   "execution_count": 29,
   "metadata": {},
   "outputs": [
    {
     "data": {
      "text/plain": [
       "statsmodels.discrete.discrete_model.Logit"
      ]
     },
     "execution_count": 29,
     "metadata": {},
     "output_type": "execute_result"
    }
   ],
   "source": [
    "glm.model.__class__"
   ]
  },
  {
   "cell_type": "code",
   "execution_count": 30,
   "metadata": {},
   "outputs": [
    {
     "data": {
      "text/plain": [
       "statsmodels.discrete.discrete_model.MNLogit"
      ]
     },
     "execution_count": 30,
     "metadata": {},
     "output_type": "execute_result"
    }
   ],
   "source": [
    "mlogit.model.__class__"
   ]
  },
  {
   "cell_type": "code",
   "execution_count": 31,
   "metadata": {},
   "outputs": [
    {
     "data": {
      "text/plain": [
       "statsmodels.miscmodels.ordinal_model.OrderedModel"
      ]
     },
     "execution_count": 31,
     "metadata": {},
     "output_type": "execute_result"
    }
   ],
   "source": [
    "ologit.model.__class__"
   ]
  },
  {
   "cell_type": "code",
   "execution_count": 32,
   "metadata": {},
   "outputs": [],
   "source": [
    "from statsmodels.stats.outliers_influence import OLSInfluence,GLMInfluence\n",
    "ols_infl = OLSInfluence(ols)\n",
    "glm_infl = GLMInfluence(glm)"
   ]
  },
  {
   "cell_type": "markdown",
   "metadata": {},
   "source": [
    "### Likelihood Ratio Test"
   ]
  },
  {
   "cell_type": "code",
   "execution_count": 33,
   "metadata": {},
   "outputs": [
    {
     "data": {
      "text/plain": [
       "LikelihoodRatioTestResult(statistic=41.45902514596207, pvalue=7.578193995643944e-08)"
      ]
     },
     "execution_count": 33,
     "metadata": {},
     "output_type": "execute_result"
    }
   ],
   "source": [
    "LikelihoodRatioTest(glm)"
   ]
  },
  {
   "cell_type": "code",
   "execution_count": 34,
   "metadata": {},
   "outputs": [
    {
     "data": {
      "text/plain": [
       "LikelihoodRatioTestResult(statistic=62.63966226359901, df_denom=2.0, pvalue=2.5001736016346817e-14)"
      ]
     },
     "execution_count": 34,
     "metadata": {},
     "output_type": "execute_result"
    }
   ],
   "source": [
    "LikelihoodRatioTest(ols)"
   ]
  },
  {
   "cell_type": "code",
   "execution_count": 35,
   "metadata": {},
   "outputs": [
    {
     "data": {
      "text/plain": [
       "LikelihoodRatioTestResult(statistic=48.2298960501376, pvalue=1.0630010486697938e-08)"
      ]
     },
     "execution_count": 35,
     "metadata": {},
     "output_type": "execute_result"
    }
   ],
   "source": [
    "LikelihoodRatioTest(mlogit)"
   ]
  },
  {
   "cell_type": "code",
   "execution_count": 36,
   "metadata": {},
   "outputs": [
    {
     "data": {
      "text/plain": [
       "LikelihoodRatioTestResult(statistic=24.18041111021023, pvalue=2.2904554437279595e-05)"
      ]
     },
     "execution_count": 36,
     "metadata": {},
     "output_type": "execute_result"
    }
   ],
   "source": [
    "LikelihoodRatioTest(ologit)"
   ]
  },
  {
   "cell_type": "code",
   "execution_count": 37,
   "metadata": {},
   "outputs": [
    {
     "data": {
      "text/plain": [
       "LikelihoodRatioTestResult(statistic=98.22261454257136, pvalue=3.746553757084853e-21)"
      ]
     },
     "execution_count": 37,
     "metadata": {},
     "output_type": "execute_result"
    }
   ],
   "source": [
    "LikelihoodRatioTest(poisson)"
   ]
  },
  {
   "cell_type": "markdown",
   "metadata": {},
   "source": [
    "### Hosmer - Lemeshow"
   ]
  },
  {
   "cell_type": "code",
   "execution_count": 38,
   "metadata": {},
   "outputs": [
    {
     "data": {
      "text/plain": [
       "HosmerLemeshowResult(statistic=11.085471996692485, df_denom=8, pvalue=0.19690311592785836)"
      ]
     },
     "execution_count": 38,
     "metadata": {},
     "output_type": "execute_result"
    }
   ],
   "source": [
    "HosmerLemeshowTest(glm)"
   ]
  },
  {
   "cell_type": "markdown",
   "metadata": {},
   "source": [
    "#### Mann - Whitney"
   ]
  },
  {
   "cell_type": "code",
   "execution_count": 39,
   "metadata": {},
   "outputs": [
    {
     "data": {
      "text/plain": [
       "MannWhitneyResult(statistic=-0.6678622859927071, pvalue=0.747889248394069)"
      ]
     },
     "execution_count": 39,
     "metadata": {},
     "output_type": "execute_result"
    }
   ],
   "source": [
    "## Mann - Withney\n",
    "MannWhitneyTest(glm)"
   ]
  },
  {
   "cell_type": "markdown",
   "metadata": {},
   "source": [
    "## Roc curve"
   ]
  },
  {
   "cell_type": "code",
   "execution_count": 40,
   "metadata": {},
   "outputs": [
    {
     "data": {
      "image/png": "[encoded data removed]",
      "text/plain": [
       "<Figure size 432x288 with 1 Axes>"
      ]
     },
     "metadata": {
      "needs_background": "light"
     },
     "output_type": "display_data"
    },
    {
     "data": {
      "text/plain": [
       "<ggplot: (168461402848)>"
      ]
     },
     "execution_count": 40,
     "metadata": {},
     "output_type": "execute_result"
    }
   ],
   "source": [
    "ggroc(glm)"
   ]
  },
  {
   "cell_type": "code",
   "execution_count": 41,
   "metadata": {},
   "outputs": [
    {
     "data": {
      "text/plain": [
       "0.071283898313802"
      ]
     },
     "execution_count": 41,
     "metadata": {},
     "output_type": "execute_result"
    }
   ],
   "source": [
    "r2_kullback(glm)"
   ]
  },
  {
   "cell_type": "code",
   "execution_count": 42,
   "metadata": {},
   "outputs": [
    {
     "data": {
      "text/plain": [
       "SymmetryTestResult(statistic=1.182190378682675, pvalue=0.11856508469808064)"
      ]
     },
     "execution_count": 42,
     "metadata": {},
     "output_type": "execute_result"
    }
   ],
   "source": [
    "from plotnine.data import mtcars\n",
    "check_symmetric(mtcars.mpg)"
   ]
  },
  {
   "cell_type": "code",
   "execution_count": 43,
   "metadata": {},
   "outputs": [
    {
     "data": {
      "text/plain": [
       "SomersDResult(statistic=0.16662340284387528, pvalue=5.331002154717063e-05, table=array([[254,  19],\n",
       "       [ 97,  30]]))"
      ]
     },
     "execution_count": 43,
     "metadata": {},
     "output_type": "execute_result"
    }
   ],
   "source": [
    "r2_somers(glm)"
   ]
  },
  {
   "cell_type": "code",
   "execution_count": 44,
   "metadata": {},
   "outputs": [
    {
     "data": {
      "text/plain": [
       "0.7071892174239844"
      ]
     },
     "execution_count": 44,
     "metadata": {},
     "output_type": "execute_result"
    }
   ],
   "source": [
    "r2_xu(ols)"
   ]
  },
  {
   "cell_type": "code",
   "execution_count": 45,
   "metadata": {},
   "outputs": [
    {
     "data": {
      "image/png": "[encoded data removed]",
      "text/plain": [
       "<Figure size 1200x1000 with 6 Axes>"
      ]
     },
     "metadata": {},
     "output_type": "display_data"
    }
   ],
   "source": [
    "check_model(ols,figsize=(12,10))"
   ]
  },
  {
   "cell_type": "markdown",
   "metadata": {},
   "source": [
    "### Accuracy score"
   ]
  },
  {
   "cell_type": "code",
   "execution_count": 46,
   "metadata": {},
   "outputs": [
    {
     "data": {
      "text/plain": [
       "0.71"
      ]
     },
     "execution_count": 46,
     "metadata": {},
     "output_type": "execute_result"
    }
   ],
   "source": [
    "accuracy_score(glm)"
   ]
  },
  {
   "cell_type": "code",
   "execution_count": 47,
   "metadata": {},
   "outputs": [
    {
     "data": {
      "text/plain": [
       "0.21181123725288886"
      ]
     },
     "execution_count": 47,
     "metadata": {},
     "output_type": "execute_result"
    }
   ],
   "source": [
    "poisson.prsquared"
   ]
  },
  {
   "cell_type": "code",
   "execution_count": 48,
   "metadata": {},
   "outputs": [
    {
     "data": {
      "text/plain": [
       "0.61"
      ]
     },
     "execution_count": 48,
     "metadata": {},
     "output_type": "execute_result"
    }
   ],
   "source": [
    "accuracy_score(mlogit)"
   ]
  },
  {
   "cell_type": "code",
   "execution_count": 49,
   "metadata": {},
   "outputs": [
    {
     "data": {
      "text/plain": [
       "0.5775"
      ]
     },
     "execution_count": 49,
     "metadata": {},
     "output_type": "execute_result"
    }
   ],
   "source": [
    "accuracy_score(ologit)"
   ]
  },
  {
   "cell_type": "code",
   "execution_count": 50,
   "metadata": {},
   "outputs": [
    {
     "data": {
      "text/plain": [
       "0.10178650650542126"
      ]
     },
     "execution_count": 50,
     "metadata": {},
     "output_type": "execute_result"
    }
   ],
   "source": [
    "r2_tjur(glm)"
   ]
  },
  {
   "cell_type": "code",
   "execution_count": 51,
   "metadata": {},
   "outputs": [
    {
     "data": {
      "text/plain": [
       "{'AIC': 708.1879127342262,\n",
       " 'AICC': 708.6985510320985,\n",
       " 'BIC': 713.9833896323992,\n",
       " 'r2 score': 0.7071892174239846,\n",
       " 'r2 score adj.': 0.6949887681499839,\n",
       " 'expl. var. score': 0.7071892174239844,\n",
       " 'mean abs. error': 175.67026394888364,\n",
       " 'median abs. error': 116.8029123342584,\n",
       " 'mean sq. error': 55854.94712515999,\n",
       " 'root mean sq. error': 236.33651246720214,\n",
       " 'mean abs. percentage error': 0.43814555141628375}"
      ]
     },
     "execution_count": 51,
     "metadata": {},
     "output_type": "execute_result"
    }
   ],
   "source": [
    "model_performance(ols,metrics=\"all\")"
   ]
  },
  {
   "cell_type": "code",
   "execution_count": 52,
   "metadata": {},
   "outputs": [
    {
     "data": {
      "text/plain": [
       "{'AIC': 470.51749247589896,\n",
       " 'AICC': 470.7312329339142,\n",
       " 'BIC': 494.4662797585469,\n",
       " 'accuracy': 0.71,\n",
       " 'r2 mcfadden': 0.08292194470084713,\n",
       " 'r2 mcfadden adj.': 0.066921193229454,\n",
       " 'r2 coxsnell': 0.09845702133885237,\n",
       " 'r2 naglekerke': 0.13799580151192056,\n",
       " 'r2 efron': 0.1014324863895315,\n",
       " 'r2 mckelvey': 0.0066827308985470645,\n",
       " 'r2 count': 0.71,\n",
       " 'r2 count adj.': 0.08661417322834646,\n",
       " 'r2 tjur': 0.10178650650542126}"
      ]
     },
     "execution_count": 52,
     "metadata": {},
     "output_type": "execute_result"
    }
   ],
   "source": [
    "model_performance(glm,metrics=\"all\")"
   ]
  },
  {
   "cell_type": "code",
   "execution_count": 53,
   "metadata": {},
   "outputs": [
    {
     "data": {
      "text/plain": [
       "{'AIC': 375.9634524301854,\n",
       " 'AICC': 368.16858063531356,\n",
       " 'BIC': 402.34999136256965,\n",
       " 'accuracy': 0.61,\n",
       " 'r2 mcfadden': 0.11815453688722355,\n",
       " 'r2 mcfadden adj.': 0.09365634249667465,\n",
       " 'r2 coxsnell': 0.21427583263584715,\n",
       " 'r2 naglekerke': 0.24626662225304194}"
      ]
     },
     "execution_count": 53,
     "metadata": {},
     "output_type": "execute_result"
    }
   ],
   "source": [
    "model_performance(mlogit,metrics=\"all\")"
   ]
  },
  {
   "cell_type": "code",
   "execution_count": 54,
   "metadata": {},
   "outputs": [
    {
     "data": {
      "text/plain": [
       "{'AIC': 727.0248715214162,\n",
       " 'AICC': 727.1771557853756,\n",
       " 'BIC': 746.9821942569562,\n",
       " 'accuracy': 0.5775,\n",
       " 'r2 mcfadden': 0.032623096025919285,\n",
       " 'r2 mcfadden adj.': 0.027226480413847454,\n",
       " 'r2 coxsnell': 0.058660132603080783,\n",
       " 'r2 naglekerke': 0.06956550592890084}"
      ]
     },
     "execution_count": 54,
     "metadata": {},
     "output_type": "execute_result"
    }
   ],
   "source": [
    "model_performance(ologit,metrics=\"all\")"
   ]
  },
  {
   "cell_type": "code",
   "execution_count": 55,
   "metadata": {},
   "outputs": [
    {
     "data": {
      "text/plain": [
       "{'lm': 7.629588692496902,\n",
       " 'lm-pvalue': 0.02204224705835547,\n",
       " 'fvalue': 4.222005812249412,\n",
       " 'f-pvalue': 0.020462597128417494,\n",
       " 'warning': 'According to Breusch-Pagan Test, Heteroscedasticity (non-constant variance) detected (p < 0.05).'}"
      ]
     },
     "execution_count": 55,
     "metadata": {},
     "output_type": "execute_result"
    }
   ],
   "source": [
    "check_heteroscedasticity(ols,test=\"bp\")"
   ]
  },
  {
   "cell_type": "code",
   "execution_count": 56,
   "metadata": {},
   "outputs": [
    {
     "data": {
      "text/plain": [
       "{'lm': 10.730094473935974,\n",
       " 'lm-pvalue': 0.057001958416795194,\n",
       " 'fvalue': 2.3980898143135674,\n",
       " 'f-pvalue': 0.05192052644257611}"
      ]
     },
     "execution_count": 56,
     "metadata": {},
     "output_type": "execute_result"
    }
   ],
   "source": [
    "check_heteroscedasticity(ols,test=\"white\")"
   ]
  },
  {
   "cell_type": "code",
   "execution_count": 57,
   "metadata": {},
   "outputs": [
    {
     "data": {
      "text/plain": [
       "{'fvalue': 0.4936187700179023,\n",
       " 'f-pvalue': 0.9486277671889443,\n",
       " 'alternative': 'increasing'}"
      ]
     },
     "execution_count": 57,
     "metadata": {},
     "output_type": "execute_result"
    }
   ],
   "source": [
    "check_heteroscedasticity(ols,test =\"gq\")"
   ]
  },
  {
   "cell_type": "markdown",
   "metadata": {},
   "source": [
    "## Autoccorrelation\n",
    "\n",
    "## Linear Model\n",
    "\n",
    "### Durbin Watson"
   ]
  },
  {
   "cell_type": "code",
   "execution_count": 58,
   "metadata": {},
   "outputs": [
    {
     "data": {
      "text/plain": [
       "2.0400073999204227"
      ]
     },
     "execution_count": 58,
     "metadata": {},
     "output_type": "execute_result"
    }
   ],
   "source": [
    "check_autocorrelation(ols,test=\"dw\")"
   ]
  },
  {
   "cell_type": "markdown",
   "metadata": {},
   "source": [
    "### Box - Pierce/ Ljung - Box"
   ]
  },
  {
   "cell_type": "code",
   "execution_count": 59,
   "metadata": {},
   "outputs": [
    {
     "data": {
      "text/html": [
       "<div>\n",
       "<style scoped>\n",
       "    .dataframe tbody tr th:only-of-type {\n",
       "        vertical-align: middle;\n",
       "    }\n",
       "\n",
       "    .dataframe tbody tr th {\n",
       "        vertical-align: top;\n",
       "    }\n",
       "\n",
       "    .dataframe thead th {\n",
       "        text-align: right;\n",
       "    }\n",
       "</style>\n",
       "<table border=\"1\" class=\"dataframe\">\n",
       "  <thead>\n",
       "    <tr style=\"text-align: right;\">\n",
       "      <th></th>\n",
       "      <th>lb_stat</th>\n",
       "      <th>lb_pvalue</th>\n",
       "      <th>bp_stat</th>\n",
       "      <th>bp_pvalue</th>\n",
       "    </tr>\n",
       "  </thead>\n",
       "  <tbody>\n",
       "    <tr>\n",
       "      <th>1</th>\n",
       "      <td>0.265987</td>\n",
       "      <td>0.606037</td>\n",
       "      <td>0.250931</td>\n",
       "      <td>0.616421</td>\n",
       "    </tr>\n",
       "  </tbody>\n",
       "</table>\n",
       "</div>"
      ],
      "text/plain": [
       "    lb_stat  lb_pvalue   bp_stat  bp_pvalue\n",
       "1  0.265987   0.606037  0.250931   0.616421"
      ]
     },
     "execution_count": 59,
     "metadata": {},
     "output_type": "execute_result"
    }
   ],
   "source": [
    "check_autocorrelation(ols,test='lb-bp',nlags=1)"
   ]
  },
  {
   "cell_type": "markdown",
   "metadata": {},
   "source": [
    "### Breusch - Godfrey"
   ]
  },
  {
   "cell_type": "code",
   "execution_count": 60,
   "metadata": {},
   "outputs": [
    {
     "data": {
      "text/plain": [
       "{'lm': 0.27164954056436386,\n",
       " 'lm-pvalue': 0.8729955938582072,\n",
       " 'fvalue': 0.1231646480990179,\n",
       " 'f-pvalue': 0.884408651001559}"
      ]
     },
     "execution_count": 60,
     "metadata": {},
     "output_type": "execute_result"
    }
   ],
   "source": [
    "check_autocorrelation(ols,test=\"bg\",nlags=2)"
   ]
  },
  {
   "cell_type": "markdown",
   "metadata": {},
   "source": [
    "### Heteroskedasticity-and-Autocorrelation-Consistent Standard Errors (HAC)"
   ]
  },
  {
   "cell_type": "code",
   "execution_count": 61,
   "metadata": {},
   "outputs": [
    {
     "data": {
      "text/plain": [
       "{'cov. ':               Intercept     poverty       single\n",
       " Intercept  87885.346704 -619.791830 -7146.849168\n",
       " poverty     -619.791830  133.375479  -102.005918\n",
       " single     -7146.849168 -102.005918   768.379735,\n",
       " 'coef. model HAC':                  Coef.    Std.Err.         t         P>|t|       [0.025  \\\n",
       " Intercept -1368.188661  287.603234 -4.757209  1.833390e-05 -1946.453719   \n",
       " poverty       6.787359   11.204011  0.605797  5.475035e-01   -15.739815   \n",
       " single      166.372670   26.892023  6.186692  1.299475e-07   112.302633   \n",
       " \n",
       "                0.975]  \n",
       " Intercept -789.923602  \n",
       " poverty     29.314533  \n",
       " single     220.442707  }"
      ]
     },
     "execution_count": 61,
     "metadata": {},
     "output_type": "execute_result"
    }
   ],
   "source": [
    "check_autocorrelation(ols,test=\"nw\",nlags=2)"
   ]
  },
  {
   "cell_type": "markdown",
   "metadata": {},
   "source": [
    "###  Feasible GLS - Cochrane-Orcutt Procedure (CORC)"
   ]
  },
  {
   "cell_type": "code",
   "execution_count": 62,
   "metadata": {},
   "outputs": [
    {
     "data": {
      "text/plain": [
       "{'coef. ':              Coef.    Std.Err.         t         P>|t|       [0.025  \\\n",
       " const -1410.962464  185.269872 -7.615715  9.593622e-10 -1783.677370   \n",
       " x1        0.217284    9.163142  0.023713  9.811821e-01   -18.216580   \n",
       " x2      178.970072   20.212053  8.854621  1.394304e-11   138.308667   \n",
       " \n",
       "             0.975]  \n",
       " const -1038.247558  \n",
       " x1       18.651148  \n",
       " x2      219.631477  ,\n",
       " 'rho': -0.10485831497888663}"
      ]
     },
     "execution_count": 62,
     "metadata": {},
     "output_type": "execute_result"
    }
   ],
   "source": [
    "check_autocorrelation(ols,test=\"corc\")"
   ]
  },
  {
   "cell_type": "markdown",
   "metadata": {},
   "source": [
    "## Logistic Regression\n",
    "\n",
    "### Durbin watson"
   ]
  },
  {
   "cell_type": "code",
   "execution_count": 63,
   "metadata": {},
   "outputs": [
    {
     "data": {
      "text/plain": [
       "1.9478844329870433"
      ]
     },
     "execution_count": 63,
     "metadata": {},
     "output_type": "execute_result"
    }
   ],
   "source": [
    "check_autocorrelation(glm,test=\"dw\")"
   ]
  },
  {
   "cell_type": "markdown",
   "metadata": {},
   "source": [
    "### Cochran - Orcutt"
   ]
  },
  {
   "cell_type": "code",
   "execution_count": 64,
   "metadata": {},
   "outputs": [
    {
     "data": {
      "text/plain": [
       "{'coef. ':           Coef.  Std.Err.         t     P>|t|    [0.025    0.975]\n",
       " const -0.266904  0.216260 -1.234179  0.217874 -0.692075  0.158268\n",
       " x1    -0.162668  0.067832 -2.398084  0.016947 -0.296027 -0.029308\n",
       " x2    -0.289009  0.070413 -4.104479  0.000049 -0.427442 -0.150575\n",
       " x3    -0.324580  0.079494 -4.083091  0.000054 -0.480866 -0.168294\n",
       " x4     0.000419  0.000212  1.976584  0.048787  0.000002  0.000836\n",
       " x5     0.159809  0.064172  2.490336  0.013174  0.033646  0.285971,\n",
       " 'rho': 0.021508516957747754}"
      ]
     },
     "execution_count": 64,
     "metadata": {},
     "output_type": "execute_result"
    }
   ],
   "source": [
    "check_autocorrelation(glm,test=\"corc\")"
   ]
  },
  {
   "cell_type": "markdown",
   "metadata": {},
   "source": [
    "## Multinomial Logistic\n",
    "\n",
    "### Cochrane - Orcutt"
   ]
  },
  {
   "cell_type": "code",
   "execution_count": 65,
   "metadata": {},
   "outputs": [
    {
     "data": {
      "text/plain": [
       "{'coef. ':           Coef.  Std.Err.         t         P>|t|    [0.025    0.975]\n",
       " const  2.459913  0.335258  7.337382  5.724919e-12  1.798716  3.121109\n",
       " x1     0.054838  0.135058  0.406037  6.851606e-01 -0.211523  0.321200\n",
       " x2    -0.252746  0.149437 -1.691316  9.237392e-02 -0.547466  0.041975\n",
       " x3    -0.032052  0.006123 -5.235047  4.247947e-07 -0.044127 -0.019977,\n",
       " 'rho': 0.08751981890300449}"
      ]
     },
     "execution_count": 65,
     "metadata": {},
     "output_type": "execute_result"
    }
   ],
   "source": [
    "check_autocorrelation(mlogit,test=\"corc\")"
   ]
  },
  {
   "cell_type": "markdown",
   "metadata": {},
   "source": [
    "## Ordered Model\n",
    "\n",
    "### Cochrane Orcut"
   ]
  },
  {
   "cell_type": "code",
   "execution_count": 66,
   "metadata": {},
   "outputs": [
    {
     "data": {
      "text/plain": [
       "{'coef. ':        Coef.  Std.Err.          t         P>|t|    [0.025    0.975]\n",
       " x1  0.362206  0.089539   4.045240  6.285144e-05  0.186175  0.538237\n",
       " x2  0.023742  0.093237   0.254643  7.991309e-01 -0.159559  0.207043\n",
       " x3  0.162389  0.013234  12.270742  1.477587e-29  0.136371  0.188406,\n",
       " 'rho': 0.068011291700019}"
      ]
     },
     "execution_count": 66,
     "metadata": {},
     "output_type": "execute_result"
    }
   ],
   "source": [
    "check_autocorrelation(ologit,test=\"corc\")"
   ]
  },
  {
   "cell_type": "code",
   "execution_count": 67,
   "metadata": {},
   "outputs": [
    {
     "data": {
      "text/html": [
       "<div>\n",
       "<style scoped>\n",
       "    .dataframe tbody tr th:only-of-type {\n",
       "        vertical-align: middle;\n",
       "    }\n",
       "\n",
       "    .dataframe tbody tr th {\n",
       "        vertical-align: top;\n",
       "    }\n",
       "\n",
       "    .dataframe thead th {\n",
       "        text-align: right;\n",
       "    }\n",
       "</style>\n",
       "<table border=\"1\" class=\"dataframe\">\n",
       "  <thead>\n",
       "    <tr style=\"text-align: right;\">\n",
       "      <th></th>\n",
       "      <th>name</th>\n",
       "      <th>mpg</th>\n",
       "      <th>cyl</th>\n",
       "      <th>disp</th>\n",
       "      <th>hp</th>\n",
       "      <th>drat</th>\n",
       "      <th>wt</th>\n",
       "      <th>qsec</th>\n",
       "      <th>vs</th>\n",
       "      <th>am</th>\n",
       "      <th>gear</th>\n",
       "      <th>carb</th>\n",
       "    </tr>\n",
       "  </thead>\n",
       "  <tbody>\n",
       "    <tr>\n",
       "      <th>0</th>\n",
       "      <td>Mazda RX4</td>\n",
       "      <td>21.0</td>\n",
       "      <td>6</td>\n",
       "      <td>160.0</td>\n",
       "      <td>110</td>\n",
       "      <td>3.90</td>\n",
       "      <td>2.620</td>\n",
       "      <td>16.46</td>\n",
       "      <td>0</td>\n",
       "      <td>1</td>\n",
       "      <td>4</td>\n",
       "      <td>4</td>\n",
       "    </tr>\n",
       "    <tr>\n",
       "      <th>1</th>\n",
       "      <td>Mazda RX4 Wag</td>\n",
       "      <td>21.0</td>\n",
       "      <td>6</td>\n",
       "      <td>160.0</td>\n",
       "      <td>110</td>\n",
       "      <td>3.90</td>\n",
       "      <td>2.875</td>\n",
       "      <td>17.02</td>\n",
       "      <td>0</td>\n",
       "      <td>1</td>\n",
       "      <td>4</td>\n",
       "      <td>4</td>\n",
       "    </tr>\n",
       "    <tr>\n",
       "      <th>2</th>\n",
       "      <td>Datsun 710</td>\n",
       "      <td>22.8</td>\n",
       "      <td>4</td>\n",
       "      <td>108.0</td>\n",
       "      <td>93</td>\n",
       "      <td>3.85</td>\n",
       "      <td>2.320</td>\n",
       "      <td>18.61</td>\n",
       "      <td>1</td>\n",
       "      <td>1</td>\n",
       "      <td>4</td>\n",
       "      <td>1</td>\n",
       "    </tr>\n",
       "    <tr>\n",
       "      <th>3</th>\n",
       "      <td>Hornet 4 Drive</td>\n",
       "      <td>21.4</td>\n",
       "      <td>6</td>\n",
       "      <td>258.0</td>\n",
       "      <td>110</td>\n",
       "      <td>3.08</td>\n",
       "      <td>3.215</td>\n",
       "      <td>19.44</td>\n",
       "      <td>1</td>\n",
       "      <td>0</td>\n",
       "      <td>3</td>\n",
       "      <td>1</td>\n",
       "    </tr>\n",
       "    <tr>\n",
       "      <th>4</th>\n",
       "      <td>Hornet Sportabout</td>\n",
       "      <td>18.7</td>\n",
       "      <td>8</td>\n",
       "      <td>360.0</td>\n",
       "      <td>175</td>\n",
       "      <td>3.15</td>\n",
       "      <td>3.440</td>\n",
       "      <td>17.02</td>\n",
       "      <td>0</td>\n",
       "      <td>0</td>\n",
       "      <td>3</td>\n",
       "      <td>2</td>\n",
       "    </tr>\n",
       "  </tbody>\n",
       "</table>\n",
       "</div>"
      ],
      "text/plain": [
       "                name   mpg  cyl   disp   hp  drat     wt   qsec  vs  am  gear  \\\n",
       "0          Mazda RX4  21.0    6  160.0  110  3.90  2.620  16.46   0   1     4   \n",
       "1      Mazda RX4 Wag  21.0    6  160.0  110  3.90  2.875  17.02   0   1     4   \n",
       "2         Datsun 710  22.8    4  108.0   93  3.85  2.320  18.61   1   1     4   \n",
       "3     Hornet 4 Drive  21.4    6  258.0  110  3.08  3.215  19.44   1   0     3   \n",
       "4  Hornet Sportabout  18.7    8  360.0  175  3.15  3.440  17.02   0   0     3   \n",
       "\n",
       "   carb  \n",
       "0     4  \n",
       "1     4  \n",
       "2     1  \n",
       "3     1  \n",
       "4     2  "
      ]
     },
     "execution_count": 67,
     "metadata": {},
     "output_type": "execute_result"
    }
   ],
   "source": [
    "from plotnine.data import mtcars\n",
    "\n",
    "mtcars.head()"
   ]
  },
  {
   "cell_type": "code",
   "execution_count": 68,
   "metadata": {},
   "outputs": [
    {
     "data": {
      "text/html": [
       "<div>\n",
       "<style scoped>\n",
       "    .dataframe tbody tr th:only-of-type {\n",
       "        vertical-align: middle;\n",
       "    }\n",
       "\n",
       "    .dataframe tbody tr th {\n",
       "        vertical-align: top;\n",
       "    }\n",
       "\n",
       "    .dataframe thead th {\n",
       "        text-align: right;\n",
       "    }\n",
       "</style>\n",
       "<table border=\"1\" class=\"dataframe\">\n",
       "  <thead>\n",
       "    <tr style=\"text-align: right;\">\n",
       "      <th></th>\n",
       "      <th>mpg</th>\n",
       "      <th>cyl</th>\n",
       "      <th>disp</th>\n",
       "      <th>hp</th>\n",
       "      <th>drat</th>\n",
       "      <th>wt</th>\n",
       "      <th>qsec</th>\n",
       "      <th>vs</th>\n",
       "      <th>am</th>\n",
       "      <th>gear</th>\n",
       "      <th>carb</th>\n",
       "    </tr>\n",
       "    <tr>\n",
       "      <th>name</th>\n",
       "      <th></th>\n",
       "      <th></th>\n",
       "      <th></th>\n",
       "      <th></th>\n",
       "      <th></th>\n",
       "      <th></th>\n",
       "      <th></th>\n",
       "      <th></th>\n",
       "      <th></th>\n",
       "      <th></th>\n",
       "      <th></th>\n",
       "    </tr>\n",
       "  </thead>\n",
       "  <tbody>\n",
       "    <tr>\n",
       "      <th>Mazda RX4</th>\n",
       "      <td>21.0</td>\n",
       "      <td>6</td>\n",
       "      <td>160.0</td>\n",
       "      <td>110</td>\n",
       "      <td>3.90</td>\n",
       "      <td>2.620</td>\n",
       "      <td>16.46</td>\n",
       "      <td>0</td>\n",
       "      <td>1</td>\n",
       "      <td>4</td>\n",
       "      <td>4</td>\n",
       "    </tr>\n",
       "    <tr>\n",
       "      <th>Mazda RX4 Wag</th>\n",
       "      <td>21.0</td>\n",
       "      <td>6</td>\n",
       "      <td>160.0</td>\n",
       "      <td>110</td>\n",
       "      <td>3.90</td>\n",
       "      <td>2.875</td>\n",
       "      <td>17.02</td>\n",
       "      <td>0</td>\n",
       "      <td>1</td>\n",
       "      <td>4</td>\n",
       "      <td>4</td>\n",
       "    </tr>\n",
       "    <tr>\n",
       "      <th>Datsun 710</th>\n",
       "      <td>22.8</td>\n",
       "      <td>4</td>\n",
       "      <td>108.0</td>\n",
       "      <td>93</td>\n",
       "      <td>3.85</td>\n",
       "      <td>2.320</td>\n",
       "      <td>18.61</td>\n",
       "      <td>1</td>\n",
       "      <td>1</td>\n",
       "      <td>4</td>\n",
       "      <td>1</td>\n",
       "    </tr>\n",
       "    <tr>\n",
       "      <th>Hornet 4 Drive</th>\n",
       "      <td>21.4</td>\n",
       "      <td>6</td>\n",
       "      <td>258.0</td>\n",
       "      <td>110</td>\n",
       "      <td>3.08</td>\n",
       "      <td>3.215</td>\n",
       "      <td>19.44</td>\n",
       "      <td>1</td>\n",
       "      <td>0</td>\n",
       "      <td>3</td>\n",
       "      <td>1</td>\n",
       "    </tr>\n",
       "    <tr>\n",
       "      <th>Hornet Sportabout</th>\n",
       "      <td>18.7</td>\n",
       "      <td>8</td>\n",
       "      <td>360.0</td>\n",
       "      <td>175</td>\n",
       "      <td>3.15</td>\n",
       "      <td>3.440</td>\n",
       "      <td>17.02</td>\n",
       "      <td>0</td>\n",
       "      <td>0</td>\n",
       "      <td>3</td>\n",
       "      <td>2</td>\n",
       "    </tr>\n",
       "  </tbody>\n",
       "</table>\n",
       "</div>"
      ],
      "text/plain": [
       "                    mpg  cyl   disp   hp  drat     wt   qsec  vs  am  gear  \\\n",
       "name                                                                         \n",
       "Mazda RX4          21.0    6  160.0  110  3.90  2.620  16.46   0   1     4   \n",
       "Mazda RX4 Wag      21.0    6  160.0  110  3.90  2.875  17.02   0   1     4   \n",
       "Datsun 710         22.8    4  108.0   93  3.85  2.320  18.61   1   1     4   \n",
       "Hornet 4 Drive     21.4    6  258.0  110  3.08  3.215  19.44   1   0     3   \n",
       "Hornet Sportabout  18.7    8  360.0  175  3.15  3.440  17.02   0   0     3   \n",
       "\n",
       "                   carb  \n",
       "name                     \n",
       "Mazda RX4             4  \n",
       "Mazda RX4 Wag         4  \n",
       "Datsun 710            1  \n",
       "Hornet 4 Drive        1  \n",
       "Hornet Sportabout     2  "
      ]
     },
     "execution_count": 68,
     "metadata": {},
     "output_type": "execute_result"
    }
   ],
   "source": [
    "mtcars = mtcars.set_index(\"name\")\n",
    "mtcars.head()"
   ]
  },
  {
   "cell_type": "code",
   "execution_count": 85,
   "metadata": {},
   "outputs": [
    {
     "data": {
      "text/plain": [
       "KMOTestResults(value=0.5925472020281817, per_variable=[0.32313631347117067, 0.7633859857484487, 0.6648330185773383, 0.7047119273096056, 0.7429435784725651, 0.6493663908585433, 0.5698283001266957, 0.7235123067251679, 0.6759970081430624, 0.628941773717484, 0.49041648508729574])"
      ]
     },
     "execution_count": 85,
     "metadata": {},
     "output_type": "execute_result"
    }
   ],
   "source": [
    "check_kmo(mtcars)"
   ]
  },
  {
   "cell_type": "code",
   "execution_count": 86,
   "metadata": {},
   "outputs": [
    {
     "data": {
      "text/plain": [
       "BartlettSphericityTestResult(statistic=408.01163479701523, df_denom=55.0, pvalue=2.226926752118683e-55)"
      ]
     },
     "execution_count": 86,
     "metadata": {},
     "output_type": "execute_result"
    }
   ],
   "source": [
    "check_sphericity_bartlett(mtcars)"
   ]
  },
  {
   "cell_type": "markdown",
   "metadata": {},
   "source": [
    "#### Check overdispersion"
   ]
  },
  {
   "cell_type": "code",
   "execution_count": 69,
   "metadata": {},
   "outputs": [
    {
     "data": {
      "text/plain": [
       "OverdispersionTestResult(dispersion_ratio=1.082365994792688, chisq_statistic=212.14373497936685, df_denom=196.0, pvalue=0.20398603376564964)"
      ]
     },
     "execution_count": 69,
     "metadata": {},
     "output_type": "execute_result"
    }
   ],
   "source": [
    "check_overdispersion(poisson)"
   ]
  },
  {
   "cell_type": "code",
   "execution_count": 70,
   "metadata": {},
   "outputs": [
    {
     "data": {
      "text/plain": [
       "0    -1.411802\n",
       "1     0.483287\n",
       "2     0.191569\n",
       "3    -0.141537\n",
       "4     1.015537\n",
       "5    -0.610436\n",
       "6     0.359735\n",
       "7     0.367211\n",
       "8     3.163279\n",
       "9    -0.681086\n",
       "10    0.255242\n",
       "11    0.529306\n",
       "12   -0.079702\n",
       "13    1.349593\n",
       "14   -0.092263\n",
       "15    0.529979\n",
       "16   -0.301645\n",
       "17   -1.022305\n",
       "18    1.204146\n",
       "19    1.296173\n",
       "20   -1.442724\n",
       "21   -0.443665\n",
       "22   -0.126359\n",
       "23    0.785608\n",
       "24   -4.110975\n",
       "25   -1.478837\n",
       "26    0.422265\n",
       "27   -0.097768\n",
       "28    0.304479\n",
       "29   -0.381330\n",
       "30    1.366322\n",
       "31   -0.483222\n",
       "32    0.479739\n",
       "33    0.905904\n",
       "34   -0.463965\n",
       "35    0.089948\n",
       "36   -0.366781\n",
       "37    0.411649\n",
       "38   -0.423947\n",
       "39    0.910502\n",
       "40   -0.349598\n",
       "41    0.579527\n",
       "42    0.201692\n",
       "43   -0.277625\n",
       "44   -0.162876\n",
       "45   -1.781421\n",
       "46   -0.602217\n",
       "47   -0.759474\n",
       "48   -0.622729\n",
       "49   -0.965582\n",
       "50    2.796107\n",
       "dtype: float64"
      ]
     },
     "execution_count": 70,
     "metadata": {},
     "output_type": "execute_result"
    }
   ],
   "source": [
    "rstudent(ols)"
   ]
  },
  {
   "cell_type": "code",
   "execution_count": 71,
   "metadata": {},
   "outputs": [
    {
     "data": {
      "text/plain": [
       "0     -0.618946\n",
       "1      1.576468\n",
       "2      0.784628\n",
       "3      1.877893\n",
       "4     -0.504313\n",
       "         ...   \n",
       "395   -1.164222\n",
       "396   -0.603408\n",
       "397   -0.635002\n",
       "398   -1.119830\n",
       "399   -0.848949\n",
       "Length: 400, dtype: float64"
      ]
     },
     "execution_count": 71,
     "metadata": {},
     "output_type": "execute_result"
    }
   ],
   "source": [
    "rstudent(glm)"
   ]
  },
  {
   "cell_type": "code",
   "execution_count": 72,
   "metadata": {},
   "outputs": [
    {
     "data": {
      "text/plain": [
       "394.0"
      ]
     },
     "execution_count": 72,
     "metadata": {},
     "output_type": "execute_result"
    }
   ],
   "source": [
    "glm.df_resid"
   ]
  },
  {
   "cell_type": "code",
   "execution_count": 73,
   "metadata": {},
   "outputs": [
    {
     "data": {
      "text/plain": [
       "400"
      ]
     },
     "execution_count": 73,
     "metadata": {},
     "output_type": "execute_result"
    }
   ],
   "source": [
    "glm.nobs"
   ]
  },
  {
   "cell_type": "code",
   "execution_count": 74,
   "metadata": {},
   "outputs": [
    {
     "data": {
      "text/plain": [
       "0.09845702133885237"
      ]
     },
     "execution_count": 74,
     "metadata": {},
     "output_type": "execute_result"
    }
   ],
   "source": [
    "r2_coxsnell(glm)"
   ]
  },
  {
   "cell_type": "code",
   "execution_count": 75,
   "metadata": {},
   "outputs": [
    {
     "data": {
      "text/plain": [
       "<statsmodels.stats.outliers_influence.GLMInfluence at 0x27391503fd0>"
      ]
     },
     "execution_count": 75,
     "metadata": {},
     "output_type": "execute_result"
    }
   ],
   "source": [
    "#resid = glm.resid_dev\n",
    "hii = glm_infl\n",
    "hii"
   ]
  },
  {
   "cell_type": "code",
   "execution_count": 76,
   "metadata": {},
   "outputs": [
    {
     "data": {
      "text/plain": [
       "0     -0.618946\n",
       "1      1.576468\n",
       "2      0.784628\n",
       "3      1.877893\n",
       "4     -0.504313\n",
       "         ...   \n",
       "395   -1.164222\n",
       "396   -0.603408\n",
       "397   -0.635002\n",
       "398   -1.119830\n",
       "399   -0.848949\n",
       "Length: 400, dtype: float64"
      ]
     },
     "execution_count": 76,
     "metadata": {},
     "output_type": "execute_result"
    }
   ],
   "source": [
    "rstudent(glm)"
   ]
  },
  {
   "cell_type": "code",
   "execution_count": 77,
   "metadata": {},
   "outputs": [
    {
     "data": {
      "text/plain": [
       "0      0.0\n",
       "1      1.0\n",
       "2      1.0\n",
       "3      0.0\n",
       "4      0.0\n",
       "      ... \n",
       "195    0.0\n",
       "196    1.0\n",
       "197    0.0\n",
       "198    0.0\n",
       "199    0.0\n",
       "Length: 200, dtype: float64"
      ]
     },
     "execution_count": 77,
     "metadata": {},
     "output_type": "execute_result"
    }
   ],
   "source": [
    "mlogit.resid_misclassified"
   ]
  },
  {
   "cell_type": "markdown",
   "metadata": {},
   "source": [
    "## Model performance"
   ]
  },
  {
   "cell_type": "code",
   "execution_count": 78,
   "metadata": {},
   "outputs": [
    {
     "data": {
      "text/plain": [
       "{'AIC': 708.1879127342262, 'AICC': 708.6985510320985, 'BIC': 713.9833896323992}"
      ]
     },
     "execution_count": 78,
     "metadata": {},
     "output_type": "execute_result"
    }
   ],
   "source": [
    "model_performance(ols,metrics=\"common\")"
   ]
  },
  {
   "cell_type": "code",
   "execution_count": 79,
   "metadata": {},
   "outputs": [
    {
     "data": {
      "text/plain": [
       "{'AIC': 708.1879127342262,\n",
       " 'AICC': 708.6985510320985,\n",
       " 'BIC': 713.9833896323992,\n",
       " 'r2 score': 0.7071892174239846,\n",
       " 'r2 score adj.': 0.6949887681499839,\n",
       " 'expl. var. score': 0.7071892174239844,\n",
       " 'mean abs. error': 175.67026394888364,\n",
       " 'median abs. error': 116.8029123342584,\n",
       " 'mean sq. error': 55854.94712515999,\n",
       " 'root mean sq. error': 236.33651246720214,\n",
       " 'mean abs. percentage error': 0.43814555141628375}"
      ]
     },
     "execution_count": 79,
     "metadata": {},
     "output_type": "execute_result"
    }
   ],
   "source": [
    "model_performance(ols,metrics=\"all\")"
   ]
  },
  {
   "cell_type": "code",
   "execution_count": 80,
   "metadata": {},
   "outputs": [
    {
     "data": {
      "text/plain": [
       "{'AIC': 470.51749247589896,\n",
       " 'AICC': 470.7312329339142,\n",
       " 'BIC': 494.4662797585469,\n",
       " 'accuracy': 0.71,\n",
       " 'r2 mcfadden': 0.08292194470084713,\n",
       " 'r2 mcfadden adj.': 0.066921193229454,\n",
       " 'r2 coxsnell': 0.09845702133885237,\n",
       " 'r2 naglekerke': 0.13799580151192056,\n",
       " 'r2 efron': 0.1014324863895315,\n",
       " 'r2 mckelvey': 0.0066827308985470645,\n",
       " 'r2 count': 0.71,\n",
       " 'r2 count adj.': 0.08661417322834646,\n",
       " 'r2 tjur': 0.10178650650542126}"
      ]
     },
     "execution_count": 80,
     "metadata": {},
     "output_type": "execute_result"
    }
   ],
   "source": [
    "model_performance(glm,metrics=\"all\")"
   ]
  },
  {
   "cell_type": "code",
   "execution_count": 81,
   "metadata": {},
   "outputs": [
    {
     "data": {
      "text/plain": [
       "{'AIC': 375.9634524301854,\n",
       " 'AICC': 368.16858063531356,\n",
       " 'BIC': 402.34999136256965,\n",
       " 'accuracy': 0.61,\n",
       " 'r2 mcfadden': 0.11815453688722355,\n",
       " 'r2 mcfadden adj.': 0.09365634249667465,\n",
       " 'r2 coxsnell': 0.21427583263584715,\n",
       " 'r2 naglekerke': 0.24626662225304194}"
      ]
     },
     "execution_count": 81,
     "metadata": {},
     "output_type": "execute_result"
    }
   ],
   "source": [
    "model_performance(mlogit,metrics=\"all\")"
   ]
  },
  {
   "cell_type": "code",
   "execution_count": 82,
   "metadata": {},
   "outputs": [
    {
     "data": {
      "text/plain": [
       "{'AIC': 727.0248715214162,\n",
       " 'AICC': 727.1771557853756,\n",
       " 'BIC': 746.9821942569562,\n",
       " 'accuracy': 0.5775,\n",
       " 'r2 mcfadden': 0.032623096025919285,\n",
       " 'r2 mcfadden adj.': 0.027226480413847454,\n",
       " 'r2 coxsnell': 0.058660132603080783,\n",
       " 'r2 naglekerke': 0.06956550592890084}"
      ]
     },
     "execution_count": 82,
     "metadata": {},
     "output_type": "execute_result"
    }
   ],
   "source": [
    "model_performance(ologit,metrics=\"all\")"
   ]
  },
  {
   "cell_type": "code",
   "execution_count": 83,
   "metadata": {},
   "outputs": [
    {
     "data": {
      "text/plain": [
       "{'AIC': 373.50450313296517,\n",
       " 'AICC': 373.70963133809335,\n",
       " 'BIC': 386.6977725991573,\n",
       " 'pseudo r2': 0.21181123725288886}"
      ]
     },
     "execution_count": 83,
     "metadata": {},
     "output_type": "execute_result"
    }
   ],
   "source": [
    "model_performance(poisson,metrics=\"all\")"
   ]
  },
  {
   "cell_type": "code",
   "execution_count": 84,
   "metadata": {},
   "outputs": [
    {
     "data": {
      "text/html": [
       "<div>\n",
       "<style scoped>\n",
       "    .dataframe tbody tr th:only-of-type {\n",
       "        vertical-align: middle;\n",
       "    }\n",
       "\n",
       "    .dataframe tbody tr th {\n",
       "        vertical-align: top;\n",
       "    }\n",
       "\n",
       "    .dataframe thead th {\n",
       "        text-align: right;\n",
       "    }\n",
       "</style>\n",
       "<table border=\"1\" class=\"dataframe\">\n",
       "  <thead>\n",
       "    <tr style=\"text-align: right;\">\n",
       "      <th></th>\n",
       "      <th>Name</th>\n",
       "      <th>AIC</th>\n",
       "      <th>AICC</th>\n",
       "      <th>BIC</th>\n",
       "      <th>Log-Likelihood</th>\n",
       "      <th>R-squared</th>\n",
       "      <th>Adj. rsquared</th>\n",
       "      <th>RMSE</th>\n",
       "      <th>sigma</th>\n",
       "      <th>Pseudo R-squared</th>\n",
       "      <th>log loss</th>\n",
       "    </tr>\n",
       "  </thead>\n",
       "  <tbody>\n",
       "    <tr>\n",
       "      <th>Model 1</th>\n",
       "      <td>ols</td>\n",
       "      <td>708.187913</td>\n",
       "      <td>708.698551</td>\n",
       "      <td>713.983390</td>\n",
       "      <td>-351.093956</td>\n",
       "      <td>0.707189</td>\n",
       "      <td>0.694989</td>\n",
       "      <td>55854.947125</td>\n",
       "      <td>243.610101</td>\n",
       "      <td>NaN</td>\n",
       "      <td>NaN</td>\n",
       "    </tr>\n",
       "    <tr>\n",
       "      <th>Model 2</th>\n",
       "      <td>logit</td>\n",
       "      <td>470.517492</td>\n",
       "      <td>470.731233</td>\n",
       "      <td>494.466280</td>\n",
       "      <td>-229.258746</td>\n",
       "      <td>NaN</td>\n",
       "      <td>NaN</td>\n",
       "      <td>NaN</td>\n",
       "      <td>NaN</td>\n",
       "      <td>0.082922</td>\n",
       "      <td>10.452659</td>\n",
       "    </tr>\n",
       "    <tr>\n",
       "      <th>Model 3</th>\n",
       "      <td>NaN</td>\n",
       "      <td>375.963452</td>\n",
       "      <td>368.168581</td>\n",
       "      <td>402.349991</td>\n",
       "      <td>-179.981726</td>\n",
       "      <td>NaN</td>\n",
       "      <td>NaN</td>\n",
       "      <td>NaN</td>\n",
       "      <td>NaN</td>\n",
       "      <td>NaN</td>\n",
       "      <td>NaN</td>\n",
       "    </tr>\n",
       "    <tr>\n",
       "      <th>Model 4</th>\n",
       "      <td>NaN</td>\n",
       "      <td>727.024872</td>\n",
       "      <td>727.177156</td>\n",
       "      <td>746.982194</td>\n",
       "      <td>-358.512436</td>\n",
       "      <td>NaN</td>\n",
       "      <td>NaN</td>\n",
       "      <td>NaN</td>\n",
       "      <td>NaN</td>\n",
       "      <td>NaN</td>\n",
       "      <td>NaN</td>\n",
       "    </tr>\n",
       "    <tr>\n",
       "      <th>Model 5</th>\n",
       "      <td>NaN</td>\n",
       "      <td>373.504503</td>\n",
       "      <td>373.709631</td>\n",
       "      <td>386.697773</td>\n",
       "      <td>-182.752252</td>\n",
       "      <td>NaN</td>\n",
       "      <td>NaN</td>\n",
       "      <td>NaN</td>\n",
       "      <td>NaN</td>\n",
       "      <td>NaN</td>\n",
       "      <td>NaN</td>\n",
       "    </tr>\n",
       "  </tbody>\n",
       "</table>\n",
       "</div>"
      ],
      "text/plain": [
       "          Name         AIC        AICC         BIC  Log-Likelihood  R-squared  \\\n",
       "Model 1    ols  708.187913  708.698551  713.983390     -351.093956   0.707189   \n",
       "Model 2  logit  470.517492  470.731233  494.466280     -229.258746        NaN   \n",
       "Model 3    NaN  375.963452  368.168581  402.349991     -179.981726        NaN   \n",
       "Model 4    NaN  727.024872  727.177156  746.982194     -358.512436        NaN   \n",
       "Model 5    NaN  373.504503  373.709631  386.697773     -182.752252        NaN   \n",
       "\n",
       "         Adj. rsquared          RMSE       sigma  Pseudo R-squared   log loss  \n",
       "Model 1       0.694989  55854.947125  243.610101               NaN        NaN  \n",
       "Model 2            NaN           NaN         NaN          0.082922  10.452659  \n",
       "Model 3            NaN           NaN         NaN               NaN        NaN  \n",
       "Model 4            NaN           NaN         NaN               NaN        NaN  \n",
       "Model 5            NaN           NaN         NaN               NaN        NaN  "
      ]
     },
     "execution_count": 84,
     "metadata": {},
     "output_type": "execute_result"
    }
   ],
   "source": [
    "compare_performance(model=[ols,glm,mlogit,ologit,poisson])"
   ]
  }
 ],
 "metadata": {
  "kernelspec": {
   "display_name": "Python 3",
   "language": "python",
   "name": "python3"
  },
  "language_info": {
   "codemirror_mode": {
    "name": "ipython",
    "version": 3
   },
   "file_extension": ".py",
   "mimetype": "text/x-python",
   "name": "python",
   "nbconvert_exporter": "python",
   "pygments_lexer": "ipython3",
   "version": "3.10.5"
  },
  "orig_nbformat": 4
 },
 "nbformat": 4,
 "nbformat_minor": 2
}
